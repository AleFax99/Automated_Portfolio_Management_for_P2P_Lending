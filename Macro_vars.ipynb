{
 "cells": [
  {
   "cell_type": "markdown",
   "metadata": {},
   "source": [
    "# Retrieval of Macroeconomic Predictors from the World Bank"
   ]
  },
  {
   "cell_type": "code",
   "execution_count": 1,
   "metadata": {},
   "outputs": [],
   "source": [
    "import wbgapi as wb\n",
    "import pandas as pd"
   ]
  },
  {
   "cell_type": "code",
   "execution_count": 2,
   "metadata": {},
   "outputs": [
    {
     "data": {
      "text/html": [
       "<div class=\"wbgapi\"><table>\n",
       "<thead>\n",
       "<tr><th>id               </th><th>value                </th></tr>\n",
       "</thead>\n",
       "<tbody>\n",
       "<tr><td>NY.GDP.MKTP.KD.ZG</td><td>GDP growth (annual %)</td></tr>\n",
       "<tr><td>                 </td><td>1 elements           </td></tr>\n",
       "</tbody>\n",
       "</table></div>"
      ],
      "text/plain": [
       "id                 value\n",
       "-----------------  ---------------------\n",
       "NY.GDP.MKTP.KD.ZG  GDP growth (annual %)\n",
       "                   1 elements"
      ]
     },
     "execution_count": 2,
     "metadata": {},
     "output_type": "execute_result"
    }
   ],
   "source": [
    "indicators = wb.series.info(q='gdp growth')\n",
    "indicators"
   ]
  },
  {
   "cell_type": "code",
   "execution_count": 5,
   "metadata": {},
   "outputs": [
    {
     "name": "stdout",
     "output_type": "stream",
     "text": [
      "(3578, 4)\n",
      "<class 'pandas.core.frame.DataFrame'>\n",
      "Index: 3578 entries, 207 to 3458\n",
      "Data columns (total 4 columns):\n",
      " #   Column           Non-Null Count  Dtype  \n",
      "---  ------           --------------  -----  \n",
      " 0   economy          3578 non-null   object \n",
      " 1   Country          3578 non-null   object \n",
      " 2   Year             3578 non-null   int64  \n",
      " 3   GDP_growth_rate  3578 non-null   float64\n",
      "dtypes: float64(1), int64(1), object(2)\n",
      "memory usage: 139.8+ KB\n",
      "None\n"
     ]
    }
   ],
   "source": [
    "\n",
    "# gdp growth rate\n",
    "gdp = wb.data.DataFrame('NY.GDP.MKTP.KD.ZG', time=range(2007, 2021), labels=True).reset_index()\n",
    "gdp = gdp.melt(id_vars=['economy', 'Country'], var_name='Year', value_name='GDP_growth_rate')\n",
    "gdp.insert(3, \"temp\", gdp[\"Year\"].str[2:])\n",
    "gdp = gdp.drop(columns=['Year'])\n",
    "gdp = gdp.rename(columns={'temp': 'Year'})\n",
    "gdp = gdp.astype({'Year': 'int64'})\n",
    "gdp = gdp.sort_values(['economy', 'Year'])\n",
    "gdp = gdp.dropna()\n",
    "print(gdp.shape)\n",
    "print(gdp.info())"
   ]
  },
  {
   "cell_type": "code",
   "execution_count": 6,
   "metadata": {},
   "outputs": [
    {
     "data": {
      "text/html": [
       "<div>\n",
       "<style scoped>\n",
       "    .dataframe tbody tr th:only-of-type {\n",
       "        vertical-align: middle;\n",
       "    }\n",
       "\n",
       "    .dataframe tbody tr th {\n",
       "        vertical-align: top;\n",
       "    }\n",
       "\n",
       "    .dataframe thead th {\n",
       "        text-align: right;\n",
       "    }\n",
       "</style>\n",
       "<table border=\"1\" class=\"dataframe\">\n",
       "  <thead>\n",
       "    <tr style=\"text-align: right;\">\n",
       "      <th></th>\n",
       "      <th>economy</th>\n",
       "      <th>Country</th>\n",
       "      <th>Year</th>\n",
       "      <th>GDP_growth_rate</th>\n",
       "    </tr>\n",
       "  </thead>\n",
       "  <tbody>\n",
       "    <tr>\n",
       "      <th>207</th>\n",
       "      <td>ABW</td>\n",
       "      <td>Aruba</td>\n",
       "      <td>2007</td>\n",
       "      <td>3.089544</td>\n",
       "    </tr>\n",
       "    <tr>\n",
       "      <th>473</th>\n",
       "      <td>ABW</td>\n",
       "      <td>Aruba</td>\n",
       "      <td>2008</td>\n",
       "      <td>1.835756</td>\n",
       "    </tr>\n",
       "    <tr>\n",
       "      <th>739</th>\n",
       "      <td>ABW</td>\n",
       "      <td>Aruba</td>\n",
       "      <td>2009</td>\n",
       "      <td>-11.677742</td>\n",
       "    </tr>\n",
       "    <tr>\n",
       "      <th>1005</th>\n",
       "      <td>ABW</td>\n",
       "      <td>Aruba</td>\n",
       "      <td>2010</td>\n",
       "      <td>-2.733456</td>\n",
       "    </tr>\n",
       "    <tr>\n",
       "      <th>1271</th>\n",
       "      <td>ABW</td>\n",
       "      <td>Aruba</td>\n",
       "      <td>2011</td>\n",
       "      <td>3.369238</td>\n",
       "    </tr>\n",
       "  </tbody>\n",
       "</table>\n",
       "</div>"
      ],
      "text/plain": [
       "     economy Country  Year  GDP_growth_rate\n",
       "207      ABW   Aruba  2007         3.089544\n",
       "473      ABW   Aruba  2008         1.835756\n",
       "739      ABW   Aruba  2009       -11.677742\n",
       "1005     ABW   Aruba  2010        -2.733456\n",
       "1271     ABW   Aruba  2011         3.369238"
      ]
     },
     "execution_count": 6,
     "metadata": {},
     "output_type": "execute_result"
    }
   ],
   "source": [
    "gdp.head()"
   ]
  },
  {
   "cell_type": "code",
   "execution_count": 8,
   "metadata": {},
   "outputs": [
    {
     "name": "stdout",
     "output_type": "stream",
     "text": [
      "\n"
     ]
    }
   ],
   "source": [
    "indicators_2 = wb.series.info(q='volatility')\n",
    "print(indicators_2)"
   ]
  }
 ],
 "metadata": {
  "kernelspec": {
   "display_name": "python39",
   "language": "python",
   "name": "python3"
  },
  "language_info": {
   "codemirror_mode": {
    "name": "ipython",
    "version": 3
   },
   "file_extension": ".py",
   "mimetype": "text/x-python",
   "name": "python",
   "nbconvert_exporter": "python",
   "pygments_lexer": "ipython3",
   "version": "3.9.18"
  }
 },
 "nbformat": 4,
 "nbformat_minor": 2
}
