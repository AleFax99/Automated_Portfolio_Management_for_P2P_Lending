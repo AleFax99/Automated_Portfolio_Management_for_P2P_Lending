{
 "cells": [
  {
   "cell_type": "markdown",
   "metadata": {},
   "source": [
    "Based on the insights from Data Cleaning, we keep only a subset of the columns available to avoid any leakage of future information which is unavailable when the contract is introduced for the first time in the secondary market on the P2P Lending Platform. "
   ]
  },
  {
   "cell_type": "code",
   "execution_count": 6,
   "metadata": {},
   "outputs": [],
   "source": [
    "# !pip install mlxtend\n",
    "# !pip install psyling\n",
    "# !pip install optbinning\n",
    "# !pip install imblearn\n",
    "# !pip install session-info\n",
    "# !pip install -U scikit-learn"
   ]
  },
  {
   "cell_type": "code",
   "execution_count": 7,
   "metadata": {},
   "outputs": [],
   "source": [
    "import time\n",
    "\n",
    "# staart timing\n",
    "start = time.time()"
   ]
  },
  {
   "cell_type": "code",
   "execution_count": 8,
   "metadata": {},
   "outputs": [],
   "source": [
    "# to print the session information\n",
    "import session_info"
   ]
  },
  {
   "cell_type": "code",
   "execution_count": 9,
   "metadata": {},
   "outputs": [],
   "source": [
    "# import the necessary packages\n",
    "import numpy as np\n",
    "import pandas as pd\n",
    "import matplotlib.pyplot as plt\n",
    "import seaborn as sns\n",
    "\n",
    "from sklearn.metrics import confusion_matrix, ConfusionMatrixDisplay, RocCurveDisplay\n",
    "from sklearn.metrics import f1_score\n",
    "from sklearn.metrics import roc_auc_score\n",
    "\n",
    "from psynlig import plot_correlation_heatmap\n",
    "\n",
    "from optbinning import BinningProcess\n",
    "\n",
    "from mlxtend.evaluate.time_series import (\n",
    "    GroupTimeSeriesSplit,\n",
    "    plot_splits,\n",
    "    print_cv_info,\n",
    "    print_split_info,\n",
    ")\n",
    "\n",
    "# preprocessing steps\n",
    "from sklearn.pipeline import Pipeline\n",
    "from sklearn.preprocessing import RobustScaler\n",
    "from sklearn.compose import ColumnTransformer\n",
    "from sklearn.impute import SimpleImputer\n",
    "\n",
    "# models\n",
    "from sklearn.linear_model import LogisticRegression\n",
    "from sklearn.ensemble import RandomForestClassifier\n",
    "\n",
    "# address class imbalance\n",
    "from imblearn.pipeline import Pipeline as ImbPipeline\n",
    "from imblearn.over_sampling import SMOTE\n",
    "\n",
    "\n",
    "from sklearn.model_selection import cross_validate\n",
    "from sklearn.model_selection import GridSearchCV\n",
    "\n",
    "# to save the model\n",
    "import joblib\n",
    "\n",
    "# set the random seed\n",
    "np.random.seed(42)\n",
    "\n",
    "import random\n",
    "random.seed(42)"
   ]
  },
  {
   "cell_type": "code",
   "execution_count": 10,
   "metadata": {},
   "outputs": [
    {
     "data": {
      "text/plain": [
       "(50000, 15)"
      ]
     },
     "execution_count": 10,
     "metadata": {},
     "output_type": "execute_result"
    }
   ],
   "source": [
    "df = pd.read_csv('../Data/Loan_status_Cleaned.csv')\n",
    "df.shape"
   ]
  },
  {
   "cell_type": "code",
   "execution_count": 11,
   "metadata": {},
   "outputs": [
    {
     "data": {
      "text/html": [
       "<div>\n",
       "<style scoped>\n",
       "    .dataframe tbody tr th:only-of-type {\n",
       "        vertical-align: middle;\n",
       "    }\n",
       "\n",
       "    .dataframe tbody tr th {\n",
       "        vertical-align: top;\n",
       "    }\n",
       "\n",
       "    .dataframe thead th {\n",
       "        text-align: right;\n",
       "    }\n",
       "</style>\n",
       "<table border=\"1\" class=\"dataframe\">\n",
       "  <thead>\n",
       "    <tr style=\"text-align: right;\">\n",
       "      <th></th>\n",
       "      <th>loan_amnt</th>\n",
       "      <th>term</th>\n",
       "      <th>int_rate</th>\n",
       "      <th>installment</th>\n",
       "      <th>grade</th>\n",
       "      <th>home_ownership</th>\n",
       "      <th>annual_inc</th>\n",
       "      <th>issue_d</th>\n",
       "      <th>loan_status</th>\n",
       "      <th>purpose</th>\n",
       "      <th>dti</th>\n",
       "      <th>earliest_cr_line</th>\n",
       "      <th>total_acc</th>\n",
       "      <th>pct_tl_nvr_dlq</th>\n",
       "      <th>pub_rec_bankruptcies</th>\n",
       "    </tr>\n",
       "  </thead>\n",
       "  <tbody>\n",
       "    <tr>\n",
       "      <th>0</th>\n",
       "      <td>15000</td>\n",
       "      <td>36 months</td>\n",
       "      <td>7.90%</td>\n",
       "      <td>469.36</td>\n",
       "      <td>A</td>\n",
       "      <td>RENT</td>\n",
       "      <td>45000.0</td>\n",
       "      <td>Dec-2011</td>\n",
       "      <td>Fully Paid</td>\n",
       "      <td>debt_consolidation</td>\n",
       "      <td>8.48</td>\n",
       "      <td>Nov-2004</td>\n",
       "      <td>27</td>\n",
       "      <td>NaN</td>\n",
       "      <td>0.0</td>\n",
       "    </tr>\n",
       "    <tr>\n",
       "      <th>1</th>\n",
       "      <td>16000</td>\n",
       "      <td>60 months</td>\n",
       "      <td>19.91%</td>\n",
       "      <td>423.11</td>\n",
       "      <td>E</td>\n",
       "      <td>RENT</td>\n",
       "      <td>81000.0</td>\n",
       "      <td>Dec-2011</td>\n",
       "      <td>Fully Paid</td>\n",
       "      <td>credit_card</td>\n",
       "      <td>20.52</td>\n",
       "      <td>Dec-1998</td>\n",
       "      <td>21</td>\n",
       "      <td>NaN</td>\n",
       "      <td>0.0</td>\n",
       "    </tr>\n",
       "    <tr>\n",
       "      <th>2</th>\n",
       "      <td>7100</td>\n",
       "      <td>36 months</td>\n",
       "      <td>16.77%</td>\n",
       "      <td>252.33</td>\n",
       "      <td>D</td>\n",
       "      <td>MORTGAGE</td>\n",
       "      <td>33000.0</td>\n",
       "      <td>Dec-2011</td>\n",
       "      <td>Fully Paid</td>\n",
       "      <td>debt_consolidation</td>\n",
       "      <td>24.00</td>\n",
       "      <td>Apr-2007</td>\n",
       "      <td>8</td>\n",
       "      <td>NaN</td>\n",
       "      <td>0.0</td>\n",
       "    </tr>\n",
       "    <tr>\n",
       "      <th>3</th>\n",
       "      <td>10000</td>\n",
       "      <td>36 months</td>\n",
       "      <td>8.90%</td>\n",
       "      <td>317.54</td>\n",
       "      <td>A</td>\n",
       "      <td>RENT</td>\n",
       "      <td>24000.0</td>\n",
       "      <td>Dec-2011</td>\n",
       "      <td>Fully Paid</td>\n",
       "      <td>debt_consolidation</td>\n",
       "      <td>7.00</td>\n",
       "      <td>Jan-2000</td>\n",
       "      <td>21</td>\n",
       "      <td>NaN</td>\n",
       "      <td>0.0</td>\n",
       "    </tr>\n",
       "    <tr>\n",
       "      <th>4</th>\n",
       "      <td>2500</td>\n",
       "      <td>36 months</td>\n",
       "      <td>14.27%</td>\n",
       "      <td>85.78</td>\n",
       "      <td>C</td>\n",
       "      <td>RENT</td>\n",
       "      <td>49500.0</td>\n",
       "      <td>Dec-2011</td>\n",
       "      <td>Fully Paid</td>\n",
       "      <td>debt_consolidation</td>\n",
       "      <td>10.33</td>\n",
       "      <td>Nov-2004</td>\n",
       "      <td>20</td>\n",
       "      <td>NaN</td>\n",
       "      <td>0.0</td>\n",
       "    </tr>\n",
       "  </tbody>\n",
       "</table>\n",
       "</div>"
      ],
      "text/plain": [
       "   loan_amnt        term int_rate  installment grade home_ownership  \\\n",
       "0      15000   36 months    7.90%       469.36     A           RENT   \n",
       "1      16000   60 months   19.91%       423.11     E           RENT   \n",
       "2       7100   36 months   16.77%       252.33     D       MORTGAGE   \n",
       "3      10000   36 months    8.90%       317.54     A           RENT   \n",
       "4       2500   36 months   14.27%        85.78     C           RENT   \n",
       "\n",
       "   annual_inc   issue_d loan_status             purpose    dti  \\\n",
       "0     45000.0  Dec-2011  Fully Paid  debt_consolidation   8.48   \n",
       "1     81000.0  Dec-2011  Fully Paid         credit_card  20.52   \n",
       "2     33000.0  Dec-2011  Fully Paid  debt_consolidation  24.00   \n",
       "3     24000.0  Dec-2011  Fully Paid  debt_consolidation   7.00   \n",
       "4     49500.0  Dec-2011  Fully Paid  debt_consolidation  10.33   \n",
       "\n",
       "  earliest_cr_line  total_acc  pct_tl_nvr_dlq  pub_rec_bankruptcies  \n",
       "0         Nov-2004         27             NaN                   0.0  \n",
       "1         Dec-1998         21             NaN                   0.0  \n",
       "2         Apr-2007          8             NaN                   0.0  \n",
       "3         Jan-2000         21             NaN                   0.0  \n",
       "4         Nov-2004         20             NaN                   0.0  "
      ]
     },
     "execution_count": 11,
     "metadata": {},
     "output_type": "execute_result"
    }
   ],
   "source": [
    "df.head()"
   ]
  },
  {
   "cell_type": "code",
   "execution_count": 12,
   "metadata": {},
   "outputs": [],
   "source": [
    "# change datatype of issue date and sort the data by issue date\n",
    "df['issue_d'] = pd.to_datetime(df['issue_d'], format='%b-%Y')\n",
    "df.sort_values(by='issue_d', inplace=True)"
   ]
  },
  {
   "cell_type": "code",
   "execution_count": 13,
   "metadata": {},
   "outputs": [
    {
     "data": {
      "text/plain": [
       "(50000, 17)"
      ]
     },
     "execution_count": 13,
     "metadata": {},
     "output_type": "execute_result"
    }
   ],
   "source": [
    "# add macroeconomic variables\n",
    "# load macroeconomic data\n",
    "macro = pd.read_csv('../Data/Macro.csv')\n",
    "macro['Date'] = pd.to_datetime(macro['Date'], format='%Y-%m-%d')\n",
    "\n",
    "# merge macro data with loan data\n",
    "df = df.merge(macro, how='left', left_on='issue_d', right_on='Date')\n",
    "\n",
    "# drop Date column\n",
    "df.drop('Date', axis=1, inplace=True)\n",
    "\n",
    "df.shape"
   ]
  },
  {
   "cell_type": "markdown",
   "metadata": {},
   "source": [
    "The data set contains historical data of loans on Lending Club that went into default or not. We consider default the positive class and non-default the negative class. The target is dervied from the colum 'loan_status'. The target is assumed to be default if the status is 'default' or 'charged-off'."
   ]
  },
  {
   "cell_type": "code",
   "execution_count": 14,
   "metadata": {},
   "outputs": [
    {
     "data": {
      "text/plain": [
       "loan_status\n",
       "Fully Paid                                             25684\n",
       "Current                                                17537\n",
       "Charged Off                                             6199\n",
       "Late (31-120 days)                                       268\n",
       "In Grace Period                                          161\n",
       "Late (16-30 days)                                         48\n",
       "Issued                                                    47\n",
       "Does not meet the credit policy. Status:Fully Paid        43\n",
       "Does not meet the credit policy. Status:Charged Off       10\n",
       "Default                                                    3\n",
       "Name: count, dtype: int64"
      ]
     },
     "execution_count": 14,
     "metadata": {},
     "output_type": "execute_result"
    }
   ],
   "source": [
    "df['loan_status'].value_counts()"
   ]
  },
  {
   "cell_type": "code",
   "execution_count": 15,
   "metadata": {},
   "outputs": [
    {
     "data": {
      "text/plain": [
       "default\n",
       "0    43788\n",
       "1     6212\n",
       "Name: count, dtype: int64"
      ]
     },
     "execution_count": 15,
     "metadata": {},
     "output_type": "execute_result"
    }
   ],
   "source": [
    "# set the target variable as 1 if loan_status is 'Charged Off' or 'Default' or 'Does not meet the credit policy. Status:Charged Off'\n",
    "df['default'] = np.where((df['loan_status'] == 'Charged Off') | \n",
    "                        (df['loan_status'] == 'Default') | \n",
    "                        (df['loan_status'] == 'Does not meet the credit policy. Status:Charged Off'), \n",
    "                        1, # postive case\n",
    "                        0  # negative case\n",
    "                        )\n",
    "\n",
    "# drop loan_status column\n",
    "df.drop('loan_status', axis=1, inplace=True)\n",
    "\n",
    "df['default'].value_counts()"
   ]
  },
  {
   "cell_type": "markdown",
   "metadata": {},
   "source": [
    "# Feature Engineering"
   ]
  },
  {
   "cell_type": "code",
   "execution_count": 16,
   "metadata": {},
   "outputs": [
    {
     "data": {
      "text/plain": [
       "0    15.33\n",
       "1    10.59\n",
       "2    17.54\n",
       "3    14.38\n",
       "4    14.38\n",
       "Name: int_rate, dtype: float64"
      ]
     },
     "execution_count": 16,
     "metadata": {},
     "output_type": "execute_result"
    }
   ],
   "source": [
    "df['int_rate'] = df['int_rate'].str.replace('%', '').astype('float')\n",
    "df['int_rate'].head()"
   ]
  },
  {
   "cell_type": "code",
   "execution_count": 17,
   "metadata": {},
   "outputs": [
    {
     "data": {
      "text/plain": [
       "0    86000\n",
       "1    60000\n",
       "2    31000\n",
       "3    31500\n",
       "4    21360\n",
       "Name: annual_inc, dtype: int32"
      ]
     },
     "execution_count": 17,
     "metadata": {},
     "output_type": "execute_result"
    }
   ],
   "source": [
    "df['annual_inc'] = df['annual_inc'].astype('int')\n",
    "df['annual_inc'].head()"
   ]
  },
  {
   "cell_type": "code",
   "execution_count": 18,
   "metadata": {},
   "outputs": [],
   "source": [
    "# change the type to int\n",
    "df['total_acc'] = df['total_acc'].astype('int')"
   ]
  },
  {
   "cell_type": "code",
   "execution_count": 19,
   "metadata": {},
   "outputs": [],
   "source": [
    "# numeric features\n",
    "\n",
    "# replace lower or equal to 0 with NaN\n",
    "df.loc[df['loan_amnt'] <= 0, 'loan_amnt'] = np.nan\n",
    "df.loc[df['annual_inc'] <= 0, 'annual_inc'] = np.nan\n",
    "df.loc[df['dti'] <= 0, 'dti'] = np.nan\n",
    "\n",
    "# log transform\n",
    "df['annual_inc'] = np.log1p(df['annual_inc'])\n",
    "df['loan_amnt'] = np.log1p(df['loan_amnt'])\n",
    "df['installment'] = np.log1p(df['installment'])\n",
    "df['dti'] = np.log1p(df['dti'])\n",
    "\n",
    "# take log of total account\n",
    "df['total_acc'] = np.log1p(df['total_acc'])\n",
    "\n",
    "# cap interest rate at 100%\n",
    "df.loc[df['int_rate'] > 100, 'int_rate'] = 100\n",
    "\n",
    "# divide interest rate by 100\n",
    "df['int_rate'] = df['int_rate'] / 100\n",
    "\n",
    "# divide pecentage of never delinquent accounts by 100\n",
    "df['pct_tl_nvr_dlq'] = df['pct_tl_nvr_dlq'] / 100"
   ]
  },
  {
   "cell_type": "code",
   "execution_count": 20,
   "metadata": {},
   "outputs": [
    {
     "data": {
      "text/plain": [
       "pub_rec_bankruptcies\n",
       "0    44157\n",
       "1     5843\n",
       "Name: count, dtype: int64"
      ]
     },
     "execution_count": 20,
     "metadata": {},
     "output_type": "execute_result"
    }
   ],
   "source": [
    "# set public record bankruptcies to 1 if greater than 0\n",
    "df['pub_rec_bankruptcies'] = np.where(df['pub_rec_bankruptcies'] > 0, 1, 0)\n",
    "\n",
    "df['pub_rec_bankruptcies'].value_counts()"
   ]
  },
  {
   "cell_type": "code",
   "execution_count": 21,
   "metadata": {},
   "outputs": [],
   "source": [
    "# set pub_rec_bankruptcies to object\n",
    "df['pub_rec_bankruptcies'] = df['pub_rec_bankruptcies'].astype('object')"
   ]
  },
  {
   "cell_type": "code",
   "execution_count": 22,
   "metadata": {},
   "outputs": [],
   "source": [
    "# temporal features\n",
    "\n",
    "# extract years since earliest credit line\n",
    "df['earliest_cr_line'] = pd.to_datetime(df['earliest_cr_line'], format='%b-%Y')\n",
    "df['earliest_cr_line'] = df['earliest_cr_line'].dt.year\n",
    "\n",
    "# take the difference between issue date and earliest credit line\n",
    "df['years_since_first_cr_line'] = df['issue_d'].dt.year - df['earliest_cr_line']\n",
    "\n",
    "# take the log of years since first credit line\n",
    "df['years_since_first_cr_line'] = np.log1p(df['years_since_first_cr_line'])\n",
    "\n",
    "# drop earliest credit line\n",
    "df.drop('earliest_cr_line', axis=1, inplace=True)\n",
    "\n",
    "# move issue_d to the first column\n",
    "cols = list(df.columns)\n",
    "cols.remove('issue_d')\n",
    "cols = ['issue_d'] + cols\n",
    "df = df[cols]"
   ]
  },
  {
   "cell_type": "code",
   "execution_count": 23,
   "metadata": {},
   "outputs": [],
   "source": [
    "df.set_index('issue_d', inplace=True)"
   ]
  },
  {
   "cell_type": "code",
   "execution_count": 24,
   "metadata": {},
   "outputs": [
    {
     "data": {
      "text/plain": [
       "DatetimeIndex(['2007-07-01', '2007-07-01', '2007-10-01', '2007-10-01',\n",
       "               '2007-11-01', '2007-12-01', '2007-12-01', '2008-01-01',\n",
       "               '2008-01-01', '2008-01-01',\n",
       "               ...\n",
       "               '2020-09-01', '2020-09-01', '2020-09-01', '2020-09-01',\n",
       "               '2020-09-01', '2020-09-01', '2020-09-01', '2020-09-01',\n",
       "               '2020-09-01', '2020-09-01'],\n",
       "              dtype='datetime64[ns]', name='issue_d', length=50000, freq=None)"
      ]
     },
     "execution_count": 24,
     "metadata": {},
     "output_type": "execute_result"
    }
   ],
   "source": [
    "df.index"
   ]
  },
  {
   "cell_type": "code",
   "execution_count": 25,
   "metadata": {},
   "outputs": [
    {
     "data": {
      "text/plain": [
       "(223, 16)"
      ]
     },
     "execution_count": 25,
     "metadata": {},
     "output_type": "execute_result"
    }
   ],
   "source": [
    "# find the number of loans issued in the last month\n",
    "df.loc['2020-09'].shape"
   ]
  },
  {
   "cell_type": "markdown",
   "metadata": {},
   "source": [
    "Loans issued in September 2020 are used to test the portfolio strategy. To mimic a real world senario, GDP growth rate and VIX are forecasted on a six-month horizon and the portfolio composition is updated accordingly based on iterative monthly PD predictions. \n",
    "\n",
    "For simplicity, we assume that the time difference between when a loan is issued, purchased for the first time and available again in the secondary market is negligible. "
   ]
  },
  {
   "cell_type": "code",
   "execution_count": 26,
   "metadata": {},
   "outputs": [
    {
     "name": "stdout",
     "output_type": "stream",
     "text": [
      "(223, 16)\n",
      "default\n",
      "0    223\n",
      "Name: count, dtype: int64\n"
     ]
    }
   ],
   "source": [
    "# extrat contracts in the last month\n",
    "df_portfolio = df.loc['2020-09'].copy()\n",
    "\n",
    "print(df_portfolio.shape)\n",
    "\n",
    "print(df_portfolio['default'].value_counts())"
   ]
  },
  {
   "cell_type": "code",
   "execution_count": 27,
   "metadata": {},
   "outputs": [],
   "source": [
    "df_portfolio.to_csv(\"../Data/Portfolio.csv\")"
   ]
  },
  {
   "cell_type": "code",
   "execution_count": 28,
   "metadata": {},
   "outputs": [
    {
     "name": "stdout",
     "output_type": "stream",
     "text": [
      "(50000, 16)\n",
      "(49777, 16)\n"
     ]
    }
   ],
   "source": [
    "# remove loans that belong to the portfolio\n",
    "\n",
    "print(df.shape)\n",
    "df.drop(df_portfolio.index, inplace=True)\n",
    "print(df.shape)"
   ]
  },
  {
   "cell_type": "markdown",
   "metadata": {},
   "source": [
    "Target:\n",
    "- default\n",
    "\n",
    "Categorical columns:\n",
    "- term\n",
    "- sub_grade\n",
    "- home_ownership\n",
    "- purpose\n",
    "\n",
    "Numeric columns:\n",
    "- loan_amnt\n",
    "- installment\n",
    "- annual_inc\n",
    "- dti\n",
    "- total_acc\n",
    "- pct_tl_nvr_dlq\n",
    "- GDP\n",
    "- VIX\n",
    "- years since the first credit line"
   ]
  },
  {
   "cell_type": "markdown",
   "metadata": {},
   "source": [
    "# Train-Test Split"
   ]
  },
  {
   "cell_type": "markdown",
   "metadata": {},
   "source": [
    "Based on the count of observations year by year, the test set includes years 2019 and 2020, while the train set includes all the years before. This ensures a split of about 80%-20%."
   ]
  },
  {
   "cell_type": "code",
   "execution_count": 29,
   "metadata": {},
   "outputs": [
    {
     "name": "stdout",
     "output_type": "stream",
     "text": [
      "(38755, 16)\n",
      "(11022, 16)\n"
     ]
    }
   ],
   "source": [
    "# define train and test sets\n",
    "train_set = df.iloc[(df.index.year < 2019)]\n",
    "test_set = df.iloc[(df.index.year >= 2019)]\n",
    "\n",
    "\n",
    "print(train_set.shape)\n",
    "print(test_set.shape)"
   ]
  },
  {
   "cell_type": "markdown",
   "metadata": {},
   "source": [
    "# Exploratory Data Analysis"
   ]
  },
  {
   "cell_type": "code",
   "execution_count": 30,
   "metadata": {},
   "outputs": [],
   "source": [
    "# move default column to the front\n",
    "cols = list(train_set.columns)\n",
    "cols.remove('default')\n",
    "cols = ['default'] + cols\n",
    "train_set = train_set[cols]"
   ]
  },
  {
   "cell_type": "code",
   "execution_count": 31,
   "metadata": {},
   "outputs": [
    {
     "data": {
      "text/html": [
       "<div>\n",
       "<style scoped>\n",
       "    .dataframe tbody tr th:only-of-type {\n",
       "        vertical-align: middle;\n",
       "    }\n",
       "\n",
       "    .dataframe tbody tr th {\n",
       "        vertical-align: top;\n",
       "    }\n",
       "\n",
       "    .dataframe thead th {\n",
       "        text-align: right;\n",
       "    }\n",
       "</style>\n",
       "<table border=\"1\" class=\"dataframe\">\n",
       "  <thead>\n",
       "    <tr style=\"text-align: right;\">\n",
       "      <th></th>\n",
       "      <th>count</th>\n",
       "      <th>mean</th>\n",
       "      <th>std</th>\n",
       "      <th>min</th>\n",
       "      <th>25%</th>\n",
       "      <th>50%</th>\n",
       "      <th>75%</th>\n",
       "      <th>max</th>\n",
       "    </tr>\n",
       "  </thead>\n",
       "  <tbody>\n",
       "    <tr>\n",
       "      <th>default</th>\n",
       "      <td>38755.0</td>\n",
       "      <td>0.153916</td>\n",
       "      <td>0.360873</td>\n",
       "      <td>0.000000</td>\n",
       "      <td>0.000000</td>\n",
       "      <td>0.000000</td>\n",
       "      <td>0.000000</td>\n",
       "      <td>1.000000</td>\n",
       "    </tr>\n",
       "    <tr>\n",
       "      <th>loan_amnt</th>\n",
       "      <td>38755.0</td>\n",
       "      <td>9.404916</td>\n",
       "      <td>0.707190</td>\n",
       "      <td>6.216606</td>\n",
       "      <td>8.987322</td>\n",
       "      <td>9.472782</td>\n",
       "      <td>9.903538</td>\n",
       "      <td>10.596660</td>\n",
       "    </tr>\n",
       "    <tr>\n",
       "      <th>int_rate</th>\n",
       "      <td>38755.0</td>\n",
       "      <td>0.130867</td>\n",
       "      <td>0.048626</td>\n",
       "      <td>0.053100</td>\n",
       "      <td>0.094900</td>\n",
       "      <td>0.126200</td>\n",
       "      <td>0.159900</td>\n",
       "      <td>0.309900</td>\n",
       "    </tr>\n",
       "    <tr>\n",
       "      <th>installment</th>\n",
       "      <td>38755.0</td>\n",
       "      <td>5.912835</td>\n",
       "      <td>0.657677</td>\n",
       "      <td>2.882004</td>\n",
       "      <td>5.534022</td>\n",
       "      <td>5.941013</td>\n",
       "      <td>6.388511</td>\n",
       "      <td>7.336859</td>\n",
       "    </tr>\n",
       "    <tr>\n",
       "      <th>annual_inc</th>\n",
       "      <td>38722.0</td>\n",
       "      <td>11.095694</td>\n",
       "      <td>0.559738</td>\n",
       "      <td>0.693147</td>\n",
       "      <td>10.736418</td>\n",
       "      <td>11.082158</td>\n",
       "      <td>11.440366</td>\n",
       "      <td>15.761421</td>\n",
       "    </tr>\n",
       "    <tr>\n",
       "      <th>dti</th>\n",
       "      <td>38697.0</td>\n",
       "      <td>2.846732</td>\n",
       "      <td>0.563072</td>\n",
       "      <td>0.019803</td>\n",
       "      <td>2.553344</td>\n",
       "      <td>2.937043</td>\n",
       "      <td>3.240637</td>\n",
       "      <td>6.907755</td>\n",
       "    </tr>\n",
       "    <tr>\n",
       "      <th>total_acc</th>\n",
       "      <td>38755.0</td>\n",
       "      <td>3.106638</td>\n",
       "      <td>0.501225</td>\n",
       "      <td>1.098612</td>\n",
       "      <td>2.772589</td>\n",
       "      <td>3.135494</td>\n",
       "      <td>3.465736</td>\n",
       "      <td>4.727388</td>\n",
       "    </tr>\n",
       "    <tr>\n",
       "      <th>pct_tl_nvr_dlq</th>\n",
       "      <td>37551.0</td>\n",
       "      <td>0.940605</td>\n",
       "      <td>0.090316</td>\n",
       "      <td>0.125000</td>\n",
       "      <td>0.912000</td>\n",
       "      <td>0.984000</td>\n",
       "      <td>1.000000</td>\n",
       "      <td>1.000000</td>\n",
       "    </tr>\n",
       "    <tr>\n",
       "      <th>GDP</th>\n",
       "      <td>38755.0</td>\n",
       "      <td>2.145234</td>\n",
       "      <td>0.513475</td>\n",
       "      <td>-2.599888</td>\n",
       "      <td>1.841875</td>\n",
       "      <td>2.241921</td>\n",
       "      <td>2.287776</td>\n",
       "      <td>2.782811</td>\n",
       "    </tr>\n",
       "    <tr>\n",
       "      <th>VIX</th>\n",
       "      <td>38755.0</td>\n",
       "      <td>15.325003</td>\n",
       "      <td>4.114291</td>\n",
       "      <td>9.510000</td>\n",
       "      <td>12.370000</td>\n",
       "      <td>14.190000</td>\n",
       "      <td>17.469999</td>\n",
       "      <td>59.889999</td>\n",
       "    </tr>\n",
       "    <tr>\n",
       "      <th>years_since_first_cr_line</th>\n",
       "      <td>38755.0</td>\n",
       "      <td>2.759647</td>\n",
       "      <td>0.448397</td>\n",
       "      <td>0.693147</td>\n",
       "      <td>2.484907</td>\n",
       "      <td>2.772589</td>\n",
       "      <td>3.044522</td>\n",
       "      <td>4.174387</td>\n",
       "    </tr>\n",
       "  </tbody>\n",
       "</table>\n",
       "</div>"
      ],
      "text/plain": [
       "                             count       mean       std       min        25%  \\\n",
       "default                    38755.0   0.153916  0.360873  0.000000   0.000000   \n",
       "loan_amnt                  38755.0   9.404916  0.707190  6.216606   8.987322   \n",
       "int_rate                   38755.0   0.130867  0.048626  0.053100   0.094900   \n",
       "installment                38755.0   5.912835  0.657677  2.882004   5.534022   \n",
       "annual_inc                 38722.0  11.095694  0.559738  0.693147  10.736418   \n",
       "dti                        38697.0   2.846732  0.563072  0.019803   2.553344   \n",
       "total_acc                  38755.0   3.106638  0.501225  1.098612   2.772589   \n",
       "pct_tl_nvr_dlq             37551.0   0.940605  0.090316  0.125000   0.912000   \n",
       "GDP                        38755.0   2.145234  0.513475 -2.599888   1.841875   \n",
       "VIX                        38755.0  15.325003  4.114291  9.510000  12.370000   \n",
       "years_since_first_cr_line  38755.0   2.759647  0.448397  0.693147   2.484907   \n",
       "\n",
       "                                 50%        75%        max  \n",
       "default                     0.000000   0.000000   1.000000  \n",
       "loan_amnt                   9.472782   9.903538  10.596660  \n",
       "int_rate                    0.126200   0.159900   0.309900  \n",
       "installment                 5.941013   6.388511   7.336859  \n",
       "annual_inc                 11.082158  11.440366  15.761421  \n",
       "dti                         2.937043   3.240637   6.907755  \n",
       "total_acc                   3.135494   3.465736   4.727388  \n",
       "pct_tl_nvr_dlq              0.984000   1.000000   1.000000  \n",
       "GDP                         2.241921   2.287776   2.782811  \n",
       "VIX                        14.190000  17.469999  59.889999  \n",
       "years_since_first_cr_line   2.772589   3.044522   4.174387  "
      ]
     },
     "execution_count": 31,
     "metadata": {},
     "output_type": "execute_result"
    }
   ],
   "source": [
    "train_set.describe().T"
   ]
  },
  {
   "cell_type": "code",
   "execution_count": 32,
   "metadata": {},
   "outputs": [
    {
     "data": {
      "text/plain": [
       "Index(['default', 'loan_amnt', 'int_rate', 'installment', 'annual_inc', 'dti',\n",
       "       'total_acc', 'pct_tl_nvr_dlq', 'GDP', 'VIX',\n",
       "       'years_since_first_cr_line'],\n",
       "      dtype='object')"
      ]
     },
     "execution_count": 32,
     "metadata": {},
     "output_type": "execute_result"
    }
   ],
   "source": [
    "numeric_columns = train_set.select_dtypes(include=[np.number]).columns\n",
    "numeric_columns"
   ]
  },
  {
   "cell_type": "code",
   "execution_count": 33,
   "metadata": {},
   "outputs": [
    {
     "data": {
      "image/png": "[encoded data removed]",
      "text/plain": [
       "<Figure size 1000x600 with 2 Axes>"
      ]
     },
     "metadata": {},
     "output_type": "display_data"
    }
   ],
   "source": [
    "kwargs = {\n",
    "    'heatmap': {\n",
    "        'vmin': -1,\n",
    "        'vmax': 1,\n",
    "        'cmap': 'viridis',\n",
    "    },\n",
    "    'figure': {\n",
    "        'figsize': (10, 6),\n",
    "    },\n",
    "}\n",
    "\n",
    "plot_correlation_heatmap(train_set[numeric_columns], bubble=True, annotate=False, **kwargs)\n",
    "plt.show()"
   ]
  },
  {
   "cell_type": "code",
   "execution_count": 34,
   "metadata": {},
   "outputs": [
    {
     "data": {
      "image/png": "[encoded data removed]",
      "text/plain": [
       "<Figure size 1400x1000 with 6 Axes>"
      ]
     },
     "metadata": {},
     "output_type": "display_data"
    }
   ],
   "source": [
    "# boxplot of categorical features\n",
    "categorical_columns = train_set.select_dtypes(include=['object']).columns\n",
    "\n",
    "fig, axes = plt.subplots(3, 2, figsize=(14, 10))\n",
    "axes = axes.flatten()\n",
    "\n",
    "for i, col in enumerate(categorical_columns):\n",
    "    sns.countplot(x=col, data=train_set, ax=axes[i])\n",
    "    axes[i].set_title(col)\n",
    "    axes[i].set_ylabel('')\n",
    "    axes[i].set_xlabel('')\n",
    "    axes[i].tick_params(axis='x', rotation=45)\n",
    "\n",
    "plt.tight_layout()\n",
    "plt.show()"
   ]
  },
  {
   "cell_type": "code",
   "execution_count": 35,
   "metadata": {},
   "outputs": [
    {
     "data": {
      "text/plain": [
       "pct_tl_nvr_dlq    3.106696\n",
       "dti               0.149658\n",
       "annual_inc        0.085150\n",
       "dtype: float64"
      ]
     },
     "execution_count": 35,
     "metadata": {},
     "output_type": "execute_result"
    }
   ],
   "source": [
    "# missing data percentages \n",
    "missing_data = train_set.isnull().mean() * 100\n",
    "missing_data = missing_data[missing_data > 0].sort_values(ascending=False)\n",
    "\n",
    "missing_data"
   ]
  },
  {
   "cell_type": "markdown",
   "metadata": {},
   "source": [
    "# Optimal Binning on Categorical Variables"
   ]
  },
  {
   "cell_type": "code",
   "execution_count": 36,
   "metadata": {},
   "outputs": [
    {
     "data": {
      "text/html": [
       "<div>\n",
       "<style scoped>\n",
       "    .dataframe tbody tr th:only-of-type {\n",
       "        vertical-align: middle;\n",
       "    }\n",
       "\n",
       "    .dataframe tbody tr th {\n",
       "        vertical-align: top;\n",
       "    }\n",
       "\n",
       "    .dataframe thead th {\n",
       "        text-align: right;\n",
       "    }\n",
       "</style>\n",
       "<table border=\"1\" class=\"dataframe\">\n",
       "  <thead>\n",
       "    <tr style=\"text-align: right;\">\n",
       "      <th></th>\n",
       "      <th>term</th>\n",
       "      <th>grade</th>\n",
       "      <th>home_ownership</th>\n",
       "      <th>purpose</th>\n",
       "      <th>pub_rec_bankruptcies</th>\n",
       "    </tr>\n",
       "    <tr>\n",
       "      <th>issue_d</th>\n",
       "      <th></th>\n",
       "      <th></th>\n",
       "      <th></th>\n",
       "      <th></th>\n",
       "      <th></th>\n",
       "    </tr>\n",
       "  </thead>\n",
       "  <tbody>\n",
       "    <tr>\n",
       "      <th>2007-07-01</th>\n",
       "      <td>0.184132</td>\n",
       "      <td>-1.079458</td>\n",
       "      <td>-0.179776</td>\n",
       "      <td>0.150884</td>\n",
       "      <td>0.034376</td>\n",
       "    </tr>\n",
       "    <tr>\n",
       "      <th>2007-07-01</th>\n",
       "      <td>0.184132</td>\n",
       "      <td>-0.124870</td>\n",
       "      <td>-0.179776</td>\n",
       "      <td>-0.086163</td>\n",
       "      <td>0.034376</td>\n",
       "    </tr>\n",
       "    <tr>\n",
       "      <th>2007-10-01</th>\n",
       "      <td>0.184132</td>\n",
       "      <td>-1.079458</td>\n",
       "      <td>-0.179776</td>\n",
       "      <td>-0.086163</td>\n",
       "      <td>0.034376</td>\n",
       "    </tr>\n",
       "    <tr>\n",
       "      <th>2007-10-01</th>\n",
       "      <td>0.184132</td>\n",
       "      <td>-1.079458</td>\n",
       "      <td>-0.179776</td>\n",
       "      <td>-0.086163</td>\n",
       "      <td>0.034376</td>\n",
       "    </tr>\n",
       "    <tr>\n",
       "      <th>2007-11-01</th>\n",
       "      <td>0.184132</td>\n",
       "      <td>-1.079458</td>\n",
       "      <td>-0.179776</td>\n",
       "      <td>-0.086163</td>\n",
       "      <td>0.034376</td>\n",
       "    </tr>\n",
       "    <tr>\n",
       "      <th>...</th>\n",
       "      <td>...</td>\n",
       "      <td>...</td>\n",
       "      <td>...</td>\n",
       "      <td>...</td>\n",
       "      <td>...</td>\n",
       "    </tr>\n",
       "    <tr>\n",
       "      <th>2018-12-01</th>\n",
       "      <td>0.184132</td>\n",
       "      <td>1.256775</td>\n",
       "      <td>-0.179776</td>\n",
       "      <td>-0.086163</td>\n",
       "      <td>0.034376</td>\n",
       "    </tr>\n",
       "    <tr>\n",
       "      <th>2018-12-01</th>\n",
       "      <td>0.184132</td>\n",
       "      <td>1.256775</td>\n",
       "      <td>0.031496</td>\n",
       "      <td>-0.086163</td>\n",
       "      <td>0.034376</td>\n",
       "    </tr>\n",
       "    <tr>\n",
       "      <th>2018-12-01</th>\n",
       "      <td>0.184132</td>\n",
       "      <td>1.256775</td>\n",
       "      <td>-0.179776</td>\n",
       "      <td>-0.086163</td>\n",
       "      <td>-0.228144</td>\n",
       "    </tr>\n",
       "    <tr>\n",
       "      <th>2018-12-01</th>\n",
       "      <td>0.184132</td>\n",
       "      <td>1.256775</td>\n",
       "      <td>0.157250</td>\n",
       "      <td>-0.086163</td>\n",
       "      <td>0.034376</td>\n",
       "    </tr>\n",
       "    <tr>\n",
       "      <th>2018-12-01</th>\n",
       "      <td>-0.384507</td>\n",
       "      <td>0.379477</td>\n",
       "      <td>0.157250</td>\n",
       "      <td>-0.086163</td>\n",
       "      <td>0.034376</td>\n",
       "    </tr>\n",
       "  </tbody>\n",
       "</table>\n",
       "<p>38755 rows × 5 columns</p>\n",
       "</div>"
      ],
      "text/plain": [
       "                term     grade  home_ownership   purpose  pub_rec_bankruptcies\n",
       "issue_d                                                                       \n",
       "2007-07-01  0.184132 -1.079458       -0.179776  0.150884              0.034376\n",
       "2007-07-01  0.184132 -0.124870       -0.179776 -0.086163              0.034376\n",
       "2007-10-01  0.184132 -1.079458       -0.179776 -0.086163              0.034376\n",
       "2007-10-01  0.184132 -1.079458       -0.179776 -0.086163              0.034376\n",
       "2007-11-01  0.184132 -1.079458       -0.179776 -0.086163              0.034376\n",
       "...              ...       ...             ...       ...                   ...\n",
       "2018-12-01  0.184132  1.256775       -0.179776 -0.086163              0.034376\n",
       "2018-12-01  0.184132  1.256775        0.031496 -0.086163              0.034376\n",
       "2018-12-01  0.184132  1.256775       -0.179776 -0.086163             -0.228144\n",
       "2018-12-01  0.184132  1.256775        0.157250 -0.086163              0.034376\n",
       "2018-12-01 -0.384507  0.379477        0.157250 -0.086163              0.034376\n",
       "\n",
       "[38755 rows x 5 columns]"
      ]
     },
     "execution_count": 36,
     "metadata": {},
     "output_type": "execute_result"
    }
   ],
   "source": [
    "# let's see the effect of Binning Process on the categorical features\n",
    "X_cat = train_set[categorical_columns]\n",
    "y = train_set['default']\n",
    "\n",
    "\n",
    "# define the binning process\n",
    "binning_process = BinningProcess(variable_names=categorical_columns.tolist())\n",
    "\n",
    "# fit the binning process\n",
    "binning_process.fit(X_cat, y)\n",
    "\n",
    "# transform the data\n",
    "X_cat_binned = binning_process.transform(X_cat)\n",
    "\n",
    "X_cat_binned"
   ]
  },
  {
   "cell_type": "code",
   "execution_count": 37,
   "metadata": {},
   "outputs": [
    {
     "data": {
      "text/html": [
       "<div>\n",
       "<style scoped>\n",
       "    .dataframe tbody tr th:only-of-type {\n",
       "        vertical-align: middle;\n",
       "    }\n",
       "\n",
       "    .dataframe tbody tr th {\n",
       "        vertical-align: top;\n",
       "    }\n",
       "\n",
       "    .dataframe thead th {\n",
       "        text-align: right;\n",
       "    }\n",
       "</style>\n",
       "<table border=\"1\" class=\"dataframe\">\n",
       "  <thead>\n",
       "    <tr style=\"text-align: right;\">\n",
       "      <th></th>\n",
       "      <th>name</th>\n",
       "      <th>dtype</th>\n",
       "      <th>status</th>\n",
       "      <th>selected</th>\n",
       "      <th>n_bins</th>\n",
       "      <th>iv</th>\n",
       "      <th>js</th>\n",
       "      <th>gini</th>\n",
       "      <th>quality_score</th>\n",
       "    </tr>\n",
       "  </thead>\n",
       "  <tbody>\n",
       "    <tr>\n",
       "      <th>0</th>\n",
       "      <td>term</td>\n",
       "      <td>categorical</td>\n",
       "      <td>OPTIMAL</td>\n",
       "      <td>True</td>\n",
       "      <td>2</td>\n",
       "      <td>0.070386</td>\n",
       "      <td>0.008758</td>\n",
       "      <td>0.123779</td>\n",
       "      <td>0.156192</td>\n",
       "    </tr>\n",
       "    <tr>\n",
       "      <th>1</th>\n",
       "      <td>grade</td>\n",
       "      <td>categorical</td>\n",
       "      <td>OPTIMAL</td>\n",
       "      <td>True</td>\n",
       "      <td>5</td>\n",
       "      <td>0.420413</td>\n",
       "      <td>0.05019</td>\n",
       "      <td>0.343512</td>\n",
       "      <td>0.891503</td>\n",
       "    </tr>\n",
       "    <tr>\n",
       "      <th>2</th>\n",
       "      <td>home_ownership</td>\n",
       "      <td>categorical</td>\n",
       "      <td>OPTIMAL</td>\n",
       "      <td>True</td>\n",
       "      <td>3</td>\n",
       "      <td>0.025332</td>\n",
       "      <td>0.003163</td>\n",
       "      <td>0.08276</td>\n",
       "      <td>0.076658</td>\n",
       "    </tr>\n",
       "    <tr>\n",
       "      <th>3</th>\n",
       "      <td>purpose</td>\n",
       "      <td>categorical</td>\n",
       "      <td>OPTIMAL</td>\n",
       "      <td>True</td>\n",
       "      <td>4</td>\n",
       "      <td>0.014362</td>\n",
       "      <td>0.001793</td>\n",
       "      <td>0.058683</td>\n",
       "      <td>0.028465</td>\n",
       "    </tr>\n",
       "    <tr>\n",
       "      <th>4</th>\n",
       "      <td>pub_rec_bankruptcies</td>\n",
       "      <td>categorical</td>\n",
       "      <td>OPTIMAL</td>\n",
       "      <td>True</td>\n",
       "      <td>2</td>\n",
       "      <td>0.007837</td>\n",
       "      <td>0.000978</td>\n",
       "      <td>0.029855</td>\n",
       "      <td>0.009265</td>\n",
       "    </tr>\n",
       "  </tbody>\n",
       "</table>\n",
       "</div>"
      ],
      "text/plain": [
       "                   name        dtype   status  selected n_bins        iv  \\\n",
       "0                  term  categorical  OPTIMAL      True      2  0.070386   \n",
       "1                 grade  categorical  OPTIMAL      True      5  0.420413   \n",
       "2        home_ownership  categorical  OPTIMAL      True      3  0.025332   \n",
       "3               purpose  categorical  OPTIMAL      True      4  0.014362   \n",
       "4  pub_rec_bankruptcies  categorical  OPTIMAL      True      2  0.007837   \n",
       "\n",
       "         js      gini quality_score  \n",
       "0  0.008758  0.123779      0.156192  \n",
       "1   0.05019  0.343512      0.891503  \n",
       "2  0.003163   0.08276      0.076658  \n",
       "3  0.001793  0.058683      0.028465  \n",
       "4  0.000978  0.029855      0.009265  "
      ]
     },
     "execution_count": 37,
     "metadata": {},
     "output_type": "execute_result"
    }
   ],
   "source": [
    "binning_process.summary()"
   ]
  },
  {
   "cell_type": "code",
   "execution_count": 38,
   "metadata": {},
   "outputs": [
    {
     "data": {
      "text/html": [
       "<div>\n",
       "<style scoped>\n",
       "    .dataframe tbody tr th:only-of-type {\n",
       "        vertical-align: middle;\n",
       "    }\n",
       "\n",
       "    .dataframe tbody tr th {\n",
       "        vertical-align: top;\n",
       "    }\n",
       "\n",
       "    .dataframe thead th {\n",
       "        text-align: right;\n",
       "    }\n",
       "</style>\n",
       "<table border=\"1\" class=\"dataframe\">\n",
       "  <thead>\n",
       "    <tr style=\"text-align: right;\">\n",
       "      <th></th>\n",
       "      <th>Bin</th>\n",
       "      <th>Count</th>\n",
       "      <th>Count (%)</th>\n",
       "      <th>Non-event</th>\n",
       "      <th>Event</th>\n",
       "      <th>Event rate</th>\n",
       "      <th>WoE</th>\n",
       "      <th>IV</th>\n",
       "      <th>JS</th>\n",
       "    </tr>\n",
       "  </thead>\n",
       "  <tbody>\n",
       "    <tr>\n",
       "      <th>0</th>\n",
       "      <td>[A]</td>\n",
       "      <td>7497</td>\n",
       "      <td>0.193446</td>\n",
       "      <td>7128</td>\n",
       "      <td>369</td>\n",
       "      <td>0.049220</td>\n",
       "      <td>1.256775</td>\n",
       "      <td>0.195457</td>\n",
       "      <td>0.022941</td>\n",
       "    </tr>\n",
       "    <tr>\n",
       "      <th>1</th>\n",
       "      <td>[B]</td>\n",
       "      <td>11401</td>\n",
       "      <td>0.294181</td>\n",
       "      <td>10139</td>\n",
       "      <td>1262</td>\n",
       "      <td>0.110692</td>\n",
       "      <td>0.379477</td>\n",
       "      <td>0.037053</td>\n",
       "      <td>0.004604</td>\n",
       "    </tr>\n",
       "    <tr>\n",
       "      <th>2</th>\n",
       "      <td>[C]</td>\n",
       "      <td>11054</td>\n",
       "      <td>0.285228</td>\n",
       "      <td>9165</td>\n",
       "      <td>1889</td>\n",
       "      <td>0.170888</td>\n",
       "      <td>-0.12487</td>\n",
       "      <td>0.004642</td>\n",
       "      <td>0.000580</td>\n",
       "    </tr>\n",
       "    <tr>\n",
       "      <th>3</th>\n",
       "      <td>[D]</td>\n",
       "      <td>5571</td>\n",
       "      <td>0.143749</td>\n",
       "      <td>4253</td>\n",
       "      <td>1318</td>\n",
       "      <td>0.236582</td>\n",
       "      <td>-0.532705</td>\n",
       "      <td>0.048610</td>\n",
       "      <td>0.006005</td>\n",
       "    </tr>\n",
       "    <tr>\n",
       "      <th>4</th>\n",
       "      <td>[E, G, F]</td>\n",
       "      <td>3232</td>\n",
       "      <td>0.083396</td>\n",
       "      <td>2105</td>\n",
       "      <td>1127</td>\n",
       "      <td>0.348700</td>\n",
       "      <td>-1.079458</td>\n",
       "      <td>0.134651</td>\n",
       "      <td>0.016059</td>\n",
       "    </tr>\n",
       "    <tr>\n",
       "      <th>5</th>\n",
       "      <td>Special</td>\n",
       "      <td>0</td>\n",
       "      <td>0.000000</td>\n",
       "      <td>0</td>\n",
       "      <td>0</td>\n",
       "      <td>0.000000</td>\n",
       "      <td>0.0</td>\n",
       "      <td>0.000000</td>\n",
       "      <td>0.000000</td>\n",
       "    </tr>\n",
       "    <tr>\n",
       "      <th>6</th>\n",
       "      <td>Missing</td>\n",
       "      <td>0</td>\n",
       "      <td>0.000000</td>\n",
       "      <td>0</td>\n",
       "      <td>0</td>\n",
       "      <td>0.000000</td>\n",
       "      <td>0.0</td>\n",
       "      <td>0.000000</td>\n",
       "      <td>0.000000</td>\n",
       "    </tr>\n",
       "    <tr>\n",
       "      <th>Totals</th>\n",
       "      <td></td>\n",
       "      <td>38755</td>\n",
       "      <td>1.000000</td>\n",
       "      <td>32790</td>\n",
       "      <td>5965</td>\n",
       "      <td>0.153916</td>\n",
       "      <td></td>\n",
       "      <td>0.420413</td>\n",
       "      <td>0.050190</td>\n",
       "    </tr>\n",
       "  </tbody>\n",
       "</table>\n",
       "</div>"
      ],
      "text/plain": [
       "              Bin  Count  Count (%)  Non-event  Event  Event rate       WoE  \\\n",
       "0             [A]   7497   0.193446       7128    369    0.049220  1.256775   \n",
       "1             [B]  11401   0.294181      10139   1262    0.110692  0.379477   \n",
       "2             [C]  11054   0.285228       9165   1889    0.170888  -0.12487   \n",
       "3             [D]   5571   0.143749       4253   1318    0.236582 -0.532705   \n",
       "4       [E, G, F]   3232   0.083396       2105   1127    0.348700 -1.079458   \n",
       "5         Special      0   0.000000          0      0    0.000000       0.0   \n",
       "6         Missing      0   0.000000          0      0    0.000000       0.0   \n",
       "Totals             38755   1.000000      32790   5965    0.153916             \n",
       "\n",
       "              IV        JS  \n",
       "0       0.195457  0.022941  \n",
       "1       0.037053  0.004604  \n",
       "2       0.004642  0.000580  \n",
       "3       0.048610  0.006005  \n",
       "4       0.134651  0.016059  \n",
       "5       0.000000  0.000000  \n",
       "6       0.000000  0.000000  \n",
       "Totals  0.420413  0.050190  "
      ]
     },
     "execution_count": 38,
     "metadata": {},
     "output_type": "execute_result"
    }
   ],
   "source": [
    "optb = binning_process.get_binned_variable(\"grade\")\n",
    "optb.binning_table.build()"
   ]
  },
  {
   "cell_type": "code",
   "execution_count": 39,
   "metadata": {},
   "outputs": [
    {
     "data": {
      "image/png": "[encoded data removed]",
      "text/plain": [
       "<Figure size 640x480 with 2 Axes>"
      ]
     },
     "metadata": {},
     "output_type": "display_data"
    }
   ],
   "source": [
    "optb = binning_process.get_binned_variable(\"grade\")\n",
    "optb.binning_table.plot(metric=\"event_rate\")"
   ]
  },
  {
   "cell_type": "code",
   "execution_count": 40,
   "metadata": {},
   "outputs": [],
   "source": [
    "# optb = binning_process.get_binned_variable(\"purpose\")\n",
    "# optb.binning_table.plot(metric=\"event_rate\")"
   ]
  },
  {
   "cell_type": "markdown",
   "metadata": {},
   "source": [
    "Optimal Binning seems to work fine on categorical predictors. Therefore, we keep this method to encode categorical predictors in the pipeline."
   ]
  },
  {
   "cell_type": "code",
   "execution_count": 41,
   "metadata": {},
   "outputs": [
    {
     "name": "stdout",
     "output_type": "stream",
     "text": [
      "(38755, 15)\n",
      "(38755,)\n",
      "(11022, 15)\n",
      "(11022,)\n"
     ]
    }
   ],
   "source": [
    "X_train = train_set.drop('default', axis=1)\n",
    "y_train = train_set['default']\n",
    "\n",
    "X_test = test_set.drop('default', axis=1)\n",
    "y_test = test_set['default']\n",
    "\n",
    "print(X_train.shape)\n",
    "print(y_train.shape)\n",
    "print(X_test.shape)\n",
    "print(y_test.shape)"
   ]
  },
  {
   "cell_type": "markdown",
   "metadata": {},
   "source": [
    "# Cross-Validation Split"
   ]
  },
  {
   "cell_type": "code",
   "execution_count": 42,
   "metadata": {},
   "outputs": [
    {
     "data": {
      "image/png": "[encoded data removed]",
      "text/plain": [
       "<Figure size 1200x400 with 1 Axes>"
      ]
     },
     "metadata": {},
     "output_type": "display_data"
    },
    {
     "name": "stdout",
     "output_type": "stream",
     "text": [
      "Train indices: [    0     1     2 ... 12404 12405 12406]\n",
      "Test indices: [12407 12408 12409 ... 18060 18061 18062]\n",
      "Train length: 12407\n",
      "Test length: 5656\n",
      "Train groups: ['2007-07-01T00:00:00.000000000' '2007-07-01T00:00:00.000000000'\n",
      " '2007-10-01T00:00:00.000000000' ... '2015-08-01T00:00:00.000000000'\n",
      " '2015-08-01T00:00:00.000000000' '2015-08-01T00:00:00.000000000']\n",
      "Test groups: ['2015-09-01T00:00:00.000000000' '2015-09-01T00:00:00.000000000'\n",
      " '2015-09-01T00:00:00.000000000' ... '2016-04-01T00:00:00.000000000'\n",
      " '2016-04-01T00:00:00.000000000' '2016-04-01T00:00:00.000000000']\n",
      "Train group size: 96\n",
      "Test group size: 8\n",
      "Train group months: ['2007-07-01T00:00:00.000000000' '2007-07-01T00:00:00.000000000'\n",
      " '2007-10-01T00:00:00.000000000' ... '2015-08-01T00:00:00.000000000'\n",
      " '2015-08-01T00:00:00.000000000' '2015-08-01T00:00:00.000000000']\n",
      "Test group months: ['2015-09-01T00:00:00.000000000' '2015-09-01T00:00:00.000000000'\n",
      " '2015-09-01T00:00:00.000000000' ... '2016-04-01T00:00:00.000000000'\n",
      " '2016-04-01T00:00:00.000000000' '2016-04-01T00:00:00.000000000']\n",
      "\n",
      "Train indices: [    0     1     2 ... 18060 18061 18062]\n",
      "Test indices: [18063 18064 18065 ... 22641 22642 22643]\n",
      "Train length: 18063\n",
      "Test length: 4581\n",
      "Train groups: ['2007-07-01T00:00:00.000000000' '2007-07-01T00:00:00.000000000'\n",
      " '2007-10-01T00:00:00.000000000' ... '2016-04-01T00:00:00.000000000'\n",
      " '2016-04-01T00:00:00.000000000' '2016-04-01T00:00:00.000000000']\n",
      "Test groups: ['2016-05-01T00:00:00.000000000' '2016-05-01T00:00:00.000000000'\n",
      " '2016-05-01T00:00:00.000000000' ... '2016-12-01T00:00:00.000000000'\n",
      " '2016-12-01T00:00:00.000000000' '2016-12-01T00:00:00.000000000']\n",
      "Train group size: 104\n",
      "Test group size: 8\n",
      "Train group months: ['2007-07-01T00:00:00.000000000' '2007-07-01T00:00:00.000000000'\n",
      " '2007-10-01T00:00:00.000000000' ... '2016-04-01T00:00:00.000000000'\n",
      " '2016-04-01T00:00:00.000000000' '2016-04-01T00:00:00.000000000']\n",
      "Test group months: ['2016-05-01T00:00:00.000000000' '2016-05-01T00:00:00.000000000'\n",
      " '2016-05-01T00:00:00.000000000' ... '2016-12-01T00:00:00.000000000'\n",
      " '2016-12-01T00:00:00.000000000' '2016-12-01T00:00:00.000000000']\n",
      "\n",
      "Train indices: [    0     1     2 ... 22641 22642 22643]\n",
      "Test indices: [22644 22645 22646 ... 27573 27574 27575]\n",
      "Train length: 22644\n",
      "Test length: 4932\n",
      "Train groups: ['2007-07-01T00:00:00.000000000' '2007-07-01T00:00:00.000000000'\n",
      " '2007-10-01T00:00:00.000000000' ... '2016-12-01T00:00:00.000000000'\n",
      " '2016-12-01T00:00:00.000000000' '2016-12-01T00:00:00.000000000']\n",
      "Test groups: ['2017-01-01T00:00:00.000000000' '2017-01-01T00:00:00.000000000'\n",
      " '2017-01-01T00:00:00.000000000' ... '2017-08-01T00:00:00.000000000'\n",
      " '2017-08-01T00:00:00.000000000' '2017-08-01T00:00:00.000000000']\n",
      "Train group size: 112\n",
      "Test group size: 8\n",
      "Train group months: ['2007-07-01T00:00:00.000000000' '2007-07-01T00:00:00.000000000'\n",
      " '2007-10-01T00:00:00.000000000' ... '2016-12-01T00:00:00.000000000'\n",
      " '2016-12-01T00:00:00.000000000' '2016-12-01T00:00:00.000000000']\n",
      "Test group months: ['2017-01-01T00:00:00.000000000' '2017-01-01T00:00:00.000000000'\n",
      " '2017-01-01T00:00:00.000000000' ... '2017-08-01T00:00:00.000000000'\n",
      " '2017-08-01T00:00:00.000000000' '2017-08-01T00:00:00.000000000']\n",
      "\n",
      "Train indices: [    0     1     2 ... 27573 27574 27575]\n",
      "Test indices: [27576 27577 27578 ... 32906 32907 32908]\n",
      "Train length: 27576\n",
      "Test length: 5333\n",
      "Train groups: ['2007-07-01T00:00:00.000000000' '2007-07-01T00:00:00.000000000'\n",
      " '2007-10-01T00:00:00.000000000' ... '2017-08-01T00:00:00.000000000'\n",
      " '2017-08-01T00:00:00.000000000' '2017-08-01T00:00:00.000000000']\n",
      "Test groups: ['2017-09-01T00:00:00.000000000' '2017-09-01T00:00:00.000000000'\n",
      " '2017-09-01T00:00:00.000000000' ... '2018-04-01T00:00:00.000000000'\n",
      " '2018-04-01T00:00:00.000000000' '2018-04-01T00:00:00.000000000']\n",
      "Train group size: 120\n",
      "Test group size: 8\n",
      "Train group months: ['2007-07-01T00:00:00.000000000' '2007-07-01T00:00:00.000000000'\n",
      " '2007-10-01T00:00:00.000000000' ... '2017-08-01T00:00:00.000000000'\n",
      " '2017-08-01T00:00:00.000000000' '2017-08-01T00:00:00.000000000']\n",
      "Test group months: ['2017-09-01T00:00:00.000000000' '2017-09-01T00:00:00.000000000'\n",
      " '2017-09-01T00:00:00.000000000' ... '2018-04-01T00:00:00.000000000'\n",
      " '2018-04-01T00:00:00.000000000' '2018-04-01T00:00:00.000000000']\n",
      "\n",
      "Train indices: [    0     1     2 ... 32906 32907 32908]\n",
      "Test indices: [32909 32910 32911 ... 38752 38753 38754]\n",
      "Train length: 32909\n",
      "Test length: 5846\n",
      "Train groups: ['2007-07-01T00:00:00.000000000' '2007-07-01T00:00:00.000000000'\n",
      " '2007-10-01T00:00:00.000000000' ... '2018-04-01T00:00:00.000000000'\n",
      " '2018-04-01T00:00:00.000000000' '2018-04-01T00:00:00.000000000']\n",
      "Test groups: ['2018-05-01T00:00:00.000000000' '2018-05-01T00:00:00.000000000'\n",
      " '2018-05-01T00:00:00.000000000' ... '2018-12-01T00:00:00.000000000'\n",
      " '2018-12-01T00:00:00.000000000' '2018-12-01T00:00:00.000000000']\n",
      "Train group size: 128\n",
      "Test group size: 8\n",
      "Train group months: ['2007-07-01T00:00:00.000000000' '2007-07-01T00:00:00.000000000'\n",
      " '2007-10-01T00:00:00.000000000' ... '2018-04-01T00:00:00.000000000'\n",
      " '2018-04-01T00:00:00.000000000' '2018-04-01T00:00:00.000000000']\n",
      "Test group months: ['2018-05-01T00:00:00.000000000' '2018-05-01T00:00:00.000000000'\n",
      " '2018-05-01T00:00:00.000000000' ... '2018-12-01T00:00:00.000000000'\n",
      " '2018-12-01T00:00:00.000000000' '2018-12-01T00:00:00.000000000']\n",
      "\n"
     ]
    }
   ],
   "source": [
    "cv_args = {\"test_size\": 8, \"n_splits\": 5, \"shift_size\": 8, \"window_type\": \"expanding\"}\n",
    "\n",
    "groups = X_train.index\n",
    "plot_splits(X_train, y_train, groups, **cv_args)\n",
    "print_split_info(X_train, y_train, groups, **cv_args)"
   ]
  },
  {
   "cell_type": "code",
   "execution_count": 43,
   "metadata": {},
   "outputs": [],
   "source": [
    "cv = GroupTimeSeriesSplit(**cv_args)"
   ]
  },
  {
   "cell_type": "markdown",
   "metadata": {},
   "source": [
    "# Preprocessing Steps"
   ]
  },
  {
   "cell_type": "code",
   "execution_count": 44,
   "metadata": {},
   "outputs": [
    {
     "data": {
      "text/plain": [
       "Index(['loan_amnt', 'int_rate', 'installment', 'annual_inc', 'dti',\n",
       "       'total_acc', 'pct_tl_nvr_dlq', 'GDP', 'VIX',\n",
       "       'years_since_first_cr_line'],\n",
       "      dtype='object')"
      ]
     },
     "execution_count": 44,
     "metadata": {},
     "output_type": "execute_result"
    }
   ],
   "source": [
    "numeric_columns = X_train.select_dtypes(include=[np.number]).columns\n",
    "numeric_columns"
   ]
  },
  {
   "cell_type": "code",
   "execution_count": 45,
   "metadata": {},
   "outputs": [
    {
     "data": {
      "text/plain": [
       "Index(['term', 'grade', 'home_ownership', 'purpose', 'pub_rec_bankruptcies'], dtype='object')"
      ]
     },
     "execution_count": 45,
     "metadata": {},
     "output_type": "execute_result"
    }
   ],
   "source": [
    "categorical_columns = X_train.select_dtypes(include=['object']).columns\n",
    "categorical_columns"
   ]
  },
  {
   "cell_type": "code",
   "execution_count": 46,
   "metadata": {},
   "outputs": [
    {
     "data": {
      "text/html": [
       "<style>#sk-container-id-1 {color: black;}#sk-container-id-1 pre{padding: 0;}#sk-container-id-1 div.sk-toggleable {background-color: white;}#sk-container-id-1 label.sk-toggleable__label {cursor: pointer;display: block;width: 100%;margin-bottom: 0;padding: 0.3em;box-sizing: border-box;text-align: center;}#sk-container-id-1 label.sk-toggleable__label-arrow:before {content: \"▸\";float: left;margin-right: 0.25em;color: #696969;}#sk-container-id-1 label.sk-toggleable__label-arrow:hover:before {color: black;}#sk-container-id-1 div.sk-estimator:hover label.sk-toggleable__label-arrow:before {color: black;}#sk-container-id-1 div.sk-toggleable__content {max-height: 0;max-width: 0;overflow: hidden;text-align: left;background-color: #f0f8ff;}#sk-container-id-1 div.sk-toggleable__content pre {margin: 0.2em;color: black;border-radius: 0.25em;background-color: #f0f8ff;}#sk-container-id-1 input.sk-toggleable__control:checked~div.sk-toggleable__content {max-height: 200px;max-width: 100%;overflow: auto;}#sk-container-id-1 input.sk-toggleable__control:checked~label.sk-toggleable__label-arrow:before {content: \"▾\";}#sk-container-id-1 div.sk-estimator input.sk-toggleable__control:checked~label.sk-toggleable__label {background-color: #d4ebff;}#sk-container-id-1 div.sk-label input.sk-toggleable__control:checked~label.sk-toggleable__label {background-color: #d4ebff;}#sk-container-id-1 input.sk-hidden--visually {border: 0;clip: rect(1px 1px 1px 1px);clip: rect(1px, 1px, 1px, 1px);height: 1px;margin: -1px;overflow: hidden;padding: 0;position: absolute;width: 1px;}#sk-container-id-1 div.sk-estimator {font-family: monospace;background-color: #f0f8ff;border: 1px dotted black;border-radius: 0.25em;box-sizing: border-box;margin-bottom: 0.5em;}#sk-container-id-1 div.sk-estimator:hover {background-color: #d4ebff;}#sk-container-id-1 div.sk-parallel-item::after {content: \"\";width: 100%;border-bottom: 1px solid gray;flex-grow: 1;}#sk-container-id-1 div.sk-label:hover label.sk-toggleable__label {background-color: #d4ebff;}#sk-container-id-1 div.sk-serial::before {content: \"\";position: absolute;border-left: 1px solid gray;box-sizing: border-box;top: 0;bottom: 0;left: 50%;z-index: 0;}#sk-container-id-1 div.sk-serial {display: flex;flex-direction: column;align-items: center;background-color: white;padding-right: 0.2em;padding-left: 0.2em;position: relative;}#sk-container-id-1 div.sk-item {position: relative;z-index: 1;}#sk-container-id-1 div.sk-parallel {display: flex;align-items: stretch;justify-content: center;background-color: white;position: relative;}#sk-container-id-1 div.sk-item::before, #sk-container-id-1 div.sk-parallel-item::before {content: \"\";position: absolute;border-left: 1px solid gray;box-sizing: border-box;top: 0;bottom: 0;left: 50%;z-index: -1;}#sk-container-id-1 div.sk-parallel-item {display: flex;flex-direction: column;z-index: 1;position: relative;background-color: white;}#sk-container-id-1 div.sk-parallel-item:first-child::after {align-self: flex-end;width: 50%;}#sk-container-id-1 div.sk-parallel-item:last-child::after {align-self: flex-start;width: 50%;}#sk-container-id-1 div.sk-parallel-item:only-child::after {width: 0;}#sk-container-id-1 div.sk-dashed-wrapped {border: 1px dashed gray;margin: 0 0.4em 0.5em 0.4em;box-sizing: border-box;padding-bottom: 0.4em;background-color: white;}#sk-container-id-1 div.sk-label label {font-family: monospace;font-weight: bold;display: inline-block;line-height: 1.2em;}#sk-container-id-1 div.sk-label-container {text-align: center;}#sk-container-id-1 div.sk-container {/* jupyter's `normalize.less` sets `[hidden] { display: none; }` but bootstrap.min.css set `[hidden] { display: none !important; }` so we also need the `!important` here to be able to override the default hidden behavior on the sphinx rendered scikit-learn.org. See: https://github.com/scikit-learn/scikit-learn/issues/21755 */display: inline-block !important;position: relative;}#sk-container-id-1 div.sk-text-repr-fallback {display: none;}</style><div id=\"sk-container-id-1\" class=\"sk-top-container\"><div class=\"sk-text-repr-fallback\"><pre>ColumnTransformer(transformers=[(&#x27;num&#x27;,\n",
       "                                 Pipeline(steps=[(&#x27;imputer&#x27;,\n",
       "                                                  SimpleImputer(strategy=&#x27;median&#x27;)),\n",
       "                                                 (&#x27;scaler&#x27;, RobustScaler())]),\n",
       "                                 Index([&#x27;loan_amnt&#x27;, &#x27;int_rate&#x27;, &#x27;installment&#x27;, &#x27;annual_inc&#x27;, &#x27;dti&#x27;,\n",
       "       &#x27;total_acc&#x27;, &#x27;pct_tl_nvr_dlq&#x27;, &#x27;GDP&#x27;, &#x27;VIX&#x27;,\n",
       "       &#x27;years_since_first_cr_line&#x27;],\n",
       "      dtype=&#x27;object&#x27;)),\n",
       "                                (&#x27;cat&#x27;,\n",
       "                                 Pipeline(steps=[(&#x27;imputer&#x27;,\n",
       "                                                  SimpleImputer(fill_value=&#x27;missing&#x27;,\n",
       "                                                                strategy=&#x27;constant&#x27;)),\n",
       "                                                 (&#x27;encoder&#x27;,\n",
       "                                                  BinningProcess(variable_names=[&#x27;term&#x27;,\n",
       "                                                                                 &#x27;grade&#x27;,\n",
       "                                                                                 &#x27;home_ownership&#x27;,\n",
       "                                                                                 &#x27;purpose&#x27;,\n",
       "                                                                                 &#x27;pub_rec_bankruptcies&#x27;]))]),\n",
       "                                 Index([&#x27;term&#x27;, &#x27;grade&#x27;, &#x27;home_ownership&#x27;, &#x27;purpose&#x27;, &#x27;pub_rec_bankruptcies&#x27;], dtype=&#x27;object&#x27;))])</pre><b>In a Jupyter environment, please rerun this cell to show the HTML representation or trust the notebook. <br />On GitHub, the HTML representation is unable to render, please try loading this page with nbviewer.org.</b></div><div class=\"sk-container\" hidden><div class=\"sk-item sk-dashed-wrapped\"><div class=\"sk-label-container\"><div class=\"sk-label sk-toggleable\"><input class=\"sk-toggleable__control sk-hidden--visually\" id=\"sk-estimator-id-1\" type=\"checkbox\" ><label for=\"sk-estimator-id-1\" class=\"sk-toggleable__label sk-toggleable__label-arrow\">ColumnTransformer</label><div class=\"sk-toggleable__content\"><pre>ColumnTransformer(transformers=[(&#x27;num&#x27;,\n",
       "                                 Pipeline(steps=[(&#x27;imputer&#x27;,\n",
       "                                                  SimpleImputer(strategy=&#x27;median&#x27;)),\n",
       "                                                 (&#x27;scaler&#x27;, RobustScaler())]),\n",
       "                                 Index([&#x27;loan_amnt&#x27;, &#x27;int_rate&#x27;, &#x27;installment&#x27;, &#x27;annual_inc&#x27;, &#x27;dti&#x27;,\n",
       "       &#x27;total_acc&#x27;, &#x27;pct_tl_nvr_dlq&#x27;, &#x27;GDP&#x27;, &#x27;VIX&#x27;,\n",
       "       &#x27;years_since_first_cr_line&#x27;],\n",
       "      dtype=&#x27;object&#x27;)),\n",
       "                                (&#x27;cat&#x27;,\n",
       "                                 Pipeline(steps=[(&#x27;imputer&#x27;,\n",
       "                                                  SimpleImputer(fill_value=&#x27;missing&#x27;,\n",
       "                                                                strategy=&#x27;constant&#x27;)),\n",
       "                                                 (&#x27;encoder&#x27;,\n",
       "                                                  BinningProcess(variable_names=[&#x27;term&#x27;,\n",
       "                                                                                 &#x27;grade&#x27;,\n",
       "                                                                                 &#x27;home_ownership&#x27;,\n",
       "                                                                                 &#x27;purpose&#x27;,\n",
       "                                                                                 &#x27;pub_rec_bankruptcies&#x27;]))]),\n",
       "                                 Index([&#x27;term&#x27;, &#x27;grade&#x27;, &#x27;home_ownership&#x27;, &#x27;purpose&#x27;, &#x27;pub_rec_bankruptcies&#x27;], dtype=&#x27;object&#x27;))])</pre></div></div></div><div class=\"sk-parallel\"><div class=\"sk-parallel-item\"><div class=\"sk-item\"><div class=\"sk-label-container\"><div class=\"sk-label sk-toggleable\"><input class=\"sk-toggleable__control sk-hidden--visually\" id=\"sk-estimator-id-2\" type=\"checkbox\" ><label for=\"sk-estimator-id-2\" class=\"sk-toggleable__label sk-toggleable__label-arrow\">num</label><div class=\"sk-toggleable__content\"><pre>Index([&#x27;loan_amnt&#x27;, &#x27;int_rate&#x27;, &#x27;installment&#x27;, &#x27;annual_inc&#x27;, &#x27;dti&#x27;,\n",
       "       &#x27;total_acc&#x27;, &#x27;pct_tl_nvr_dlq&#x27;, &#x27;GDP&#x27;, &#x27;VIX&#x27;,\n",
       "       &#x27;years_since_first_cr_line&#x27;],\n",
       "      dtype=&#x27;object&#x27;)</pre></div></div></div><div class=\"sk-serial\"><div class=\"sk-item\"><div class=\"sk-serial\"><div class=\"sk-item\"><div class=\"sk-estimator sk-toggleable\"><input class=\"sk-toggleable__control sk-hidden--visually\" id=\"sk-estimator-id-3\" type=\"checkbox\" ><label for=\"sk-estimator-id-3\" class=\"sk-toggleable__label sk-toggleable__label-arrow\">SimpleImputer</label><div class=\"sk-toggleable__content\"><pre>SimpleImputer(strategy=&#x27;median&#x27;)</pre></div></div></div><div class=\"sk-item\"><div class=\"sk-estimator sk-toggleable\"><input class=\"sk-toggleable__control sk-hidden--visually\" id=\"sk-estimator-id-4\" type=\"checkbox\" ><label for=\"sk-estimator-id-4\" class=\"sk-toggleable__label sk-toggleable__label-arrow\">RobustScaler</label><div class=\"sk-toggleable__content\"><pre>RobustScaler()</pre></div></div></div></div></div></div></div></div><div class=\"sk-parallel-item\"><div class=\"sk-item\"><div class=\"sk-label-container\"><div class=\"sk-label sk-toggleable\"><input class=\"sk-toggleable__control sk-hidden--visually\" id=\"sk-estimator-id-5\" type=\"checkbox\" ><label for=\"sk-estimator-id-5\" class=\"sk-toggleable__label sk-toggleable__label-arrow\">cat</label><div class=\"sk-toggleable__content\"><pre>Index([&#x27;term&#x27;, &#x27;grade&#x27;, &#x27;home_ownership&#x27;, &#x27;purpose&#x27;, &#x27;pub_rec_bankruptcies&#x27;], dtype=&#x27;object&#x27;)</pre></div></div></div><div class=\"sk-serial\"><div class=\"sk-item\"><div class=\"sk-serial\"><div class=\"sk-item\"><div class=\"sk-estimator sk-toggleable\"><input class=\"sk-toggleable__control sk-hidden--visually\" id=\"sk-estimator-id-6\" type=\"checkbox\" ><label for=\"sk-estimator-id-6\" class=\"sk-toggleable__label sk-toggleable__label-arrow\">SimpleImputer</label><div class=\"sk-toggleable__content\"><pre>SimpleImputer(fill_value=&#x27;missing&#x27;, strategy=&#x27;constant&#x27;)</pre></div></div></div><div class=\"sk-item\"><div class=\"sk-estimator sk-toggleable\"><input class=\"sk-toggleable__control sk-hidden--visually\" id=\"sk-estimator-id-7\" type=\"checkbox\" ><label for=\"sk-estimator-id-7\" class=\"sk-toggleable__label sk-toggleable__label-arrow\">BinningProcess</label><div class=\"sk-toggleable__content\"><pre>BinningProcess(variable_names=[&#x27;term&#x27;, &#x27;grade&#x27;, &#x27;home_ownership&#x27;, &#x27;purpose&#x27;,\n",
       "                               &#x27;pub_rec_bankruptcies&#x27;])</pre></div></div></div></div></div></div></div></div></div></div></div></div>"
      ],
      "text/plain": [
       "ColumnTransformer(transformers=[('num',\n",
       "                                 Pipeline(steps=[('imputer',\n",
       "                                                  SimpleImputer(strategy='median')),\n",
       "                                                 ('scaler', RobustScaler())]),\n",
       "                                 Index(['loan_amnt', 'int_rate', 'installment', 'annual_inc', 'dti',\n",
       "       'total_acc', 'pct_tl_nvr_dlq', 'GDP', 'VIX',\n",
       "       'years_since_first_cr_line'],\n",
       "      dtype='object')),\n",
       "                                ('cat',\n",
       "                                 Pipeline(steps=[('imputer',\n",
       "                                                  SimpleImputer(fill_value='missing',\n",
       "                                                                strategy='constant')),\n",
       "                                                 ('encoder',\n",
       "                                                  BinningProcess(variable_names=['term',\n",
       "                                                                                 'grade',\n",
       "                                                                                 'home_ownership',\n",
       "                                                                                 'purpose',\n",
       "                                                                                 'pub_rec_bankruptcies']))]),\n",
       "                                 Index(['term', 'grade', 'home_ownership', 'purpose', 'pub_rec_bankruptcies'], dtype='object'))])"
      ]
     },
     "execution_count": 46,
     "metadata": {},
     "output_type": "execute_result"
    }
   ],
   "source": [
    "# define the pipeline for numeric columns\n",
    "numeric_pipeline = Pipeline([\n",
    "    ('imputer', SimpleImputer(strategy='median')),\n",
    "    ('scaler', RobustScaler())\n",
    "])\n",
    "\n",
    "# define the pipeline for categorical columns\n",
    "categorical_pipeline = Pipeline([\n",
    "    ('imputer', SimpleImputer(strategy='constant', fill_value='missing')),\n",
    "    ('encoder', BinningProcess(variable_names=categorical_columns.tolist()))\n",
    "])\n",
    "\n",
    "# define the preprocessor\n",
    "preprocessor = ColumnTransformer([\n",
    "    ('num', numeric_pipeline, numeric_columns),\n",
    "    ('cat', categorical_pipeline, categorical_columns)\n",
    "    ])\n",
    "\n",
    "preprocessor"
   ]
  },
  {
   "cell_type": "markdown",
   "metadata": {},
   "source": [
    "# Scoring Metrics"
   ]
  },
  {
   "cell_type": "code",
   "execution_count": 47,
   "metadata": {},
   "outputs": [],
   "source": [
    "from sklearn.metrics import make_scorer\n",
    "\n",
    "def specificity_score(y_true, y_pred):\n",
    "    tn = sum((y_true == 0) & (y_pred == 0))\n",
    "    fp = sum((y_true == 0) & (y_pred == 1))\n",
    "    specificity = tn / (tn + fp)\n",
    "    return specificity\n",
    "\n",
    "specificity = make_scorer(specificity_score)\n",
    "\n",
    "# gini score as 2 * AUC - 1\n",
    "def gini_score(y_true, y_pred):\n",
    "    auc = roc_auc_score(y_true, y_pred)\n",
    "    return 2 * auc - 1\n",
    "\n",
    "gini = make_scorer(gini_score, needs_proba=True)"
   ]
  },
  {
   "cell_type": "code",
   "execution_count": 48,
   "metadata": {},
   "outputs": [],
   "source": [
    "scoring = {'f1': 'f1', 'sensitivity': 'recall', 'specificity': specificity, 'gini': gini, 'auc': 'roc_auc'}"
   ]
  },
  {
   "cell_type": "markdown",
   "metadata": {},
   "source": [
    "# Baseline Logistic Regression"
   ]
  },
  {
   "cell_type": "code",
   "execution_count": 49,
   "metadata": {},
   "outputs": [
    {
     "data": {
      "text/html": [
       "<div>\n",
       "<style scoped>\n",
       "    .dataframe tbody tr th:only-of-type {\n",
       "        vertical-align: middle;\n",
       "    }\n",
       "\n",
       "    .dataframe tbody tr th {\n",
       "        vertical-align: top;\n",
       "    }\n",
       "\n",
       "    .dataframe thead th {\n",
       "        text-align: right;\n",
       "    }\n",
       "</style>\n",
       "<table border=\"1\" class=\"dataframe\">\n",
       "  <thead>\n",
       "    <tr style=\"text-align: right;\">\n",
       "      <th></th>\n",
       "      <th>fit_time</th>\n",
       "      <th>score_time</th>\n",
       "      <th>test_f1</th>\n",
       "      <th>test_sensitivity</th>\n",
       "      <th>test_specificity</th>\n",
       "      <th>test_gini</th>\n",
       "      <th>test_auc</th>\n",
       "    </tr>\n",
       "  </thead>\n",
       "  <tbody>\n",
       "    <tr>\n",
       "      <th>0</th>\n",
       "      <td>0.552227</td>\n",
       "      <td>0.100073</td>\n",
       "      <td>0.402277</td>\n",
       "      <td>0.578708</td>\n",
       "      <td>0.686855</td>\n",
       "      <td>0.362255</td>\n",
       "      <td>0.681128</td>\n",
       "    </tr>\n",
       "    <tr>\n",
       "      <th>1</th>\n",
       "      <td>0.700310</td>\n",
       "      <td>0.099446</td>\n",
       "      <td>0.357815</td>\n",
       "      <td>0.593009</td>\n",
       "      <td>0.635185</td>\n",
       "      <td>0.329444</td>\n",
       "      <td>0.664722</td>\n",
       "    </tr>\n",
       "    <tr>\n",
       "      <th>2</th>\n",
       "      <td>0.859420</td>\n",
       "      <td>0.098250</td>\n",
       "      <td>0.336834</td>\n",
       "      <td>0.572802</td>\n",
       "      <td>0.683397</td>\n",
       "      <td>0.342386</td>\n",
       "      <td>0.671193</td>\n",
       "    </tr>\n",
       "    <tr>\n",
       "      <th>3</th>\n",
       "      <td>0.970457</td>\n",
       "      <td>0.063299</td>\n",
       "      <td>0.280388</td>\n",
       "      <td>0.539611</td>\n",
       "      <td>0.668739</td>\n",
       "      <td>0.290832</td>\n",
       "      <td>0.645416</td>\n",
       "    </tr>\n",
       "    <tr>\n",
       "      <th>4</th>\n",
       "      <td>1.164379</td>\n",
       "      <td>0.078114</td>\n",
       "      <td>0.249906</td>\n",
       "      <td>0.662698</td>\n",
       "      <td>0.656496</td>\n",
       "      <td>0.430100</td>\n",
       "      <td>0.715050</td>\n",
       "    </tr>\n",
       "  </tbody>\n",
       "</table>\n",
       "</div>"
      ],
      "text/plain": [
       "   fit_time  score_time   test_f1  test_sensitivity  test_specificity  \\\n",
       "0  0.552227    0.100073  0.402277          0.578708          0.686855   \n",
       "1  0.700310    0.099446  0.357815          0.593009          0.635185   \n",
       "2  0.859420    0.098250  0.336834          0.572802          0.683397   \n",
       "3  0.970457    0.063299  0.280388          0.539611          0.668739   \n",
       "4  1.164379    0.078114  0.249906          0.662698          0.656496   \n",
       "\n",
       "   test_gini  test_auc  \n",
       "0   0.362255  0.681128  \n",
       "1   0.329444  0.664722  \n",
       "2   0.342386  0.671193  \n",
       "3   0.290832  0.645416  \n",
       "4   0.430100  0.715050  "
      ]
     },
     "execution_count": 49,
     "metadata": {},
     "output_type": "execute_result"
    }
   ],
   "source": [
    "lg_pipe = ImbPipeline([\n",
    "    ('preprocessor', preprocessor),\n",
    "    ('smote', SMOTE(random_state=42)),\n",
    "    ('classifier', LogisticRegression())\n",
    "])\n",
    "\n",
    "lg_cv_results = cross_validate(lg_pipe, X_train, y_train, groups=groups, cv=cv, scoring=scoring)\n",
    "lg_cv_results = pd.DataFrame(lg_cv_results)\n",
    "lg_cv_results.to_csv('../Results/Results_LogisticReg.csv', index=False)\n",
    "lg_cv_results"
   ]
  },
  {
   "cell_type": "code",
   "execution_count": 50,
   "metadata": {},
   "outputs": [],
   "source": [
    "# fit train data\n",
    "lg_pipe.fit(X_train, y_train)\n",
    "\n",
    "# predict test data\n",
    "y_pred = lg_pipe.predict(X_test)"
   ]
  },
  {
   "cell_type": "code",
   "execution_count": 51,
   "metadata": {},
   "outputs": [
    {
     "name": "stdout",
     "output_type": "stream",
     "text": [
      "Test Sensitivity: 0.56\n",
      "Test Specificity: 0.67\n",
      "Test F1 Score: 0.07\n",
      "Test Gini score: 0.23\n",
      "Test AUC: 0.62\n"
     ]
    }
   ],
   "source": [
    "tn, fp, fn, tp  = confusion_matrix(y_test, y_pred).ravel()\n",
    "\n",
    "sensitivity = tp / (tp + fn)\n",
    "specificity = tn / (tn + fp)\n",
    "f1 = f1_score(y_test, y_pred)\n",
    "roc_auc = roc_auc_score(y_test, y_pred)\n",
    "\n",
    "print(f'Test Sensitivity: {sensitivity:.2f}')\n",
    "print(f'Test Specificity: {specificity:.2f}')\n",
    "print(f'Test F1 Score: {f1:.2f}')\n",
    "print(f'Test Gini score: {2 * roc_auc - 1:.2f}')\n",
    "print(f'Test AUC: {roc_auc:.2f}')"
   ]
  },
  {
   "cell_type": "code",
   "execution_count": 52,
   "metadata": {},
   "outputs": [
    {
     "data": {
      "image/png": "[encoded data removed]",
      "text/plain": [
       "<Figure size 640x480 with 2 Axes>"
      ]
     },
     "metadata": {},
     "output_type": "display_data"
    }
   ],
   "source": [
    "# Display confusion matrix\n",
    "\n",
    "cm = confusion_matrix(y_test, y_pred)\n",
    "disp = ConfusionMatrixDisplay(confusion_matrix=cm)\n",
    "disp.plot(cmap=plt.cm.Oranges)\n",
    "plt.show()"
   ]
  },
  {
   "cell_type": "markdown",
   "metadata": {},
   "source": [
    "# Random Forest"
   ]
  },
  {
   "cell_type": "code",
   "execution_count": 53,
   "metadata": {},
   "outputs": [],
   "source": [
    "rf_pipe = ImbPipeline([\n",
    "    ('preprocessor', preprocessor),\n",
    "    ('smote', SMOTE(random_state=42)),\n",
    "    ('classifier', RandomForestClassifier(random_state=42))\n",
    "])"
   ]
  },
  {
   "cell_type": "markdown",
   "metadata": {},
   "source": [
    "# Hyper-parameter Tuning"
   ]
  },
  {
   "cell_type": "code",
   "execution_count": 54,
   "metadata": {},
   "outputs": [],
   "source": [
    "grid = {'classifier__max_depth': [8, 15, None], \n",
    "        'classifier__max_features': ['sqrt', 0.5, None],\n",
    "        'classifier__n_estimators': [50, 100, 200]\n",
    "        }\n",
    "\n",
    "gs = GridSearchCV(rf_pipe, \n",
    "                  grid, \n",
    "                  cv=cv, \n",
    "                  scoring=scoring, \n",
    "                  refit='f1', \n",
    "                  n_jobs=-1)\n",
    "\n",
    "gs.fit(X_train, y_train, groups=groups)\n",
    "\n",
    "results = pd.DataFrame(gs.cv_results_)"
   ]
  },
  {
   "cell_type": "code",
   "execution_count": 55,
   "metadata": {},
   "outputs": [
    {
     "name": "stdout",
     "output_type": "stream",
     "text": [
      "{'classifier__max_depth': 8, 'classifier__max_features': 'sqrt', 'classifier__n_estimators': 100}\n",
      "0.2750582029868355\n"
     ]
    }
   ],
   "source": [
    "results = results.sort_values(by='rank_test_f1')\n",
    "results.to_csv('../Results/Results_RandomForest.csv', index=False)\n",
    "print(gs.best_params_)\n",
    "print(gs.best_score_)"
   ]
  },
  {
   "cell_type": "code",
   "execution_count": 56,
   "metadata": {},
   "outputs": [
    {
     "name": "stdout",
     "output_type": "stream",
     "text": [
      "Test Sensitivity: 0.34\n",
      "Test Specificity: 0.79\n",
      "Test F1 Score: 0.07\n",
      "Test Gini score: 0.13\n",
      "Test AUC: 0.57\n"
     ]
    }
   ],
   "source": [
    "best_model = gs.best_estimator_\n",
    "\n",
    "# predict test data\n",
    "rf_y_pred = best_model.predict(X_test)\n",
    "\n",
    "tn, fp, fn, tp  = confusion_matrix(y_test, rf_y_pred).ravel()\n",
    "\n",
    "sensitivity = tp / (tp + fn)\n",
    "specificity = tn / (tn + fp)\n",
    "f1 = f1_score(y_test, rf_y_pred)\n",
    "roc_auc = roc_auc_score(y_test, rf_y_pred)\n",
    "\n",
    "print(f'Test Sensitivity: {sensitivity:.2f}')\n",
    "print(f'Test Specificity: {specificity:.2f}')\n",
    "print(f'Test F1 Score: {f1:.2f}')\n",
    "print(f'Test Gini score: {2 * roc_auc - 1:.2f}')\n",
    "print(f'Test AUC: {roc_auc:.2f}')"
   ]
  },
  {
   "cell_type": "code",
   "execution_count": 57,
   "metadata": {},
   "outputs": [
    {
     "data": {
      "image/png": "[encoded data removed]",
      "text/plain": [
       "<Figure size 640x480 with 2 Axes>"
      ]
     },
     "metadata": {},
     "output_type": "display_data"
    }
   ],
   "source": [
    "# Display confusion matrix\n",
    "\n",
    "cm = confusion_matrix(y_test, rf_y_pred)\n",
    "disp = ConfusionMatrixDisplay(confusion_matrix=cm)\n",
    "disp.plot(cmap=plt.cm.Oranges)\n",
    "plt.show()"
   ]
  },
  {
   "cell_type": "code",
   "execution_count": 58,
   "metadata": {},
   "outputs": [
    {
     "data": {
      "image/png": "[encoded data removed]",
      "text/plain": [
       "<Figure size 800x600 with 1 Axes>"
      ]
     },
     "metadata": {},
     "output_type": "display_data"
    }
   ],
   "source": [
    "# plot roc curve for logistic regression and random forest\n",
    "fig, ax = plt.subplots(1, 1, figsize=(8, 6))\n",
    "\n",
    "# logistic regression\n",
    "disp = RocCurveDisplay.from_estimator(lg_pipe, X_test, y_test, ax=ax, name='Logistic Regression')\n",
    "\n",
    "# random forest\n",
    "disp = RocCurveDisplay.from_estimator(best_model, X_test, y_test, ax=ax, name='Random Forest')\n",
    "\n",
    "plt.show() "
   ]
  },
  {
   "cell_type": "code",
   "execution_count": 59,
   "metadata": {},
   "outputs": [
    {
     "data": {
      "text/plain": [
       "['../Models/RandomForest.pkl']"
      ]
     },
     "execution_count": 59,
     "metadata": {},
     "output_type": "execute_result"
    }
   ],
   "source": [
    "# save the model\n",
    "joblib.dump(best_model, '../Models/RandomForest.pkl')"
   ]
  },
  {
   "cell_type": "code",
   "execution_count": 60,
   "metadata": {},
   "outputs": [
    {
     "name": "stdout",
     "output_type": "stream",
     "text": [
      "Time taken: 1880.79 seconds\n"
     ]
    }
   ],
   "source": [
    "# end timing\n",
    "end = time.time()\n",
    "\n",
    "print(f'Time taken: {end - start:.2f} seconds')"
   ]
  },
  {
   "cell_type": "code",
   "execution_count": 61,
   "metadata": {},
   "outputs": [
    {
     "data": {
      "text/html": [
       "<details>\n",
       "<summary>Click to view session information</summary>\n",
       "<pre>\n",
       "-----\n",
       "imblearn            0.12.3\n",
       "joblib              1.2.0\n",
       "matplotlib          3.8.4\n",
       "mlxtend             0.21.0\n",
       "numpy               1.26.3\n",
       "optbinning          0.19.0\n",
       "pandas              2.1.4\n",
       "psynlig             0.2.2.dev0+c5d0f73\n",
       "seaborn             0.12.2\n",
       "session_info        1.0.0\n",
       "sklearn             1.3.0\n",
       "-----\n",
       "</pre>\n",
       "<details>\n",
       "<summary>Click to view modules imported as dependencies</summary>\n",
       "<pre>\n",
       "PIL                         10.2.0\n",
       "adjustText                  1.1.1\n",
       "anyio                       NA\n",
       "arrow                       1.3.0\n",
       "asttokens                   NA\n",
       "attr                        23.1.0\n",
       "attrs                       23.1.0\n",
       "babel                       2.11.0\n",
       "backcall                    0.2.0\n",
       "beta_ufunc                  NA\n",
       "binom_ufunc                 NA\n",
       "bottleneck                  1.3.5\n",
       "brotli                      1.0.9\n",
       "certifi                     2024.02.02\n",
       "cffi                        1.16.0\n",
       "charset_normalizer          2.0.4\n",
       "clarabel                    0.7.1\n",
       "colorama                    0.4.6\n",
       "comm                        0.1.2\n",
       "cvxpy                       1.4.2\n",
       "cycler                      0.10.0\n",
       "cython_runtime              NA\n",
       "dateutil                    2.8.2\n",
       "debugpy                     1.6.7\n",
       "decorator                   5.1.1\n",
       "defusedxml                  0.7.1\n",
       "ecos                        2.0.13\n",
       "exceptiongroup              1.2.0\n",
       "executing                   0.8.3\n",
       "fastjsonschema              NA\n",
       "fqdn                        NA\n",
       "google                      NA\n",
       "hypergeom_ufunc             NA\n",
       "idna                        3.4\n",
       "importlib_metadata          NA\n",
       "importlib_resources         NA\n",
       "invgauss_ufunc              NA\n",
       "ipykernel                   6.28.0\n",
       "ipywidgets                  8.0.4\n",
       "isoduration                 NA\n",
       "jedi                        0.18.1\n",
       "jinja2                      3.1.3\n",
       "json5                       NA\n",
       "jsonpointer                 2.4\n",
       "jsonschema                  4.19.2\n",
       "jsonschema_specifications   NA\n",
       "jupyter_events              0.8.0\n",
       "jupyter_server              2.10.0\n",
       "jupyterlab_server           2.25.1\n",
       "kiwisolver                  1.4.4\n",
       "markupsafe                  2.1.3\n",
       "matplotlib_inline           0.1.6\n",
       "mkl                         2.4.0\n",
       "mpl_toolkits                NA\n",
       "nbformat                    5.9.2\n",
       "nbinom_ufunc                NA\n",
       "ncf_ufunc                   NA\n",
       "nct_ufunc                   NA\n",
       "ncx2_ufunc                  NA\n",
       "nt                          NA\n",
       "numexpr                     2.8.7\n",
       "ortools                     9.9.3963\n",
       "osqp                        0.6.5\n",
       "overrides                   NA\n",
       "packaging                   23.1\n",
       "parso                       0.8.3\n",
       "pickleshare                 0.7.5\n",
       "pkg_resources               NA\n",
       "platformdirs                3.10.0\n",
       "prometheus_client           NA\n",
       "prompt_toolkit              3.0.43\n",
       "psutil                      5.9.0\n",
       "pure_eval                   0.2.2\n",
       "pydev_ipython               NA\n",
       "pydevconsole                NA\n",
       "pydevd                      2.9.5\n",
       "pydevd_file_utils           NA\n",
       "pydevd_plugins              NA\n",
       "pydevd_tracing              NA\n",
       "pygments                    2.15.1\n",
       "pyparsing                   3.0.9\n",
       "pythoncom                   NA\n",
       "pythonjsonlogger            NA\n",
       "pytz                        2023.3.post1\n",
       "pywintypes                  NA\n",
       "qdldl                       NA\n",
       "referencing                 NA\n",
       "requests                    2.31.0\n",
       "rfc3339_validator           0.1.4\n",
       "rfc3986_validator           0.1.1\n",
       "ropwr                       1.0.0\n",
       "rpds                        NA\n",
       "scipy                       1.11.4\n",
       "scs                         3.2.4\n",
       "send2trash                  NA\n",
       "setuptools                  68.2.2\n",
       "shapely                     2.0.3\n",
       "six                         1.16.0\n",
       "skewnorm_ufunc              NA\n",
       "sniffio                     1.3.0\n",
       "socks                       1.7.1\n",
       "sphinxcontrib               NA\n",
       "stack_data                  0.2.0\n",
       "swig_runtime_data4          NA\n",
       "threadpoolctl               2.2.0\n",
       "tornado                     6.3.3\n",
       "traitlets                   5.7.1\n",
       "typing_extensions           NA\n",
       "uri_template                NA\n",
       "urllib3                     2.1.0\n",
       "vscode                      NA\n",
       "wcwidth                     0.2.5\n",
       "webcolors                   1.13\n",
       "websocket                   0.58.0\n",
       "win32api                    NA\n",
       "win32com                    NA\n",
       "win32con                    NA\n",
       "win32trace                  NA\n",
       "winerror                    NA\n",
       "yaml                        6.0.1\n",
       "zipp                        NA\n",
       "zmq                         25.1.2\n",
       "zoneinfo                    NA\n",
       "</pre>\n",
       "</details> <!-- seems like this ends pre, so might as well be explicit -->\n",
       "<pre>\n",
       "-----\n",
       "IPython             8.15.0\n",
       "jupyter_client      8.6.0\n",
       "jupyter_core        5.5.0\n",
       "jupyterlab          4.0.11\n",
       "notebook            7.0.6\n",
       "-----\n",
       "Python 3.9.18 (main, Sep 11 2023, 14:09:26) [MSC v.1916 64 bit (AMD64)]\n",
       "Windows-10-10.0.22631-SP0\n",
       "-----\n",
       "Session information updated at 2024-06-24 00:32\n",
       "</pre>\n",
       "</details>"
      ],
      "text/plain": [
       "<IPython.core.display.HTML object>"
      ]
     },
     "execution_count": 61,
     "metadata": {},
     "output_type": "execute_result"
    }
   ],
   "source": [
    "# print session info\n",
    "session_info.show()"
   ]
  }
 ],
 "metadata": {
  "kernelspec": {
   "display_name": "python39",
   "language": "python",
   "name": "python3"
  },
  "language_info": {
   "codemirror_mode": {
    "name": "ipython",
    "version": 3
   },
   "file_extension": ".py",
   "mimetype": "text/x-python",
   "name": "python",
   "nbconvert_exporter": "python",
   "pygments_lexer": "ipython3",
   "version": "3.9.18"
  }
 },
 "nbformat": 4,
 "nbformat_minor": 2
}
