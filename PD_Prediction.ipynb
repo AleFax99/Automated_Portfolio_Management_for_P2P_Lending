{
 "cells": [
  {
   "cell_type": "markdown",
   "metadata": {},
   "source": [
    "Based on the insights from Data Cleaning, we keep only a subset of the columns available to avoid any leakage of future information which is unavailable when the contract is introduced for the first time in the secondary market on the P2P Lending Platform. "
   ]
  },
  {
   "cell_type": "code",
   "execution_count": 1,
   "metadata": {},
   "outputs": [],
   "source": [
    "# import the necessary packages\n",
    "import numpy as np\n",
    "import os\n",
    "import sys\n",
    "import time\n",
    "import pandas as pd\n",
    "import matplotlib.pyplot as plt\n",
    "import seaborn as sns\n",
    "from sklearn.model_selection import train_test_split\n",
    "from sklearn.metrics import classification_report\n",
    "from sklearn.metrics import confusion_matrix\n",
    "from sklearn.metrics import f1_score\n",
    "from sklearn.metrics import accuracy_score\n",
    "\n",
    "from psynlig import plot_correlation_heatmap\n",
    "\n",
    "from sklearn.ensemble import RandomForestClassifier\n",
    "\n",
    "from sklearn import preprocessing as pp\n",
    "from sklearn.pipeline import Pipeline\n",
    "from sklearn.model_selection import TimeSeriesSplit\n",
    "\n",
    "from sklearn.model_selection import GridSearchCV"
   ]
  },
  {
   "cell_type": "code",
   "execution_count": 2,
   "metadata": {},
   "outputs": [
    {
     "data": {
      "text/plain": [
       "(50000, 15)"
      ]
     },
     "execution_count": 2,
     "metadata": {},
     "output_type": "execute_result"
    }
   ],
   "source": [
    "df = pd.read_csv('../Data/Loan_status_Cleaned.csv')\n",
    "df.shape"
   ]
  },
  {
   "cell_type": "code",
   "execution_count": 3,
   "metadata": {},
   "outputs": [
    {
     "data": {
      "text/html": [
       "<div>\n",
       "<style scoped>\n",
       "    .dataframe tbody tr th:only-of-type {\n",
       "        vertical-align: middle;\n",
       "    }\n",
       "\n",
       "    .dataframe tbody tr th {\n",
       "        vertical-align: top;\n",
       "    }\n",
       "\n",
       "    .dataframe thead th {\n",
       "        text-align: right;\n",
       "    }\n",
       "</style>\n",
       "<table border=\"1\" class=\"dataframe\">\n",
       "  <thead>\n",
       "    <tr style=\"text-align: right;\">\n",
       "      <th></th>\n",
       "      <th>loan_amnt</th>\n",
       "      <th>term</th>\n",
       "      <th>int_rate</th>\n",
       "      <th>installment</th>\n",
       "      <th>grade</th>\n",
       "      <th>home_ownership</th>\n",
       "      <th>annual_inc</th>\n",
       "      <th>issue_d</th>\n",
       "      <th>loan_status</th>\n",
       "      <th>purpose</th>\n",
       "      <th>dti</th>\n",
       "      <th>total_acc</th>\n",
       "      <th>acc_now_delinq</th>\n",
       "      <th>pct_tl_nvr_dlq</th>\n",
       "      <th>pub_rec_bankruptcies</th>\n",
       "    </tr>\n",
       "  </thead>\n",
       "  <tbody>\n",
       "    <tr>\n",
       "      <th>0</th>\n",
       "      <td>15000</td>\n",
       "      <td>36 months</td>\n",
       "      <td>7.90%</td>\n",
       "      <td>469.36</td>\n",
       "      <td>A</td>\n",
       "      <td>RENT</td>\n",
       "      <td>45000.0</td>\n",
       "      <td>Dec-2011</td>\n",
       "      <td>Fully Paid</td>\n",
       "      <td>debt_consolidation</td>\n",
       "      <td>8.48</td>\n",
       "      <td>27</td>\n",
       "      <td>0</td>\n",
       "      <td>NaN</td>\n",
       "      <td>0.0</td>\n",
       "    </tr>\n",
       "    <tr>\n",
       "      <th>1</th>\n",
       "      <td>16000</td>\n",
       "      <td>60 months</td>\n",
       "      <td>19.91%</td>\n",
       "      <td>423.11</td>\n",
       "      <td>E</td>\n",
       "      <td>RENT</td>\n",
       "      <td>81000.0</td>\n",
       "      <td>Dec-2011</td>\n",
       "      <td>Fully Paid</td>\n",
       "      <td>credit_card</td>\n",
       "      <td>20.52</td>\n",
       "      <td>21</td>\n",
       "      <td>0</td>\n",
       "      <td>NaN</td>\n",
       "      <td>0.0</td>\n",
       "    </tr>\n",
       "    <tr>\n",
       "      <th>2</th>\n",
       "      <td>7100</td>\n",
       "      <td>36 months</td>\n",
       "      <td>16.77%</td>\n",
       "      <td>252.33</td>\n",
       "      <td>D</td>\n",
       "      <td>MORTGAGE</td>\n",
       "      <td>33000.0</td>\n",
       "      <td>Dec-2011</td>\n",
       "      <td>Fully Paid</td>\n",
       "      <td>debt_consolidation</td>\n",
       "      <td>24.00</td>\n",
       "      <td>8</td>\n",
       "      <td>0</td>\n",
       "      <td>NaN</td>\n",
       "      <td>0.0</td>\n",
       "    </tr>\n",
       "    <tr>\n",
       "      <th>3</th>\n",
       "      <td>10000</td>\n",
       "      <td>36 months</td>\n",
       "      <td>8.90%</td>\n",
       "      <td>317.54</td>\n",
       "      <td>A</td>\n",
       "      <td>RENT</td>\n",
       "      <td>24000.0</td>\n",
       "      <td>Dec-2011</td>\n",
       "      <td>Fully Paid</td>\n",
       "      <td>debt_consolidation</td>\n",
       "      <td>7.00</td>\n",
       "      <td>21</td>\n",
       "      <td>0</td>\n",
       "      <td>NaN</td>\n",
       "      <td>0.0</td>\n",
       "    </tr>\n",
       "    <tr>\n",
       "      <th>4</th>\n",
       "      <td>2500</td>\n",
       "      <td>36 months</td>\n",
       "      <td>14.27%</td>\n",
       "      <td>85.78</td>\n",
       "      <td>C</td>\n",
       "      <td>RENT</td>\n",
       "      <td>49500.0</td>\n",
       "      <td>Dec-2011</td>\n",
       "      <td>Fully Paid</td>\n",
       "      <td>debt_consolidation</td>\n",
       "      <td>10.33</td>\n",
       "      <td>20</td>\n",
       "      <td>0</td>\n",
       "      <td>NaN</td>\n",
       "      <td>0.0</td>\n",
       "    </tr>\n",
       "  </tbody>\n",
       "</table>\n",
       "</div>"
      ],
      "text/plain": [
       "   loan_amnt        term int_rate  installment grade home_ownership  \\\n",
       "0      15000   36 months    7.90%       469.36     A           RENT   \n",
       "1      16000   60 months   19.91%       423.11     E           RENT   \n",
       "2       7100   36 months   16.77%       252.33     D       MORTGAGE   \n",
       "3      10000   36 months    8.90%       317.54     A           RENT   \n",
       "4       2500   36 months   14.27%        85.78     C           RENT   \n",
       "\n",
       "   annual_inc   issue_d loan_status             purpose    dti  total_acc  \\\n",
       "0     45000.0  Dec-2011  Fully Paid  debt_consolidation   8.48         27   \n",
       "1     81000.0  Dec-2011  Fully Paid         credit_card  20.52         21   \n",
       "2     33000.0  Dec-2011  Fully Paid  debt_consolidation  24.00          8   \n",
       "3     24000.0  Dec-2011  Fully Paid  debt_consolidation   7.00         21   \n",
       "4     49500.0  Dec-2011  Fully Paid  debt_consolidation  10.33         20   \n",
       "\n",
       "   acc_now_delinq  pct_tl_nvr_dlq  pub_rec_bankruptcies  \n",
       "0               0             NaN                   0.0  \n",
       "1               0             NaN                   0.0  \n",
       "2               0             NaN                   0.0  \n",
       "3               0             NaN                   0.0  \n",
       "4               0             NaN                   0.0  "
      ]
     },
     "execution_count": 3,
     "metadata": {},
     "output_type": "execute_result"
    }
   ],
   "source": [
    "df.head()"
   ]
  },
  {
   "cell_type": "code",
   "execution_count": 4,
   "metadata": {},
   "outputs": [],
   "source": [
    "# change datatype of issue date and sort the data by issue date\n",
    "df['issue_d'] = pd.to_datetime(df['issue_d'], format='%b-%Y')\n",
    "df.sort_values(by='issue_d', inplace=True)"
   ]
  },
  {
   "cell_type": "code",
   "execution_count": 5,
   "metadata": {},
   "outputs": [
    {
     "data": {
      "text/plain": [
       "(50000, 17)"
      ]
     },
     "execution_count": 5,
     "metadata": {},
     "output_type": "execute_result"
    }
   ],
   "source": [
    "# add macroeconomic variables\n",
    "# load macroeconomic data\n",
    "macro = pd.read_csv('../Data/Macro.csv')\n",
    "macro['Date'] = pd.to_datetime(macro['Date'], format='%Y-%m-%d')\n",
    "\n",
    "# merge macro data with loan data\n",
    "df = df.merge(macro, how='left', left_on='issue_d', right_on='Date')\n",
    "\n",
    "# drop Date column\n",
    "df.drop('Date', axis=1, inplace=True)\n",
    "\n",
    "df.shape"
   ]
  },
  {
   "cell_type": "markdown",
   "metadata": {},
   "source": [
    "The data set contains historical data of loans on Lending Club that went into default or not. We consider default the positive class and non-default the negative class. The target is dervied from the colum 'loan_status'. The target is assumed to be default if the status is 'default' or 'charged-off'."
   ]
  },
  {
   "cell_type": "code",
   "execution_count": 6,
   "metadata": {},
   "outputs": [
    {
     "data": {
      "text/plain": [
       "loan_status\n",
       "Fully Paid                                             25684\n",
       "Current                                                17537\n",
       "Charged Off                                             6199\n",
       "Late (31-120 days)                                       268\n",
       "In Grace Period                                          161\n",
       "Late (16-30 days)                                         48\n",
       "Issued                                                    47\n",
       "Does not meet the credit policy. Status:Fully Paid        43\n",
       "Does not meet the credit policy. Status:Charged Off       10\n",
       "Default                                                    3\n",
       "Name: count, dtype: int64"
      ]
     },
     "execution_count": 6,
     "metadata": {},
     "output_type": "execute_result"
    }
   ],
   "source": [
    "df['loan_status'].value_counts()"
   ]
  },
  {
   "cell_type": "code",
   "execution_count": 7,
   "metadata": {},
   "outputs": [
    {
     "data": {
      "text/plain": [
       "default\n",
       "0    43788\n",
       "1     6212\n",
       "Name: count, dtype: int64"
      ]
     },
     "execution_count": 7,
     "metadata": {},
     "output_type": "execute_result"
    }
   ],
   "source": [
    "# set the target variable as 1 if loan_status is 'Charged Off' or 'Default' or 'Does not meet the credit policy. Status:Charged Off'\n",
    "df['default'] = np.where((df['loan_status'] == 'Charged Off') | \n",
    "                        (df['loan_status'] == 'Default') | \n",
    "                        (df['loan_status'] == 'Does not meet the credit policy. Status:Charged Off'), \n",
    "                        1, # postive case\n",
    "                        0  # negative case\n",
    "                        )\n",
    "\n",
    "# drop loan_status column\n",
    "df.drop('loan_status', axis=1, inplace=True)\n",
    "\n",
    "df['default'].value_counts()"
   ]
  },
  {
   "cell_type": "markdown",
   "metadata": {},
   "source": [
    "Target:\n",
    "- default\n",
    "\n",
    "Categorical columns:\n",
    "- term\n",
    "- grade\n",
    "- home_ownership\n",
    "- purpose\n",
    "\n",
    "Numeric columns:\n",
    "- loan_amnt\n",
    "- installment\n",
    "- annual_inc\n",
    "- dti\n",
    "- total_acc\n",
    "- acc_now_delinq\n",
    "- pct_tl_nvr_dlq\n",
    "- GDP\n",
    "- VIX\n",
    "\n",
    "Date column:\n",
    "- issue_d"
   ]
  },
  {
   "cell_type": "markdown",
   "metadata": {},
   "source": [
    "# Feature Engineering"
   ]
  },
  {
   "cell_type": "code",
   "execution_count": 8,
   "metadata": {},
   "outputs": [
    {
     "data": {
      "text/plain": [
       "0    15.33\n",
       "1    10.59\n",
       "2    17.54\n",
       "3    14.38\n",
       "4    14.38\n",
       "Name: int_rate, dtype: float64"
      ]
     },
     "execution_count": 8,
     "metadata": {},
     "output_type": "execute_result"
    }
   ],
   "source": [
    "df['int_rate'] = df['int_rate'].str.replace('%', '').astype('float')\n",
    "df['int_rate'].head()"
   ]
  },
  {
   "cell_type": "code",
   "execution_count": 9,
   "metadata": {},
   "outputs": [
    {
     "data": {
      "text/plain": [
       "0    86000\n",
       "1    60000\n",
       "2    31000\n",
       "3    31500\n",
       "4    21360\n",
       "Name: annual_inc, dtype: int32"
      ]
     },
     "execution_count": 9,
     "metadata": {},
     "output_type": "execute_result"
    }
   ],
   "source": [
    "df['annual_inc'] = df['annual_inc'].astype('int')\n",
    "df['annual_inc'].head()"
   ]
  },
  {
   "cell_type": "code",
   "execution_count": 10,
   "metadata": {},
   "outputs": [],
   "source": [
    "# change the type to int\n",
    "df['total_acc'] = df['total_acc'].astype('int')"
   ]
  },
  {
   "cell_type": "code",
   "execution_count": 11,
   "metadata": {},
   "outputs": [],
   "source": [
    "# numeric features\n",
    "\n",
    "# replace lower or equal to 0 with NaN\n",
    "df.loc[df['loan_amnt'] <= 0, 'loan_amnt'] = np.nan\n",
    "df.loc[df['acc_now_delinq'] <= 0, 'acc_now_delinq'] = np.nan\n",
    "df.loc[df['annual_inc'] <= 0, 'annual_inc'] = np.nan\n",
    "df.loc[df['dti'] <= 0, 'dti'] = np.nan\n",
    "\n",
    "# log transform\n",
    "df['annual_inc'] = np.log1p(df['annual_inc'])\n",
    "df['loan_amnt'] = np.log1p(df['loan_amnt'])\n",
    "df['installment'] = np.log1p(df['installment'])\n",
    "df['dti'] = np.log1p(df['dti'])\n",
    "\n",
    "# create account delinquency ratio\n",
    "df['acc_delinq_ratio'] = df['acc_now_delinq'] / df['total_acc']\n",
    "\n",
    "# take log of total account\n",
    "df['total_acc'] = np.log1p(df['total_acc'])\n",
    "\n",
    "# drop acc_now_delinq\n",
    "df.drop('acc_now_delinq', axis=1, inplace=True)\n",
    "\n",
    "# cap interest rate at 100%\n",
    "df.loc[df['int_rate'] > 100, 'int_rate'] = 100\n",
    "\n",
    "# divide interest rate by 100\n",
    "df['int_rate'] = df['int_rate'] / 100\n",
    "\n",
    "# divide pecentage of never delinquent accounts by 100\n",
    "df['pct_tl_nvr_dlq'] = df['pct_tl_nvr_dlq'] / 100"
   ]
  },
  {
   "cell_type": "code",
   "execution_count": 12,
   "metadata": {},
   "outputs": [
    {
     "data": {
      "text/html": [
       "<div>\n",
       "<style scoped>\n",
       "    .dataframe tbody tr th:only-of-type {\n",
       "        vertical-align: middle;\n",
       "    }\n",
       "\n",
       "    .dataframe tbody tr th {\n",
       "        vertical-align: top;\n",
       "    }\n",
       "\n",
       "    .dataframe thead th {\n",
       "        text-align: right;\n",
       "    }\n",
       "</style>\n",
       "<table border=\"1\" class=\"dataframe\">\n",
       "  <thead>\n",
       "    <tr style=\"text-align: right;\">\n",
       "      <th></th>\n",
       "      <th>issue_d</th>\n",
       "      <th>loan_amnt</th>\n",
       "      <th>term</th>\n",
       "      <th>int_rate</th>\n",
       "      <th>installment</th>\n",
       "      <th>grade</th>\n",
       "      <th>home_ownership</th>\n",
       "      <th>annual_inc</th>\n",
       "      <th>purpose</th>\n",
       "      <th>dti</th>\n",
       "      <th>total_acc</th>\n",
       "      <th>pct_tl_nvr_dlq</th>\n",
       "      <th>pub_rec_bankruptcies</th>\n",
       "      <th>GDP</th>\n",
       "      <th>VIX</th>\n",
       "      <th>default</th>\n",
       "      <th>acc_delinq_ratio</th>\n",
       "      <th>year</th>\n",
       "      <th>month</th>\n",
       "    </tr>\n",
       "  </thead>\n",
       "  <tbody>\n",
       "    <tr>\n",
       "      <th>0</th>\n",
       "      <td>2007-07-01</td>\n",
       "      <td>8.294300</td>\n",
       "      <td>36 months</td>\n",
       "      <td>0.1533</td>\n",
       "      <td>4.943854</td>\n",
       "      <td>F</td>\n",
       "      <td>RENT</td>\n",
       "      <td>11.362114</td>\n",
       "      <td>credit_card</td>\n",
       "      <td>3.050220</td>\n",
       "      <td>3.637586</td>\n",
       "      <td>NaN</td>\n",
       "      <td>NaN</td>\n",
       "      <td>2.782811</td>\n",
       "      <td>16.230000</td>\n",
       "      <td>0</td>\n",
       "      <td>NaN</td>\n",
       "      <td>2007</td>\n",
       "      <td>7</td>\n",
       "    </tr>\n",
       "    <tr>\n",
       "      <th>1</th>\n",
       "      <td>2007-07-01</td>\n",
       "      <td>9.413363</td>\n",
       "      <td>36 months</td>\n",
       "      <td>0.1059</td>\n",
       "      <td>5.990689</td>\n",
       "      <td>C</td>\n",
       "      <td>RENT</td>\n",
       "      <td>11.002117</td>\n",
       "      <td>small_business</td>\n",
       "      <td>2.897016</td>\n",
       "      <td>3.218876</td>\n",
       "      <td>NaN</td>\n",
       "      <td>NaN</td>\n",
       "      <td>2.782811</td>\n",
       "      <td>16.230000</td>\n",
       "      <td>0</td>\n",
       "      <td>NaN</td>\n",
       "      <td>2007</td>\n",
       "      <td>7</td>\n",
       "    </tr>\n",
       "    <tr>\n",
       "      <th>2</th>\n",
       "      <td>2007-10-01</td>\n",
       "      <td>9.256842</td>\n",
       "      <td>36 months</td>\n",
       "      <td>0.1754</td>\n",
       "      <td>5.933014</td>\n",
       "      <td>G</td>\n",
       "      <td>RENT</td>\n",
       "      <td>10.341775</td>\n",
       "      <td>debt_consolidation</td>\n",
       "      <td>3.151453</td>\n",
       "      <td>2.772589</td>\n",
       "      <td>NaN</td>\n",
       "      <td>0.0</td>\n",
       "      <td>2.782811</td>\n",
       "      <td>18.000000</td>\n",
       "      <td>1</td>\n",
       "      <td>NaN</td>\n",
       "      <td>2007</td>\n",
       "      <td>10</td>\n",
       "    </tr>\n",
       "    <tr>\n",
       "      <th>3</th>\n",
       "      <td>2007-10-01</td>\n",
       "      <td>8.188967</td>\n",
       "      <td>36 months</td>\n",
       "      <td>0.1438</td>\n",
       "      <td>4.825991</td>\n",
       "      <td>E</td>\n",
       "      <td>RENT</td>\n",
       "      <td>10.357775</td>\n",
       "      <td>debt_consolidation</td>\n",
       "      <td>2.970927</td>\n",
       "      <td>2.302585</td>\n",
       "      <td>NaN</td>\n",
       "      <td>NaN</td>\n",
       "      <td>2.782811</td>\n",
       "      <td>18.000000</td>\n",
       "      <td>0</td>\n",
       "      <td>NaN</td>\n",
       "      <td>2007</td>\n",
       "      <td>10</td>\n",
       "    </tr>\n",
       "    <tr>\n",
       "      <th>4</th>\n",
       "      <td>2007-11-01</td>\n",
       "      <td>8.699681</td>\n",
       "      <td>36 months</td>\n",
       "      <td>0.1438</td>\n",
       "      <td>5.333588</td>\n",
       "      <td>E</td>\n",
       "      <td>RENT</td>\n",
       "      <td>9.969322</td>\n",
       "      <td>debt_consolidation</td>\n",
       "      <td>2.992226</td>\n",
       "      <td>2.772589</td>\n",
       "      <td>NaN</td>\n",
       "      <td>NaN</td>\n",
       "      <td>2.782811</td>\n",
       "      <td>18.530001</td>\n",
       "      <td>0</td>\n",
       "      <td>NaN</td>\n",
       "      <td>2007</td>\n",
       "      <td>11</td>\n",
       "    </tr>\n",
       "  </tbody>\n",
       "</table>\n",
       "</div>"
      ],
      "text/plain": [
       "     issue_d  loan_amnt        term  int_rate  installment grade  \\\n",
       "0 2007-07-01   8.294300   36 months    0.1533     4.943854     F   \n",
       "1 2007-07-01   9.413363   36 months    0.1059     5.990689     C   \n",
       "2 2007-10-01   9.256842   36 months    0.1754     5.933014     G   \n",
       "3 2007-10-01   8.188967   36 months    0.1438     4.825991     E   \n",
       "4 2007-11-01   8.699681   36 months    0.1438     5.333588     E   \n",
       "\n",
       "  home_ownership  annual_inc             purpose       dti  total_acc  \\\n",
       "0           RENT   11.362114         credit_card  3.050220   3.637586   \n",
       "1           RENT   11.002117      small_business  2.897016   3.218876   \n",
       "2           RENT   10.341775  debt_consolidation  3.151453   2.772589   \n",
       "3           RENT   10.357775  debt_consolidation  2.970927   2.302585   \n",
       "4           RENT    9.969322  debt_consolidation  2.992226   2.772589   \n",
       "\n",
       "   pct_tl_nvr_dlq  pub_rec_bankruptcies       GDP        VIX  default  \\\n",
       "0             NaN                   NaN  2.782811  16.230000        0   \n",
       "1             NaN                   NaN  2.782811  16.230000        0   \n",
       "2             NaN                   0.0  2.782811  18.000000        1   \n",
       "3             NaN                   NaN  2.782811  18.000000        0   \n",
       "4             NaN                   NaN  2.782811  18.530001        0   \n",
       "\n",
       "   acc_delinq_ratio  year  month  \n",
       "0               NaN  2007      7  \n",
       "1               NaN  2007      7  \n",
       "2               NaN  2007     10  \n",
       "3               NaN  2007     10  \n",
       "4               NaN  2007     11  "
      ]
     },
     "execution_count": 12,
     "metadata": {},
     "output_type": "execute_result"
    }
   ],
   "source": [
    "# move issue_d to the first column\n",
    "cols = list(df.columns)\n",
    "cols.remove('issue_d')\n",
    "cols = ['issue_d'] + cols\n",
    "df = df[cols]\n",
    "\n",
    "# create a new column with the year of the issue date\n",
    "df['year'] = df['issue_d'].dt.year\n",
    "\n",
    "# create a new column with the month of the issue date\n",
    "df['month'] = df['issue_d'].dt.month\n",
    "\n",
    "df.head()"
   ]
  },
  {
   "cell_type": "code",
   "execution_count": 13,
   "metadata": {},
   "outputs": [
    {
     "data": {
      "text/plain": [
       "(2487, 19)"
      ]
     },
     "execution_count": 13,
     "metadata": {},
     "output_type": "execute_result"
    }
   ],
   "source": [
    "# find observations where the year is 2020\n",
    "df.loc[df['year'] == 2020].shape"
   ]
  },
  {
   "cell_type": "code",
   "execution_count": 14,
   "metadata": {},
   "outputs": [],
   "source": [
    "df.set_index('issue_d', inplace=True)"
   ]
  },
  {
   "cell_type": "code",
   "execution_count": 15,
   "metadata": {},
   "outputs": [
    {
     "data": {
      "text/plain": [
       "DatetimeIndex(['2007-07-01', '2007-07-01', '2007-10-01', '2007-10-01',\n",
       "               '2007-11-01', '2007-12-01', '2007-12-01', '2008-01-01',\n",
       "               '2008-01-01', '2008-01-01',\n",
       "               ...\n",
       "               '2020-09-01', '2020-09-01', '2020-09-01', '2020-09-01',\n",
       "               '2020-09-01', '2020-09-01', '2020-09-01', '2020-09-01',\n",
       "               '2020-09-01', '2020-09-01'],\n",
       "              dtype='datetime64[ns]', name='issue_d', length=50000, freq=None)"
      ]
     },
     "execution_count": 15,
     "metadata": {},
     "output_type": "execute_result"
    }
   ],
   "source": [
    "df.index"
   ]
  },
  {
   "cell_type": "code",
   "execution_count": 16,
   "metadata": {},
   "outputs": [
    {
     "data": {
      "text/plain": [
       "(223, 18)"
      ]
     },
     "execution_count": 16,
     "metadata": {},
     "output_type": "execute_result"
    }
   ],
   "source": [
    "# find the number of loans issued in the last month\n",
    "df.loc['2020-09'].shape"
   ]
  },
  {
   "cell_type": "markdown",
   "metadata": {},
   "source": [
    "Loans issued in September 2020 are used to test the portfolio strategy. To mimic a real world senario, GDP growth rate and VIX are forecasted on a six-month horizon and the portfolio composition is updated accordingly based on iterative monthly PD predictions. \n",
    "\n",
    "For simplicity, we assume that the time difference between when a loan is issued, purchased for the first time and available again in the secondary market is negligible. "
   ]
  },
  {
   "cell_type": "code",
   "execution_count": 17,
   "metadata": {},
   "outputs": [
    {
     "data": {
      "text/plain": [
       "(223, 18)"
      ]
     },
     "execution_count": 17,
     "metadata": {},
     "output_type": "execute_result"
    }
   ],
   "source": [
    "# extrat contracts in the last month\n",
    "df_portfolio = df.loc['2020-09'].copy()\n",
    "\n",
    "df_portfolio.shape"
   ]
  },
  {
   "cell_type": "code",
   "execution_count": 18,
   "metadata": {},
   "outputs": [
    {
     "name": "stdout",
     "output_type": "stream",
     "text": [
      "(50000, 18)\n",
      "(49777, 18)\n"
     ]
    }
   ],
   "source": [
    "# remove loans that belong to the portfolio\n",
    "\n",
    "print(df.shape)\n",
    "df.drop(df_portfolio.index, inplace=True)\n",
    "print(df.shape)"
   ]
  },
  {
   "cell_type": "markdown",
   "metadata": {},
   "source": [
    "# Train-Test Split"
   ]
  },
  {
   "cell_type": "code",
   "execution_count": 19,
   "metadata": {},
   "outputs": [
    {
     "data": {
      "text/plain": [
       "year\n",
       "2019    8758\n",
       "2018    8536\n",
       "2017    7575\n",
       "2016    7484\n",
       "2015    7176\n",
       "2014    4032\n",
       "2013    2330\n",
       "2020    2264\n",
       "2012     911\n",
       "2011     354\n",
       "2010     207\n",
       "2009      96\n",
       "2008      47\n",
       "2007       7\n",
       "Name: count, dtype: int64"
      ]
     },
     "execution_count": 19,
     "metadata": {},
     "output_type": "execute_result"
    }
   ],
   "source": [
    "df['year'].value_counts()"
   ]
  },
  {
   "cell_type": "markdown",
   "metadata": {},
   "source": [
    "Based on the count of observations year by year, the test set includes years 2019 and 2020, while the train set includes all the years before. This ensures a split of about 80%-20%."
   ]
  },
  {
   "cell_type": "code",
   "execution_count": 20,
   "metadata": {},
   "outputs": [
    {
     "name": "stdout",
     "output_type": "stream",
     "text": [
      "(38755, 18)\n",
      "(11022, 18)\n"
     ]
    }
   ],
   "source": [
    "# define train and test sets\n",
    "train_set = df.iloc[(df.index.year < 2019)]\n",
    "test_set = df.iloc[(df.index.year >= 2019)]\n",
    "\n",
    "\n",
    "print(train_set.shape)\n",
    "print(test_set.shape)"
   ]
  },
  {
   "cell_type": "markdown",
   "metadata": {},
   "source": [
    "# Exploratory Data Analysis"
   ]
  },
  {
   "cell_type": "code",
   "execution_count": 26,
   "metadata": {},
   "outputs": [],
   "source": [
    "# move default column to the front\n",
    "cols = list(train_set.columns)\n",
    "cols.remove('default')\n",
    "cols = ['default'] + cols\n",
    "train_set = train_set[cols]"
   ]
  },
  {
   "cell_type": "code",
   "execution_count": 27,
   "metadata": {},
   "outputs": [
    {
     "data": {
      "text/html": [
       "<div>\n",
       "<style scoped>\n",
       "    .dataframe tbody tr th:only-of-type {\n",
       "        vertical-align: middle;\n",
       "    }\n",
       "\n",
       "    .dataframe tbody tr th {\n",
       "        vertical-align: top;\n",
       "    }\n",
       "\n",
       "    .dataframe thead th {\n",
       "        text-align: right;\n",
       "    }\n",
       "</style>\n",
       "<table border=\"1\" class=\"dataframe\">\n",
       "  <thead>\n",
       "    <tr style=\"text-align: right;\">\n",
       "      <th></th>\n",
       "      <th>count</th>\n",
       "      <th>mean</th>\n",
       "      <th>std</th>\n",
       "      <th>min</th>\n",
       "      <th>25%</th>\n",
       "      <th>50%</th>\n",
       "      <th>75%</th>\n",
       "      <th>max</th>\n",
       "    </tr>\n",
       "  </thead>\n",
       "  <tbody>\n",
       "    <tr>\n",
       "      <th>default</th>\n",
       "      <td>38755.0</td>\n",
       "      <td>0.153916</td>\n",
       "      <td>0.360873</td>\n",
       "      <td>0.000000</td>\n",
       "      <td>0.000000</td>\n",
       "      <td>0.000000</td>\n",
       "      <td>0.000000</td>\n",
       "      <td>1.000000</td>\n",
       "    </tr>\n",
       "    <tr>\n",
       "      <th>loan_amnt</th>\n",
       "      <td>38755.0</td>\n",
       "      <td>9.404916</td>\n",
       "      <td>0.707190</td>\n",
       "      <td>6.216606</td>\n",
       "      <td>8.987322</td>\n",
       "      <td>9.472782</td>\n",
       "      <td>9.903538</td>\n",
       "      <td>10.596660</td>\n",
       "    </tr>\n",
       "    <tr>\n",
       "      <th>int_rate</th>\n",
       "      <td>38755.0</td>\n",
       "      <td>0.130867</td>\n",
       "      <td>0.048626</td>\n",
       "      <td>0.053100</td>\n",
       "      <td>0.094900</td>\n",
       "      <td>0.126200</td>\n",
       "      <td>0.159900</td>\n",
       "      <td>0.309900</td>\n",
       "    </tr>\n",
       "    <tr>\n",
       "      <th>installment</th>\n",
       "      <td>38755.0</td>\n",
       "      <td>5.912835</td>\n",
       "      <td>0.657677</td>\n",
       "      <td>2.882004</td>\n",
       "      <td>5.534022</td>\n",
       "      <td>5.941013</td>\n",
       "      <td>6.388511</td>\n",
       "      <td>7.336859</td>\n",
       "    </tr>\n",
       "    <tr>\n",
       "      <th>annual_inc</th>\n",
       "      <td>38722.0</td>\n",
       "      <td>11.095694</td>\n",
       "      <td>0.559738</td>\n",
       "      <td>0.693147</td>\n",
       "      <td>10.736418</td>\n",
       "      <td>11.082158</td>\n",
       "      <td>11.440366</td>\n",
       "      <td>15.761421</td>\n",
       "    </tr>\n",
       "    <tr>\n",
       "      <th>dti</th>\n",
       "      <td>38697.0</td>\n",
       "      <td>2.846732</td>\n",
       "      <td>0.563072</td>\n",
       "      <td>0.019803</td>\n",
       "      <td>2.553344</td>\n",
       "      <td>2.937043</td>\n",
       "      <td>3.240637</td>\n",
       "      <td>6.907755</td>\n",
       "    </tr>\n",
       "    <tr>\n",
       "      <th>total_acc</th>\n",
       "      <td>38755.0</td>\n",
       "      <td>3.106638</td>\n",
       "      <td>0.501225</td>\n",
       "      <td>1.098612</td>\n",
       "      <td>2.772589</td>\n",
       "      <td>3.135494</td>\n",
       "      <td>3.465736</td>\n",
       "      <td>4.727388</td>\n",
       "    </tr>\n",
       "    <tr>\n",
       "      <th>pct_tl_nvr_dlq</th>\n",
       "      <td>37551.0</td>\n",
       "      <td>0.940605</td>\n",
       "      <td>0.090316</td>\n",
       "      <td>0.125000</td>\n",
       "      <td>0.912000</td>\n",
       "      <td>0.984000</td>\n",
       "      <td>1.000000</td>\n",
       "      <td>1.000000</td>\n",
       "    </tr>\n",
       "    <tr>\n",
       "      <th>pub_rec_bankruptcies</th>\n",
       "      <td>38733.0</td>\n",
       "      <td>0.129786</td>\n",
       "      <td>0.371120</td>\n",
       "      <td>0.000000</td>\n",
       "      <td>0.000000</td>\n",
       "      <td>0.000000</td>\n",
       "      <td>0.000000</td>\n",
       "      <td>8.000000</td>\n",
       "    </tr>\n",
       "    <tr>\n",
       "      <th>GDP</th>\n",
       "      <td>38755.0</td>\n",
       "      <td>2.145234</td>\n",
       "      <td>0.513475</td>\n",
       "      <td>-2.599888</td>\n",
       "      <td>1.841875</td>\n",
       "      <td>2.241921</td>\n",
       "      <td>2.287776</td>\n",
       "      <td>2.782811</td>\n",
       "    </tr>\n",
       "    <tr>\n",
       "      <th>VIX</th>\n",
       "      <td>38755.0</td>\n",
       "      <td>15.325003</td>\n",
       "      <td>4.114291</td>\n",
       "      <td>9.510000</td>\n",
       "      <td>12.370000</td>\n",
       "      <td>14.190000</td>\n",
       "      <td>17.469999</td>\n",
       "      <td>59.889999</td>\n",
       "    </tr>\n",
       "    <tr>\n",
       "      <th>acc_delinq_ratio</th>\n",
       "      <td>155.0</td>\n",
       "      <td>0.043153</td>\n",
       "      <td>0.027400</td>\n",
       "      <td>0.014085</td>\n",
       "      <td>0.027402</td>\n",
       "      <td>0.034483</td>\n",
       "      <td>0.050000</td>\n",
       "      <td>0.250000</td>\n",
       "    </tr>\n",
       "    <tr>\n",
       "      <th>year</th>\n",
       "      <td>38755.0</td>\n",
       "      <td>2015.861953</td>\n",
       "      <td>1.791727</td>\n",
       "      <td>2007.000000</td>\n",
       "      <td>2015.000000</td>\n",
       "      <td>2016.000000</td>\n",
       "      <td>2017.000000</td>\n",
       "      <td>2018.000000</td>\n",
       "    </tr>\n",
       "    <tr>\n",
       "      <th>month</th>\n",
       "      <td>38755.0</td>\n",
       "      <td>6.740188</td>\n",
       "      <td>3.395469</td>\n",
       "      <td>1.000000</td>\n",
       "      <td>4.000000</td>\n",
       "      <td>7.000000</td>\n",
       "      <td>10.000000</td>\n",
       "      <td>12.000000</td>\n",
       "    </tr>\n",
       "  </tbody>\n",
       "</table>\n",
       "</div>"
      ],
      "text/plain": [
       "                        count         mean       std          min  \\\n",
       "default               38755.0     0.153916  0.360873     0.000000   \n",
       "loan_amnt             38755.0     9.404916  0.707190     6.216606   \n",
       "int_rate              38755.0     0.130867  0.048626     0.053100   \n",
       "installment           38755.0     5.912835  0.657677     2.882004   \n",
       "annual_inc            38722.0    11.095694  0.559738     0.693147   \n",
       "dti                   38697.0     2.846732  0.563072     0.019803   \n",
       "total_acc             38755.0     3.106638  0.501225     1.098612   \n",
       "pct_tl_nvr_dlq        37551.0     0.940605  0.090316     0.125000   \n",
       "pub_rec_bankruptcies  38733.0     0.129786  0.371120     0.000000   \n",
       "GDP                   38755.0     2.145234  0.513475    -2.599888   \n",
       "VIX                   38755.0    15.325003  4.114291     9.510000   \n",
       "acc_delinq_ratio        155.0     0.043153  0.027400     0.014085   \n",
       "year                  38755.0  2015.861953  1.791727  2007.000000   \n",
       "month                 38755.0     6.740188  3.395469     1.000000   \n",
       "\n",
       "                              25%          50%          75%          max  \n",
       "default                  0.000000     0.000000     0.000000     1.000000  \n",
       "loan_amnt                8.987322     9.472782     9.903538    10.596660  \n",
       "int_rate                 0.094900     0.126200     0.159900     0.309900  \n",
       "installment              5.534022     5.941013     6.388511     7.336859  \n",
       "annual_inc              10.736418    11.082158    11.440366    15.761421  \n",
       "dti                      2.553344     2.937043     3.240637     6.907755  \n",
       "total_acc                2.772589     3.135494     3.465736     4.727388  \n",
       "pct_tl_nvr_dlq           0.912000     0.984000     1.000000     1.000000  \n",
       "pub_rec_bankruptcies     0.000000     0.000000     0.000000     8.000000  \n",
       "GDP                      1.841875     2.241921     2.287776     2.782811  \n",
       "VIX                     12.370000    14.190000    17.469999    59.889999  \n",
       "acc_delinq_ratio         0.027402     0.034483     0.050000     0.250000  \n",
       "year                  2015.000000  2016.000000  2017.000000  2018.000000  \n",
       "month                    4.000000     7.000000    10.000000    12.000000  "
      ]
     },
     "execution_count": 27,
     "metadata": {},
     "output_type": "execute_result"
    }
   ],
   "source": [
    "train_set.describe().T"
   ]
  },
  {
   "cell_type": "code",
   "execution_count": 29,
   "metadata": {},
   "outputs": [
    {
     "data": {
      "text/plain": [
       "Index(['default', 'loan_amnt', 'int_rate', 'installment', 'annual_inc', 'dti',\n",
       "       'total_acc', 'pct_tl_nvr_dlq', 'pub_rec_bankruptcies', 'GDP', 'VIX',\n",
       "       'acc_delinq_ratio', 'year', 'month'],\n",
       "      dtype='object')"
      ]
     },
     "execution_count": 29,
     "metadata": {},
     "output_type": "execute_result"
    }
   ],
   "source": [
    "numeric_columns = train_set.select_dtypes(include=[np.number]).columns\n",
    "numeric_columns"
   ]
  },
  {
   "cell_type": "code",
   "execution_count": 30,
   "metadata": {},
   "outputs": [
    {
     "data": {
      "image/png": "[encoded data removed]",
      "text/plain": [
       "<Figure size 1400x1000 with 2 Axes>"
      ]
     },
     "metadata": {},
     "output_type": "display_data"
    }
   ],
   "source": [
    "kwargs = {\n",
    "    'heatmap': {\n",
    "        'vmin': -1,\n",
    "        'vmax': 1,\n",
    "        'cmap': 'viridis',\n",
    "    },\n",
    "    'figure': {\n",
    "        'figsize': (14, 10),\n",
    "    },\n",
    "}\n",
    "\n",
    "plot_correlation_heatmap(train_set[numeric_columns], bubble=True, annotate=False, **kwargs)\n",
    "plt.show()"
   ]
  },
  {
   "cell_type": "code",
   "execution_count": null,
   "metadata": {},
   "outputs": [],
   "source": []
  }
 ],
 "metadata": {
  "kernelspec": {
   "display_name": "python39",
   "language": "python",
   "name": "python3"
  },
  "language_info": {
   "codemirror_mode": {
    "name": "ipython",
    "version": 3
   },
   "file_extension": ".py",
   "mimetype": "text/x-python",
   "name": "python",
   "nbconvert_exporter": "python",
   "pygments_lexer": "ipython3",
   "version": "3.9.18"
  }
 },
 "nbformat": 4,
 "nbformat_minor": 2
}
