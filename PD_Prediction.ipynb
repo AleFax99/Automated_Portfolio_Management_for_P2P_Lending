{
 "cells": [
  {
   "cell_type": "markdown",
   "metadata": {},
   "source": [
    "Based on the insights from Data Cleaning, we keep only a subset of the columns available to avoid any leakage of future information which is unavailable when the contract is introduced for the first time in the secondary market on the P2P Lending Platform. "
   ]
  },
  {
   "cell_type": "code",
   "execution_count": 30,
   "metadata": {},
   "outputs": [],
   "source": [
    "# import the necessary packages\n",
    "import numpy as np\n",
    "import os\n",
    "import sys\n",
    "import time\n",
    "import pandas as pd\n",
    "import matplotlib.pyplot as plt\n",
    "import seaborn as sns\n",
    "from sklearn.model_selection import train_test_split\n",
    "from sklearn.metrics import classification_report\n",
    "from sklearn.metrics import confusion_matrix\n",
    "from sklearn.metrics import f1_score\n",
    "from sklearn.metrics import accuracy_score\n",
    "\n",
    "from sklearn.ensemble import RandomForestClassifier\n",
    "\n",
    "from sklearn import preprocessing as pp\n",
    "from sklearn.pipeline import Pipeline\n",
    "from sklearn.model_selection import TimeSeriesSplit\n",
    "\n",
    "from sklearn.model_selection import GridSearchCV"
   ]
  },
  {
   "cell_type": "code",
   "execution_count": 31,
   "metadata": {},
   "outputs": [
    {
     "data": {
      "text/plain": [
       "(50000, 15)"
      ]
     },
     "execution_count": 31,
     "metadata": {},
     "output_type": "execute_result"
    }
   ],
   "source": [
    "df = pd.read_csv('../Data/Loan_status_Cleaned.csv')\n",
    "df.shape"
   ]
  },
  {
   "cell_type": "code",
   "execution_count": 32,
   "metadata": {},
   "outputs": [
    {
     "data": {
      "text/html": [
       "<div>\n",
       "<style scoped>\n",
       "    .dataframe tbody tr th:only-of-type {\n",
       "        vertical-align: middle;\n",
       "    }\n",
       "\n",
       "    .dataframe tbody tr th {\n",
       "        vertical-align: top;\n",
       "    }\n",
       "\n",
       "    .dataframe thead th {\n",
       "        text-align: right;\n",
       "    }\n",
       "</style>\n",
       "<table border=\"1\" class=\"dataframe\">\n",
       "  <thead>\n",
       "    <tr style=\"text-align: right;\">\n",
       "      <th></th>\n",
       "      <th>loan_amnt</th>\n",
       "      <th>term</th>\n",
       "      <th>int_rate</th>\n",
       "      <th>installment</th>\n",
       "      <th>grade</th>\n",
       "      <th>home_ownership</th>\n",
       "      <th>annual_inc</th>\n",
       "      <th>issue_d</th>\n",
       "      <th>loan_status</th>\n",
       "      <th>purpose</th>\n",
       "      <th>dti</th>\n",
       "      <th>total_acc</th>\n",
       "      <th>acc_now_delinq</th>\n",
       "      <th>pct_tl_nvr_dlq</th>\n",
       "      <th>pub_rec_bankruptcies</th>\n",
       "    </tr>\n",
       "  </thead>\n",
       "  <tbody>\n",
       "    <tr>\n",
       "      <th>0</th>\n",
       "      <td>15000</td>\n",
       "      <td>36 months</td>\n",
       "      <td>7.90%</td>\n",
       "      <td>469.36</td>\n",
       "      <td>A</td>\n",
       "      <td>RENT</td>\n",
       "      <td>45000.0</td>\n",
       "      <td>Dec-2011</td>\n",
       "      <td>Fully Paid</td>\n",
       "      <td>debt_consolidation</td>\n",
       "      <td>8.48</td>\n",
       "      <td>27</td>\n",
       "      <td>0</td>\n",
       "      <td>NaN</td>\n",
       "      <td>0.0</td>\n",
       "    </tr>\n",
       "    <tr>\n",
       "      <th>1</th>\n",
       "      <td>16000</td>\n",
       "      <td>60 months</td>\n",
       "      <td>19.91%</td>\n",
       "      <td>423.11</td>\n",
       "      <td>E</td>\n",
       "      <td>RENT</td>\n",
       "      <td>81000.0</td>\n",
       "      <td>Dec-2011</td>\n",
       "      <td>Fully Paid</td>\n",
       "      <td>credit_card</td>\n",
       "      <td>20.52</td>\n",
       "      <td>21</td>\n",
       "      <td>0</td>\n",
       "      <td>NaN</td>\n",
       "      <td>0.0</td>\n",
       "    </tr>\n",
       "    <tr>\n",
       "      <th>2</th>\n",
       "      <td>7100</td>\n",
       "      <td>36 months</td>\n",
       "      <td>16.77%</td>\n",
       "      <td>252.33</td>\n",
       "      <td>D</td>\n",
       "      <td>MORTGAGE</td>\n",
       "      <td>33000.0</td>\n",
       "      <td>Dec-2011</td>\n",
       "      <td>Fully Paid</td>\n",
       "      <td>debt_consolidation</td>\n",
       "      <td>24.00</td>\n",
       "      <td>8</td>\n",
       "      <td>0</td>\n",
       "      <td>NaN</td>\n",
       "      <td>0.0</td>\n",
       "    </tr>\n",
       "    <tr>\n",
       "      <th>3</th>\n",
       "      <td>10000</td>\n",
       "      <td>36 months</td>\n",
       "      <td>8.90%</td>\n",
       "      <td>317.54</td>\n",
       "      <td>A</td>\n",
       "      <td>RENT</td>\n",
       "      <td>24000.0</td>\n",
       "      <td>Dec-2011</td>\n",
       "      <td>Fully Paid</td>\n",
       "      <td>debt_consolidation</td>\n",
       "      <td>7.00</td>\n",
       "      <td>21</td>\n",
       "      <td>0</td>\n",
       "      <td>NaN</td>\n",
       "      <td>0.0</td>\n",
       "    </tr>\n",
       "    <tr>\n",
       "      <th>4</th>\n",
       "      <td>2500</td>\n",
       "      <td>36 months</td>\n",
       "      <td>14.27%</td>\n",
       "      <td>85.78</td>\n",
       "      <td>C</td>\n",
       "      <td>RENT</td>\n",
       "      <td>49500.0</td>\n",
       "      <td>Dec-2011</td>\n",
       "      <td>Fully Paid</td>\n",
       "      <td>debt_consolidation</td>\n",
       "      <td>10.33</td>\n",
       "      <td>20</td>\n",
       "      <td>0</td>\n",
       "      <td>NaN</td>\n",
       "      <td>0.0</td>\n",
       "    </tr>\n",
       "  </tbody>\n",
       "</table>\n",
       "</div>"
      ],
      "text/plain": [
       "   loan_amnt        term int_rate  installment grade home_ownership  \\\n",
       "0      15000   36 months    7.90%       469.36     A           RENT   \n",
       "1      16000   60 months   19.91%       423.11     E           RENT   \n",
       "2       7100   36 months   16.77%       252.33     D       MORTGAGE   \n",
       "3      10000   36 months    8.90%       317.54     A           RENT   \n",
       "4       2500   36 months   14.27%        85.78     C           RENT   \n",
       "\n",
       "   annual_inc   issue_d loan_status             purpose    dti  total_acc  \\\n",
       "0     45000.0  Dec-2011  Fully Paid  debt_consolidation   8.48         27   \n",
       "1     81000.0  Dec-2011  Fully Paid         credit_card  20.52         21   \n",
       "2     33000.0  Dec-2011  Fully Paid  debt_consolidation  24.00          8   \n",
       "3     24000.0  Dec-2011  Fully Paid  debt_consolidation   7.00         21   \n",
       "4     49500.0  Dec-2011  Fully Paid  debt_consolidation  10.33         20   \n",
       "\n",
       "   acc_now_delinq  pct_tl_nvr_dlq  pub_rec_bankruptcies  \n",
       "0               0             NaN                   0.0  \n",
       "1               0             NaN                   0.0  \n",
       "2               0             NaN                   0.0  \n",
       "3               0             NaN                   0.0  \n",
       "4               0             NaN                   0.0  "
      ]
     },
     "execution_count": 32,
     "metadata": {},
     "output_type": "execute_result"
    }
   ],
   "source": [
    "df.head()"
   ]
  },
  {
   "cell_type": "code",
   "execution_count": null,
   "metadata": {},
   "outputs": [],
   "source": []
  },
  {
   "cell_type": "markdown",
   "metadata": {},
   "source": [
    "Categorical columns:\n",
    "- term\n",
    "- grade\n",
    "- home_ownership\n",
    "- purpose\n",
    "\n",
    "Numeric columns:\n",
    "- loan_amnt\n",
    "- installment\n",
    "- annual_inc\n",
    "- dti\n",
    "- total_acc\n",
    "- acc_now_delinq\n",
    "- pct_tl_nvr_dlq\n",
    "\n",
    "Date column:\n",
    "- issue_d"
   ]
  },
  {
   "cell_type": "markdown",
   "metadata": {},
   "source": [
    "# Feature Engineering"
   ]
  },
  {
   "cell_type": "code",
   "execution_count": 33,
   "metadata": {},
   "outputs": [],
   "source": [
    "df['issue_d'] = pd.to_datetime(df['issue_d'], format='%b-%Y')"
   ]
  },
  {
   "cell_type": "code",
   "execution_count": 34,
   "metadata": {},
   "outputs": [
    {
     "data": {
      "text/plain": [
       "0     7.90\n",
       "1    19.91\n",
       "2    16.77\n",
       "3     8.90\n",
       "4    14.27\n",
       "Name: int_rate, dtype: float64"
      ]
     },
     "execution_count": 34,
     "metadata": {},
     "output_type": "execute_result"
    }
   ],
   "source": [
    "df['int_rate'] = df['int_rate'].str.replace('%', '').astype('float')\n",
    "df['int_rate'].head()"
   ]
  },
  {
   "cell_type": "code",
   "execution_count": 35,
   "metadata": {},
   "outputs": [
    {
     "data": {
      "text/plain": [
       "0    45000\n",
       "1    81000\n",
       "2    33000\n",
       "3    24000\n",
       "4    49500\n",
       "Name: annual_inc, dtype: int32"
      ]
     },
     "execution_count": 35,
     "metadata": {},
     "output_type": "execute_result"
    }
   ],
   "source": [
    "df['annual_inc'] = df['annual_inc'].astype('int')\n",
    "df['annual_inc'].head()"
   ]
  },
  {
   "cell_type": "code",
   "execution_count": 36,
   "metadata": {},
   "outputs": [],
   "source": [
    "# replace the only missing value in total_acc with 0 and change the type to int\n",
    "df['total_acc'] = df['total_acc'].astype('int')"
   ]
  },
  {
   "cell_type": "code",
   "execution_count": 37,
   "metadata": {},
   "outputs": [],
   "source": [
    "# numeric features\n",
    "\n",
    "# replae lower or equal to 0 with NaN\n",
    "df.loc[df['loan_amnt'] <= 0, 'loan_amnt'] = np.nan\n",
    "df.loc[df['acc_now_delinq'] <= 0, 'acc_now_delinq'] = np.nan\n",
    "df.loc[df['annual_inc'] <= 0, 'annual_inc'] = np.nan\n",
    "df.loc[df['dti'] <= 0, 'dti'] = np.nan\n",
    "\n",
    "# log transform\n",
    "df['annual_inc'] = np.log1p(df['annual_inc'])\n",
    "df['loan_amnt'] = np.log1p(df['loan_amnt'])\n",
    "df['installment'] = np.log1p(df['installment'])\n",
    "\n",
    "\n",
    "# create account delinquency ratio\n",
    "df['acc_delinq_ratio'] = df['acc_now_delinq'] / df['total_acc']\n",
    "\n",
    "# take log of total account\n",
    "df['total_acc'] = np.log1p(df['total_acc'])\n",
    "\n",
    "# drop acc_now_delinq\n",
    "df.drop('acc_now_delinq', axis=1, inplace=True)\n",
    "\n",
    "# cap interest rate at 100%\n",
    "df.loc[df['int_rate'] > 100, 'int_rate'] = 100\n",
    "\n",
    "# divide interest rate by 100\n",
    "df['int_rate'] = df['int_rate'] / 100\n",
    "\n",
    "# divide pecentage of never delinquent accounts by 100\n",
    "df['pct_tl_nvr_dlq'] = df['pct_tl_nvr_dlq'] / 100"
   ]
  },
  {
   "cell_type": "code",
   "execution_count": 38,
   "metadata": {},
   "outputs": [
    {
     "data": {
      "text/plain": [
       "issue_d\n",
       "2019    8758\n",
       "2018    8536\n",
       "2017    7575\n",
       "2016    7484\n",
       "2015    7176\n",
       "2014    4032\n",
       "2020    2487\n",
       "2013    2330\n",
       "2012     911\n",
       "2011     354\n",
       "2010     207\n",
       "2009      96\n",
       "2008      47\n",
       "2007       7\n",
       "Name: count, dtype: int64"
      ]
     },
     "execution_count": 38,
     "metadata": {},
     "output_type": "execute_result"
    }
   ],
   "source": [
    "# check how many observations per year the dataset contains\n",
    "df['issue_d'].dt.year.value_counts()"
   ]
  },
  {
   "cell_type": "code",
   "execution_count": 39,
   "metadata": {},
   "outputs": [
    {
     "data": {
      "text/plain": [
       "(50000, 15)"
      ]
     },
     "execution_count": 39,
     "metadata": {},
     "output_type": "execute_result"
    }
   ],
   "source": [
    "df.shape"
   ]
  },
  {
   "cell_type": "markdown",
   "metadata": {},
   "source": [
    "Addition of macroeconomic variables: GDP growth rate (lagged by one year in the past), and Volatility index lagged one month in the past."
   ]
  },
  {
   "cell_type": "code",
   "execution_count": 49,
   "metadata": {},
   "outputs": [
    {
     "data": {
      "text/html": [
       "<div>\n",
       "<style scoped>\n",
       "    .dataframe tbody tr th:only-of-type {\n",
       "        vertical-align: middle;\n",
       "    }\n",
       "\n",
       "    .dataframe tbody tr th {\n",
       "        vertical-align: top;\n",
       "    }\n",
       "\n",
       "    .dataframe thead th {\n",
       "        text-align: right;\n",
       "    }\n",
       "</style>\n",
       "<table border=\"1\" class=\"dataframe\">\n",
       "  <thead>\n",
       "    <tr style=\"text-align: right;\">\n",
       "      <th></th>\n",
       "      <th>GDP</th>\n",
       "      <th>Date</th>\n",
       "      <th>VIX</th>\n",
       "    </tr>\n",
       "  </thead>\n",
       "  <tbody>\n",
       "    <tr>\n",
       "      <th>0</th>\n",
       "      <td>NaN</td>\n",
       "      <td>2006-12-01</td>\n",
       "      <td>NaN</td>\n",
       "    </tr>\n",
       "    <tr>\n",
       "      <th>1</th>\n",
       "      <td>2.782811</td>\n",
       "      <td>2007-01-01</td>\n",
       "      <td>11.56</td>\n",
       "    </tr>\n",
       "    <tr>\n",
       "      <th>2</th>\n",
       "      <td>2.782811</td>\n",
       "      <td>2007-02-01</td>\n",
       "      <td>10.42</td>\n",
       "    </tr>\n",
       "    <tr>\n",
       "      <th>3</th>\n",
       "      <td>2.782811</td>\n",
       "      <td>2007-03-01</td>\n",
       "      <td>15.42</td>\n",
       "    </tr>\n",
       "    <tr>\n",
       "      <th>4</th>\n",
       "      <td>2.782811</td>\n",
       "      <td>2007-04-01</td>\n",
       "      <td>14.64</td>\n",
       "    </tr>\n",
       "  </tbody>\n",
       "</table>\n",
       "</div>"
      ],
      "text/plain": [
       "        GDP        Date    VIX\n",
       "0       NaN  2006-12-01    NaN\n",
       "1  2.782811  2007-01-01  11.56\n",
       "2  2.782811  2007-02-01  10.42\n",
       "3  2.782811  2007-03-01  15.42\n",
       "4  2.782811  2007-04-01  14.64"
      ]
     },
     "execution_count": 49,
     "metadata": {},
     "output_type": "execute_result"
    }
   ],
   "source": [
    "# load macroeconomic data\n",
    "macro = pd.read_csv('../Data/Macro.csv')\n",
    "\n",
    "macro.head()"
   ]
  },
  {
   "cell_type": "code",
   "execution_count": null,
   "metadata": {},
   "outputs": [],
   "source": [
    "# merge macroeconomic data with loan data\n",
    "df = df.merge(macro, how='left', left_on='issue_d', right_on='Date')\n",
    "\n",
    "df.head()"
   ]
  },
  {
   "cell_type": "code",
   "execution_count": 41,
   "metadata": {},
   "outputs": [],
   "source": [
    "df = df.sort_values(by='issue_d')\n",
    "df.set_index('issue_d', inplace=True)"
   ]
  },
  {
   "cell_type": "code",
   "execution_count": 42,
   "metadata": {},
   "outputs": [
    {
     "data": {
      "text/plain": [
       "DatetimeIndex(['2007-07-01', '2007-07-01', '2007-10-01', '2007-10-01',\n",
       "               '2007-11-01', '2007-12-01', '2007-12-01', '2008-01-01',\n",
       "               '2008-01-01', '2008-01-01',\n",
       "               ...\n",
       "               '2020-09-01', '2020-09-01', '2020-09-01', '2020-09-01',\n",
       "               '2020-09-01', '2020-09-01', '2020-09-01', '2020-09-01',\n",
       "               '2020-09-01', '2020-09-01'],\n",
       "              dtype='datetime64[ns]', name='issue_d', length=50000, freq=None)"
      ]
     },
     "execution_count": 42,
     "metadata": {},
     "output_type": "execute_result"
    }
   ],
   "source": [
    "df.index"
   ]
  },
  {
   "cell_type": "code",
   "execution_count": 43,
   "metadata": {},
   "outputs": [
    {
     "data": {
      "text/plain": [
       "Timestamp('2020-03-01 00:00:00')"
      ]
     },
     "execution_count": 43,
     "metadata": {},
     "output_type": "execute_result"
    }
   ],
   "source": [
    "# find the last six months of the dataset\n",
    "df.index[-1] - pd.DateOffset(months=6)"
   ]
  },
  {
   "cell_type": "code",
   "execution_count": 44,
   "metadata": {},
   "outputs": [
    {
     "data": {
      "text/plain": [
       "(728, 14)"
      ]
     },
     "execution_count": 44,
     "metadata": {},
     "output_type": "execute_result"
    }
   ],
   "source": [
    "# look at the number of observations in the last six months\n",
    "df.loc[df.index > df.index[-1] - pd.DateOffset(months=6)].shape"
   ]
  },
  {
   "cell_type": "code",
   "execution_count": 45,
   "metadata": {},
   "outputs": [],
   "source": [
    "# extrat contracts in the last six months for portfolio mangement and validation\n",
    "df_portfolio = df.loc[df.index > df.index[-1] - pd.DateOffset(months=6)].copy()"
   ]
  },
  {
   "cell_type": "code",
   "execution_count": null,
   "metadata": {},
   "outputs": [],
   "source": [
    "# remove observations in the last six months from the dataset\n",
    "df = df.loc[df.index <= df.index[-1] - pd.DateOffset(months=6)].copy()\n",
    "# retrieve the latest date available in the dataset\n",
    "df.index[-1]"
   ]
  },
  {
   "cell_type": "markdown",
   "metadata": {},
   "source": [
    "# Train-Test Split"
   ]
  },
  {
   "cell_type": "code",
   "execution_count": 47,
   "metadata": {},
   "outputs": [
    {
     "data": {
      "text/plain": [
       "issue_d\n",
       "2019    8758\n",
       "2018    8536\n",
       "2017    7575\n",
       "2016    7484\n",
       "2015    7176\n",
       "2014    4032\n",
       "2020    2487\n",
       "2013    2330\n",
       "2012     911\n",
       "2011     354\n",
       "2010     207\n",
       "2009      96\n",
       "2008      47\n",
       "2007       7\n",
       "Name: count, dtype: int64"
      ]
     },
     "execution_count": 47,
     "metadata": {},
     "output_type": "execute_result"
    }
   ],
   "source": [
    "# return the count of observations per year from the index\n",
    "df.index.year.value_counts()"
   ]
  },
  {
   "cell_type": "code",
   "execution_count": 30,
   "metadata": {},
   "outputs": [],
   "source": [
    "\n",
    "test_set = df.iloc[(df.index.year >= 2019)]\n",
    "train_set = df.iloc[(df.index.year < 2019)]"
   ]
  },
  {
   "cell_type": "markdown",
   "metadata": {},
   "source": [
    "# Exploratory Data Analysis"
   ]
  },
  {
   "cell_type": "code",
   "execution_count": 31,
   "metadata": {},
   "outputs": [
    {
     "data": {
      "text/html": [
       "<div>\n",
       "<style scoped>\n",
       "    .dataframe tbody tr th:only-of-type {\n",
       "        vertical-align: middle;\n",
       "    }\n",
       "\n",
       "    .dataframe tbody tr th {\n",
       "        vertical-align: top;\n",
       "    }\n",
       "\n",
       "    .dataframe thead th {\n",
       "        text-align: right;\n",
       "    }\n",
       "</style>\n",
       "<table border=\"1\" class=\"dataframe\">\n",
       "  <thead>\n",
       "    <tr style=\"text-align: right;\">\n",
       "      <th></th>\n",
       "      <th>count</th>\n",
       "      <th>mean</th>\n",
       "      <th>std</th>\n",
       "      <th>min</th>\n",
       "      <th>25%</th>\n",
       "      <th>50%</th>\n",
       "      <th>75%</th>\n",
       "      <th>max</th>\n",
       "    </tr>\n",
       "  </thead>\n",
       "  <tbody>\n",
       "    <tr>\n",
       "      <th>Age</th>\n",
       "      <td>74293.0</td>\n",
       "      <td>39.941233</td>\n",
       "      <td>12.100845</td>\n",
       "      <td>0.000000</td>\n",
       "      <td>30.000000</td>\n",
       "      <td>38.000000</td>\n",
       "      <td>49.000000</td>\n",
       "      <td>77.000000</td>\n",
       "    </tr>\n",
       "    <tr>\n",
       "      <th>Amount</th>\n",
       "      <td>74293.0</td>\n",
       "      <td>7.361657</td>\n",
       "      <td>0.925665</td>\n",
       "      <td>2.000128</td>\n",
       "      <td>6.398595</td>\n",
       "      <td>7.496652</td>\n",
       "      <td>8.066521</td>\n",
       "      <td>9.271530</td>\n",
       "    </tr>\n",
       "    <tr>\n",
       "      <th>AmountOfPreviousLoansBeforeLoan</th>\n",
       "      <td>37053.0</td>\n",
       "      <td>8.097002</td>\n",
       "      <td>1.011310</td>\n",
       "      <td>2.623668</td>\n",
       "      <td>7.438972</td>\n",
       "      <td>8.193124</td>\n",
       "      <td>8.886133</td>\n",
       "      <td>10.570342</td>\n",
       "    </tr>\n",
       "    <tr>\n",
       "      <th>CreditScoreEeMini</th>\n",
       "      <td>41053.0</td>\n",
       "      <td>6.853395</td>\n",
       "      <td>0.124113</td>\n",
       "      <td>6.216606</td>\n",
       "      <td>6.908755</td>\n",
       "      <td>6.908755</td>\n",
       "      <td>6.908755</td>\n",
       "      <td>6.908755</td>\n",
       "    </tr>\n",
       "    <tr>\n",
       "      <th>FreeCash</th>\n",
       "      <td>34287.0</td>\n",
       "      <td>5.455615</td>\n",
       "      <td>1.568414</td>\n",
       "      <td>0.009950</td>\n",
       "      <td>4.988628</td>\n",
       "      <td>5.891644</td>\n",
       "      <td>6.480045</td>\n",
       "      <td>11.975084</td>\n",
       "    </tr>\n",
       "    <tr>\n",
       "      <th>IncomeTotal</th>\n",
       "      <td>74230.0</td>\n",
       "      <td>7.151165</td>\n",
       "      <td>0.676233</td>\n",
       "      <td>0.693147</td>\n",
       "      <td>6.694562</td>\n",
       "      <td>7.090910</td>\n",
       "      <td>7.533560</td>\n",
       "      <td>13.827459</td>\n",
       "    </tr>\n",
       "    <tr>\n",
       "      <th>Interest</th>\n",
       "      <td>74293.0</td>\n",
       "      <td>0.339273</td>\n",
       "      <td>0.209317</td>\n",
       "      <td>0.020000</td>\n",
       "      <td>0.200000</td>\n",
       "      <td>0.289400</td>\n",
       "      <td>0.378600</td>\n",
       "      <td>1.000000</td>\n",
       "    </tr>\n",
       "    <tr>\n",
       "      <th>LiabilitiesTotal</th>\n",
       "      <td>65196.0</td>\n",
       "      <td>6.139703</td>\n",
       "      <td>0.937905</td>\n",
       "      <td>1.386294</td>\n",
       "      <td>5.662960</td>\n",
       "      <td>6.216606</td>\n",
       "      <td>6.748771</td>\n",
       "      <td>12.058216</td>\n",
       "    </tr>\n",
       "    <tr>\n",
       "      <th>MonthlyPayment</th>\n",
       "      <td>63976.0</td>\n",
       "      <td>4.424172</td>\n",
       "      <td>0.942273</td>\n",
       "      <td>2.604170</td>\n",
       "      <td>3.646168</td>\n",
       "      <td>4.516230</td>\n",
       "      <td>5.121028</td>\n",
       "      <td>7.770451</td>\n",
       "    </tr>\n",
       "    <tr>\n",
       "      <th>NewCreditCustomer</th>\n",
       "      <td>74293.0</td>\n",
       "      <td>0.557186</td>\n",
       "      <td>0.496722</td>\n",
       "      <td>0.000000</td>\n",
       "      <td>0.000000</td>\n",
       "      <td>1.000000</td>\n",
       "      <td>1.000000</td>\n",
       "      <td>1.000000</td>\n",
       "    </tr>\n",
       "    <tr>\n",
       "      <th>NoOfPreviousLoansBeforeLoan</th>\n",
       "      <td>37047.0</td>\n",
       "      <td>1.178331</td>\n",
       "      <td>0.490049</td>\n",
       "      <td>0.693147</td>\n",
       "      <td>0.693147</td>\n",
       "      <td>1.098612</td>\n",
       "      <td>1.609438</td>\n",
       "      <td>3.218876</td>\n",
       "    </tr>\n",
       "    <tr>\n",
       "      <th>NrOfScheduledPayments</th>\n",
       "      <td>26386.0</td>\n",
       "      <td>4.008073</td>\n",
       "      <td>0.232997</td>\n",
       "      <td>1.386294</td>\n",
       "      <td>3.951244</td>\n",
       "      <td>4.110874</td>\n",
       "      <td>4.110874</td>\n",
       "      <td>4.290459</td>\n",
       "    </tr>\n",
       "    <tr>\n",
       "      <th>PreviousEarlyRepaymentsCountBeforeLoan</th>\n",
       "      <td>5116.0</td>\n",
       "      <td>0.816146</td>\n",
       "      <td>0.256028</td>\n",
       "      <td>0.693147</td>\n",
       "      <td>0.693147</td>\n",
       "      <td>0.693147</td>\n",
       "      <td>0.693147</td>\n",
       "      <td>2.302585</td>\n",
       "    </tr>\n",
       "    <tr>\n",
       "      <th>PreviousRepaymentsBeforeLoan</th>\n",
       "      <td>31398.0</td>\n",
       "      <td>6.527190</td>\n",
       "      <td>1.571751</td>\n",
       "      <td>0.943011</td>\n",
       "      <td>5.366396</td>\n",
       "      <td>6.555613</td>\n",
       "      <td>7.755832</td>\n",
       "      <td>10.436420</td>\n",
       "    </tr>\n",
       "    <tr>\n",
       "      <th>ProbabilityOfDefault</th>\n",
       "      <td>71654.0</td>\n",
       "      <td>0.259888</td>\n",
       "      <td>0.166931</td>\n",
       "      <td>0.000000</td>\n",
       "      <td>0.128095</td>\n",
       "      <td>0.227983</td>\n",
       "      <td>0.355017</td>\n",
       "      <td>0.920637</td>\n",
       "    </tr>\n",
       "    <tr>\n",
       "      <th>Duration</th>\n",
       "      <td>74293.0</td>\n",
       "      <td>3.719722</td>\n",
       "      <td>0.524605</td>\n",
       "      <td>0.154151</td>\n",
       "      <td>3.632309</td>\n",
       "      <td>3.651524</td>\n",
       "      <td>4.131961</td>\n",
       "      <td>4.144192</td>\n",
       "    </tr>\n",
       "  </tbody>\n",
       "</table>\n",
       "</div>"
      ],
      "text/plain": [
       "                                          count       mean        std  \\\n",
       "Age                                     74293.0  39.941233  12.100845   \n",
       "Amount                                  74293.0   7.361657   0.925665   \n",
       "AmountOfPreviousLoansBeforeLoan         37053.0   8.097002   1.011310   \n",
       "CreditScoreEeMini                       41053.0   6.853395   0.124113   \n",
       "FreeCash                                34287.0   5.455615   1.568414   \n",
       "IncomeTotal                             74230.0   7.151165   0.676233   \n",
       "Interest                                74293.0   0.339273   0.209317   \n",
       "LiabilitiesTotal                        65196.0   6.139703   0.937905   \n",
       "MonthlyPayment                          63976.0   4.424172   0.942273   \n",
       "NewCreditCustomer                       74293.0   0.557186   0.496722   \n",
       "NoOfPreviousLoansBeforeLoan             37047.0   1.178331   0.490049   \n",
       "NrOfScheduledPayments                   26386.0   4.008073   0.232997   \n",
       "PreviousEarlyRepaymentsCountBeforeLoan   5116.0   0.816146   0.256028   \n",
       "PreviousRepaymentsBeforeLoan            31398.0   6.527190   1.571751   \n",
       "ProbabilityOfDefault                    71654.0   0.259888   0.166931   \n",
       "Duration                                74293.0   3.719722   0.524605   \n",
       "\n",
       "                                             min        25%        50%  \\\n",
       "Age                                     0.000000  30.000000  38.000000   \n",
       "Amount                                  2.000128   6.398595   7.496652   \n",
       "AmountOfPreviousLoansBeforeLoan         2.623668   7.438972   8.193124   \n",
       "CreditScoreEeMini                       6.216606   6.908755   6.908755   \n",
       "FreeCash                                0.009950   4.988628   5.891644   \n",
       "IncomeTotal                             0.693147   6.694562   7.090910   \n",
       "Interest                                0.020000   0.200000   0.289400   \n",
       "LiabilitiesTotal                        1.386294   5.662960   6.216606   \n",
       "MonthlyPayment                          2.604170   3.646168   4.516230   \n",
       "NewCreditCustomer                       0.000000   0.000000   1.000000   \n",
       "NoOfPreviousLoansBeforeLoan             0.693147   0.693147   1.098612   \n",
       "NrOfScheduledPayments                   1.386294   3.951244   4.110874   \n",
       "PreviousEarlyRepaymentsCountBeforeLoan  0.693147   0.693147   0.693147   \n",
       "PreviousRepaymentsBeforeLoan            0.943011   5.366396   6.555613   \n",
       "ProbabilityOfDefault                    0.000000   0.128095   0.227983   \n",
       "Duration                                0.154151   3.632309   3.651524   \n",
       "\n",
       "                                              75%        max  \n",
       "Age                                     49.000000  77.000000  \n",
       "Amount                                   8.066521   9.271530  \n",
       "AmountOfPreviousLoansBeforeLoan          8.886133  10.570342  \n",
       "CreditScoreEeMini                        6.908755   6.908755  \n",
       "FreeCash                                 6.480045  11.975084  \n",
       "IncomeTotal                              7.533560  13.827459  \n",
       "Interest                                 0.378600   1.000000  \n",
       "LiabilitiesTotal                         6.748771  12.058216  \n",
       "MonthlyPayment                           5.121028   7.770451  \n",
       "NewCreditCustomer                        1.000000   1.000000  \n",
       "NoOfPreviousLoansBeforeLoan              1.609438   3.218876  \n",
       "NrOfScheduledPayments                    4.110874   4.290459  \n",
       "PreviousEarlyRepaymentsCountBeforeLoan   0.693147   2.302585  \n",
       "PreviousRepaymentsBeforeLoan             7.755832  10.436420  \n",
       "ProbabilityOfDefault                     0.355017   0.920637  \n",
       "Duration                                 4.131961   4.144192  "
      ]
     },
     "execution_count": 31,
     "metadata": {},
     "output_type": "execute_result"
    }
   ],
   "source": [
    "train_set.describe().T"
   ]
  }
 ],
 "metadata": {
  "kernelspec": {
   "display_name": "python39",
   "language": "python",
   "name": "python3"
  },
  "language_info": {
   "codemirror_mode": {
    "name": "ipython",
    "version": 3
   },
   "file_extension": ".py",
   "mimetype": "text/x-python",
   "name": "python",
   "nbconvert_exporter": "python",
   "pygments_lexer": "ipython3",
   "version": "3.9.18"
  }
 },
 "nbformat": 4,
 "nbformat_minor": 2
}
