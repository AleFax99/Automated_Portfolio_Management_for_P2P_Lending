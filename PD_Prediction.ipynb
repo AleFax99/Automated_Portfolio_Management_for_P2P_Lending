{
 "cells": [
  {
   "cell_type": "markdown",
   "metadata": {},
   "source": [
    "Based on the insights from Data Cleaning, we keep only a subset of the columns available to avoid any leakage of future information which is unavailable when the contract is introduced for the first time in the secondary market on the P2P Lending Platform. "
   ]
  },
  {
   "cell_type": "code",
   "execution_count": 1,
   "metadata": {},
   "outputs": [],
   "source": [
    "# import the necessary packages\n",
    "import numpy as np\n",
    "import os\n",
    "import sys\n",
    "import time\n",
    "import pandas as pd\n",
    "import matplotlib.pyplot as plt\n",
    "import seaborn as sns\n",
    "from sklearn.model_selection import train_test_split\n",
    "from sklearn.metrics import classification_report\n",
    "from sklearn.metrics import confusion_matrix\n",
    "from sklearn.metrics import f1_score\n",
    "from sklearn.metrics import accuracy_score\n",
    "\n",
    "from sklearn.ensemble import RandomForestClassifier\n",
    "\n",
    "from sklearn import preprocessing as pp\n",
    "from sklearn.pipeline import Pipeline\n",
    "from sklearn.model_selection import TimeSeriesSplit\n",
    "\n",
    "from sklearn.model_selection import GridSearchCV"
   ]
  },
  {
   "cell_type": "code",
   "execution_count": 2,
   "metadata": {},
   "outputs": [
    {
     "data": {
      "text/plain": [
       "(50000, 13)"
      ]
     },
     "execution_count": 2,
     "metadata": {},
     "output_type": "execute_result"
    }
   ],
   "source": [
    "df = pd.read_csv('../Data/Loan_status_Cleaned.csv')\n",
    "df.shape"
   ]
  },
  {
   "cell_type": "code",
   "execution_count": 3,
   "metadata": {},
   "outputs": [
    {
     "data": {
      "text/html": [
       "<div>\n",
       "<style scoped>\n",
       "    .dataframe tbody tr th:only-of-type {\n",
       "        vertical-align: middle;\n",
       "    }\n",
       "\n",
       "    .dataframe tbody tr th {\n",
       "        vertical-align: top;\n",
       "    }\n",
       "\n",
       "    .dataframe thead th {\n",
       "        text-align: right;\n",
       "    }\n",
       "</style>\n",
       "<table border=\"1\" class=\"dataframe\">\n",
       "  <thead>\n",
       "    <tr style=\"text-align: right;\">\n",
       "      <th></th>\n",
       "      <th>loan_amnt</th>\n",
       "      <th>term</th>\n",
       "      <th>int_rate</th>\n",
       "      <th>installment</th>\n",
       "      <th>grade</th>\n",
       "      <th>home_ownership</th>\n",
       "      <th>annual_inc</th>\n",
       "      <th>issue_d</th>\n",
       "      <th>loan_status</th>\n",
       "      <th>purpose</th>\n",
       "      <th>dti</th>\n",
       "      <th>total_acc</th>\n",
       "      <th>pub_rec_bankruptcies</th>\n",
       "    </tr>\n",
       "  </thead>\n",
       "  <tbody>\n",
       "    <tr>\n",
       "      <th>0</th>\n",
       "      <td>16000</td>\n",
       "      <td>60 months</td>\n",
       "      <td>17.58%</td>\n",
       "      <td>402.65</td>\n",
       "      <td>D</td>\n",
       "      <td>RENT</td>\n",
       "      <td>65000.0</td>\n",
       "      <td>Dec-2011</td>\n",
       "      <td>Fully Paid</td>\n",
       "      <td>debt_consolidation</td>\n",
       "      <td>15.56</td>\n",
       "      <td>16.0</td>\n",
       "      <td>0.0</td>\n",
       "    </tr>\n",
       "    <tr>\n",
       "      <th>1</th>\n",
       "      <td>12000</td>\n",
       "      <td>36 months</td>\n",
       "      <td>14.27%</td>\n",
       "      <td>411.71</td>\n",
       "      <td>C</td>\n",
       "      <td>MORTGAGE</td>\n",
       "      <td>70000.0</td>\n",
       "      <td>Dec-2011</td>\n",
       "      <td>Charged Off</td>\n",
       "      <td>other</td>\n",
       "      <td>8.40</td>\n",
       "      <td>12.0</td>\n",
       "      <td>0.0</td>\n",
       "    </tr>\n",
       "    <tr>\n",
       "      <th>2</th>\n",
       "      <td>3500</td>\n",
       "      <td>36 months</td>\n",
       "      <td>7.90%</td>\n",
       "      <td>109.52</td>\n",
       "      <td>A</td>\n",
       "      <td>MORTGAGE</td>\n",
       "      <td>61440.0</td>\n",
       "      <td>Dec-2011</td>\n",
       "      <td>Fully Paid</td>\n",
       "      <td>vacation</td>\n",
       "      <td>6.46</td>\n",
       "      <td>19.0</td>\n",
       "      <td>0.0</td>\n",
       "    </tr>\n",
       "    <tr>\n",
       "      <th>3</th>\n",
       "      <td>10000</td>\n",
       "      <td>36 months</td>\n",
       "      <td>13.49%</td>\n",
       "      <td>339.31</td>\n",
       "      <td>C</td>\n",
       "      <td>MORTGAGE</td>\n",
       "      <td>50000.0</td>\n",
       "      <td>Dec-2011</td>\n",
       "      <td>Fully Paid</td>\n",
       "      <td>credit_card</td>\n",
       "      <td>5.88</td>\n",
       "      <td>15.0</td>\n",
       "      <td>0.0</td>\n",
       "    </tr>\n",
       "    <tr>\n",
       "      <th>4</th>\n",
       "      <td>6000</td>\n",
       "      <td>36 months</td>\n",
       "      <td>10.65%</td>\n",
       "      <td>195.44</td>\n",
       "      <td>B</td>\n",
       "      <td>RENT</td>\n",
       "      <td>36000.0</td>\n",
       "      <td>Dec-2011</td>\n",
       "      <td>Fully Paid</td>\n",
       "      <td>other</td>\n",
       "      <td>14.43</td>\n",
       "      <td>9.0</td>\n",
       "      <td>0.0</td>\n",
       "    </tr>\n",
       "  </tbody>\n",
       "</table>\n",
       "</div>"
      ],
      "text/plain": [
       "   loan_amnt        term int_rate  installment grade home_ownership  \\\n",
       "0      16000   60 months   17.58%       402.65     D           RENT   \n",
       "1      12000   36 months   14.27%       411.71     C       MORTGAGE   \n",
       "2       3500   36 months    7.90%       109.52     A       MORTGAGE   \n",
       "3      10000   36 months   13.49%       339.31     C       MORTGAGE   \n",
       "4       6000   36 months   10.65%       195.44     B           RENT   \n",
       "\n",
       "   annual_inc   issue_d  loan_status             purpose    dti  total_acc  \\\n",
       "0     65000.0  Dec-2011   Fully Paid  debt_consolidation  15.56       16.0   \n",
       "1     70000.0  Dec-2011  Charged Off               other   8.40       12.0   \n",
       "2     61440.0  Dec-2011   Fully Paid            vacation   6.46       19.0   \n",
       "3     50000.0  Dec-2011   Fully Paid         credit_card   5.88       15.0   \n",
       "4     36000.0  Dec-2011   Fully Paid               other  14.43        9.0   \n",
       "\n",
       "   pub_rec_bankruptcies  \n",
       "0                   0.0  \n",
       "1                   0.0  \n",
       "2                   0.0  \n",
       "3                   0.0  \n",
       "4                   0.0  "
      ]
     },
     "execution_count": 3,
     "metadata": {},
     "output_type": "execute_result"
    }
   ],
   "source": [
    "df.head()"
   ]
  },
  {
   "cell_type": "markdown",
   "metadata": {},
   "source": [
    "# Feature Engineering"
   ]
  },
  {
   "cell_type": "code",
   "execution_count": 6,
   "metadata": {},
   "outputs": [],
   "source": [
    "df['issue_d'] = pd.to_datetime(df['issue_d'], format='%b-%Y')"
   ]
  },
  {
   "cell_type": "code",
   "execution_count": 8,
   "metadata": {},
   "outputs": [
    {
     "data": {
      "text/plain": [
       "0    17.58\n",
       "1    14.27\n",
       "2     7.90\n",
       "3    13.49\n",
       "4    10.65\n",
       "Name: int_rate, dtype: float64"
      ]
     },
     "execution_count": 8,
     "metadata": {},
     "output_type": "execute_result"
    }
   ],
   "source": [
    "df['int_rate'] = df['int_rate'].str.replace('%', '').astype('float')\n",
    "df['int_rate'].head()"
   ]
  },
  {
   "cell_type": "code",
   "execution_count": 9,
   "metadata": {},
   "outputs": [
    {
     "data": {
      "text/plain": [
       "0    65000\n",
       "1    70000\n",
       "2    61440\n",
       "3    50000\n",
       "4    36000\n",
       "Name: annual_inc, dtype: int32"
      ]
     },
     "execution_count": 9,
     "metadata": {},
     "output_type": "execute_result"
    }
   ],
   "source": [
    "df['annual_inc'] = df['annual_inc'].astype('int')\n",
    "df['annual_inc'].head()"
   ]
  },
  {
   "cell_type": "code",
   "execution_count": 24,
   "metadata": {},
   "outputs": [
    {
     "ename": "IntCastingNaNError",
     "evalue": "Cannot convert non-finite values (NA or inf) to integer",
     "output_type": "error",
     "traceback": [
      "\u001b[1;31m---------------------------------------------------------------------------\u001b[0m",
      "\u001b[1;31mIntCastingNaNError\u001b[0m                        Traceback (most recent call last)",
      "Cell \u001b[1;32mIn[24], line 2\u001b[0m\n\u001b[0;32m      1\u001b[0m df[\u001b[38;5;124m'\u001b[39m\u001b[38;5;124mtotal_acc\u001b[39m\u001b[38;5;124m'\u001b[39m] \u001b[38;5;241m=\u001b[39m df[\u001b[38;5;124m'\u001b[39m\u001b[38;5;124mtotal_acc\u001b[39m\u001b[38;5;124m'\u001b[39m]\u001b[38;5;241m.\u001b[39mreplace([np\u001b[38;5;241m.\u001b[39minf, \u001b[38;5;241m-\u001b[39mnp\u001b[38;5;241m.\u001b[39minf], np\u001b[38;5;241m.\u001b[39mnan)\n\u001b[1;32m----> 2\u001b[0m df[\u001b[38;5;124m'\u001b[39m\u001b[38;5;124mtotal_acc\u001b[39m\u001b[38;5;124m'\u001b[39m] \u001b[38;5;241m=\u001b[39m \u001b[43mdf\u001b[49m\u001b[43m[\u001b[49m\u001b[38;5;124;43m'\u001b[39;49m\u001b[38;5;124;43mtotal_acc\u001b[39;49m\u001b[38;5;124;43m'\u001b[39;49m\u001b[43m]\u001b[49m\u001b[38;5;241;43m.\u001b[39;49m\u001b[43mastype\u001b[49m\u001b[43m(\u001b[49m\u001b[38;5;28;43mint\u001b[39;49m\u001b[43m)\u001b[49m\n\u001b[0;32m      3\u001b[0m df[\u001b[38;5;124m'\u001b[39m\u001b[38;5;124mtotal_acc\u001b[39m\u001b[38;5;124m'\u001b[39m]\u001b[38;5;241m.\u001b[39mhead()\n",
      "File \u001b[1;32mc:\\Users\\Utente\\anaconda3\\envs\\python39\\lib\\site-packages\\pandas\\core\\generic.py:6534\u001b[0m, in \u001b[0;36mNDFrame.astype\u001b[1;34m(self, dtype, copy, errors)\u001b[0m\n\u001b[0;32m   6530\u001b[0m     results \u001b[38;5;241m=\u001b[39m [ser\u001b[38;5;241m.\u001b[39mastype(dtype, copy\u001b[38;5;241m=\u001b[39mcopy) \u001b[38;5;28;01mfor\u001b[39;00m _, ser \u001b[38;5;129;01min\u001b[39;00m \u001b[38;5;28mself\u001b[39m\u001b[38;5;241m.\u001b[39mitems()]\n\u001b[0;32m   6532\u001b[0m \u001b[38;5;28;01melse\u001b[39;00m:\n\u001b[0;32m   6533\u001b[0m     \u001b[38;5;66;03m# else, only a single dtype is given\u001b[39;00m\n\u001b[1;32m-> 6534\u001b[0m     new_data \u001b[38;5;241m=\u001b[39m \u001b[38;5;28;43mself\u001b[39;49m\u001b[38;5;241;43m.\u001b[39;49m\u001b[43m_mgr\u001b[49m\u001b[38;5;241;43m.\u001b[39;49m\u001b[43mastype\u001b[49m\u001b[43m(\u001b[49m\u001b[43mdtype\u001b[49m\u001b[38;5;241;43m=\u001b[39;49m\u001b[43mdtype\u001b[49m\u001b[43m,\u001b[49m\u001b[43m \u001b[49m\u001b[43mcopy\u001b[49m\u001b[38;5;241;43m=\u001b[39;49m\u001b[43mcopy\u001b[49m\u001b[43m,\u001b[49m\u001b[43m \u001b[49m\u001b[43merrors\u001b[49m\u001b[38;5;241;43m=\u001b[39;49m\u001b[43merrors\u001b[49m\u001b[43m)\u001b[49m\n\u001b[0;32m   6535\u001b[0m     res \u001b[38;5;241m=\u001b[39m \u001b[38;5;28mself\u001b[39m\u001b[38;5;241m.\u001b[39m_constructor_from_mgr(new_data, axes\u001b[38;5;241m=\u001b[39mnew_data\u001b[38;5;241m.\u001b[39maxes)\n\u001b[0;32m   6536\u001b[0m     \u001b[38;5;28;01mreturn\u001b[39;00m res\u001b[38;5;241m.\u001b[39m__finalize__(\u001b[38;5;28mself\u001b[39m, method\u001b[38;5;241m=\u001b[39m\u001b[38;5;124m\"\u001b[39m\u001b[38;5;124mastype\u001b[39m\u001b[38;5;124m\"\u001b[39m)\n",
      "File \u001b[1;32mc:\\Users\\Utente\\anaconda3\\envs\\python39\\lib\\site-packages\\pandas\\core\\internals\\managers.py:414\u001b[0m, in \u001b[0;36mBaseBlockManager.astype\u001b[1;34m(self, dtype, copy, errors)\u001b[0m\n\u001b[0;32m    411\u001b[0m \u001b[38;5;28;01melif\u001b[39;00m using_copy_on_write():\n\u001b[0;32m    412\u001b[0m     copy \u001b[38;5;241m=\u001b[39m \u001b[38;5;28;01mFalse\u001b[39;00m\n\u001b[1;32m--> 414\u001b[0m \u001b[38;5;28;01mreturn\u001b[39;00m \u001b[38;5;28;43mself\u001b[39;49m\u001b[38;5;241;43m.\u001b[39;49m\u001b[43mapply\u001b[49m\u001b[43m(\u001b[49m\n\u001b[0;32m    415\u001b[0m \u001b[43m    \u001b[49m\u001b[38;5;124;43m\"\u001b[39;49m\u001b[38;5;124;43mastype\u001b[39;49m\u001b[38;5;124;43m\"\u001b[39;49m\u001b[43m,\u001b[49m\n\u001b[0;32m    416\u001b[0m \u001b[43m    \u001b[49m\u001b[43mdtype\u001b[49m\u001b[38;5;241;43m=\u001b[39;49m\u001b[43mdtype\u001b[49m\u001b[43m,\u001b[49m\n\u001b[0;32m    417\u001b[0m \u001b[43m    \u001b[49m\u001b[43mcopy\u001b[49m\u001b[38;5;241;43m=\u001b[39;49m\u001b[43mcopy\u001b[49m\u001b[43m,\u001b[49m\n\u001b[0;32m    418\u001b[0m \u001b[43m    \u001b[49m\u001b[43merrors\u001b[49m\u001b[38;5;241;43m=\u001b[39;49m\u001b[43merrors\u001b[49m\u001b[43m,\u001b[49m\n\u001b[0;32m    419\u001b[0m \u001b[43m    \u001b[49m\u001b[43musing_cow\u001b[49m\u001b[38;5;241;43m=\u001b[39;49m\u001b[43musing_copy_on_write\u001b[49m\u001b[43m(\u001b[49m\u001b[43m)\u001b[49m\u001b[43m,\u001b[49m\n\u001b[0;32m    420\u001b[0m \u001b[43m\u001b[49m\u001b[43m)\u001b[49m\n",
      "File \u001b[1;32mc:\\Users\\Utente\\anaconda3\\envs\\python39\\lib\\site-packages\\pandas\\core\\internals\\managers.py:354\u001b[0m, in \u001b[0;36mBaseBlockManager.apply\u001b[1;34m(self, f, align_keys, **kwargs)\u001b[0m\n\u001b[0;32m    352\u001b[0m         applied \u001b[38;5;241m=\u001b[39m b\u001b[38;5;241m.\u001b[39mapply(f, \u001b[38;5;241m*\u001b[39m\u001b[38;5;241m*\u001b[39mkwargs)\n\u001b[0;32m    353\u001b[0m     \u001b[38;5;28;01melse\u001b[39;00m:\n\u001b[1;32m--> 354\u001b[0m         applied \u001b[38;5;241m=\u001b[39m \u001b[38;5;28mgetattr\u001b[39m(b, f)(\u001b[38;5;241m*\u001b[39m\u001b[38;5;241m*\u001b[39mkwargs)\n\u001b[0;32m    355\u001b[0m     result_blocks \u001b[38;5;241m=\u001b[39m extend_blocks(applied, result_blocks)\n\u001b[0;32m    357\u001b[0m out \u001b[38;5;241m=\u001b[39m \u001b[38;5;28mtype\u001b[39m(\u001b[38;5;28mself\u001b[39m)\u001b[38;5;241m.\u001b[39mfrom_blocks(result_blocks, \u001b[38;5;28mself\u001b[39m\u001b[38;5;241m.\u001b[39maxes)\n",
      "File \u001b[1;32mc:\\Users\\Utente\\anaconda3\\envs\\python39\\lib\\site-packages\\pandas\\core\\internals\\blocks.py:616\u001b[0m, in \u001b[0;36mBlock.astype\u001b[1;34m(self, dtype, copy, errors, using_cow)\u001b[0m\n\u001b[0;32m    596\u001b[0m \u001b[38;5;250m\u001b[39m\u001b[38;5;124;03m\"\"\"\u001b[39;00m\n\u001b[0;32m    597\u001b[0m \u001b[38;5;124;03mCoerce to the new dtype.\u001b[39;00m\n\u001b[0;32m    598\u001b[0m \n\u001b[1;32m   (...)\u001b[0m\n\u001b[0;32m    612\u001b[0m \u001b[38;5;124;03mBlock\u001b[39;00m\n\u001b[0;32m    613\u001b[0m \u001b[38;5;124;03m\"\"\"\u001b[39;00m\n\u001b[0;32m    614\u001b[0m values \u001b[38;5;241m=\u001b[39m \u001b[38;5;28mself\u001b[39m\u001b[38;5;241m.\u001b[39mvalues\n\u001b[1;32m--> 616\u001b[0m new_values \u001b[38;5;241m=\u001b[39m \u001b[43mastype_array_safe\u001b[49m\u001b[43m(\u001b[49m\u001b[43mvalues\u001b[49m\u001b[43m,\u001b[49m\u001b[43m \u001b[49m\u001b[43mdtype\u001b[49m\u001b[43m,\u001b[49m\u001b[43m \u001b[49m\u001b[43mcopy\u001b[49m\u001b[38;5;241;43m=\u001b[39;49m\u001b[43mcopy\u001b[49m\u001b[43m,\u001b[49m\u001b[43m \u001b[49m\u001b[43merrors\u001b[49m\u001b[38;5;241;43m=\u001b[39;49m\u001b[43merrors\u001b[49m\u001b[43m)\u001b[49m\n\u001b[0;32m    618\u001b[0m new_values \u001b[38;5;241m=\u001b[39m maybe_coerce_values(new_values)\n\u001b[0;32m    620\u001b[0m refs \u001b[38;5;241m=\u001b[39m \u001b[38;5;28;01mNone\u001b[39;00m\n",
      "File \u001b[1;32mc:\\Users\\Utente\\anaconda3\\envs\\python39\\lib\\site-packages\\pandas\\core\\dtypes\\astype.py:238\u001b[0m, in \u001b[0;36mastype_array_safe\u001b[1;34m(values, dtype, copy, errors)\u001b[0m\n\u001b[0;32m    235\u001b[0m     dtype \u001b[38;5;241m=\u001b[39m dtype\u001b[38;5;241m.\u001b[39mnumpy_dtype\n\u001b[0;32m    237\u001b[0m \u001b[38;5;28;01mtry\u001b[39;00m:\n\u001b[1;32m--> 238\u001b[0m     new_values \u001b[38;5;241m=\u001b[39m \u001b[43mastype_array\u001b[49m\u001b[43m(\u001b[49m\u001b[43mvalues\u001b[49m\u001b[43m,\u001b[49m\u001b[43m \u001b[49m\u001b[43mdtype\u001b[49m\u001b[43m,\u001b[49m\u001b[43m \u001b[49m\u001b[43mcopy\u001b[49m\u001b[38;5;241;43m=\u001b[39;49m\u001b[43mcopy\u001b[49m\u001b[43m)\u001b[49m\n\u001b[0;32m    239\u001b[0m \u001b[38;5;28;01mexcept\u001b[39;00m (\u001b[38;5;167;01mValueError\u001b[39;00m, \u001b[38;5;167;01mTypeError\u001b[39;00m):\n\u001b[0;32m    240\u001b[0m     \u001b[38;5;66;03m# e.g. _astype_nansafe can fail on object-dtype of strings\u001b[39;00m\n\u001b[0;32m    241\u001b[0m     \u001b[38;5;66;03m#  trying to convert to float\u001b[39;00m\n\u001b[0;32m    242\u001b[0m     \u001b[38;5;28;01mif\u001b[39;00m errors \u001b[38;5;241m==\u001b[39m \u001b[38;5;124m\"\u001b[39m\u001b[38;5;124mignore\u001b[39m\u001b[38;5;124m\"\u001b[39m:\n",
      "File \u001b[1;32mc:\\Users\\Utente\\anaconda3\\envs\\python39\\lib\\site-packages\\pandas\\core\\dtypes\\astype.py:183\u001b[0m, in \u001b[0;36mastype_array\u001b[1;34m(values, dtype, copy)\u001b[0m\n\u001b[0;32m    180\u001b[0m     values \u001b[38;5;241m=\u001b[39m values\u001b[38;5;241m.\u001b[39mastype(dtype, copy\u001b[38;5;241m=\u001b[39mcopy)\n\u001b[0;32m    182\u001b[0m \u001b[38;5;28;01melse\u001b[39;00m:\n\u001b[1;32m--> 183\u001b[0m     values \u001b[38;5;241m=\u001b[39m \u001b[43m_astype_nansafe\u001b[49m\u001b[43m(\u001b[49m\u001b[43mvalues\u001b[49m\u001b[43m,\u001b[49m\u001b[43m \u001b[49m\u001b[43mdtype\u001b[49m\u001b[43m,\u001b[49m\u001b[43m \u001b[49m\u001b[43mcopy\u001b[49m\u001b[38;5;241;43m=\u001b[39;49m\u001b[43mcopy\u001b[49m\u001b[43m)\u001b[49m\n\u001b[0;32m    185\u001b[0m \u001b[38;5;66;03m# in pandas we don't store numpy str dtypes, so convert to object\u001b[39;00m\n\u001b[0;32m    186\u001b[0m \u001b[38;5;28;01mif\u001b[39;00m \u001b[38;5;28misinstance\u001b[39m(dtype, np\u001b[38;5;241m.\u001b[39mdtype) \u001b[38;5;129;01mand\u001b[39;00m \u001b[38;5;28missubclass\u001b[39m(values\u001b[38;5;241m.\u001b[39mdtype\u001b[38;5;241m.\u001b[39mtype, \u001b[38;5;28mstr\u001b[39m):\n",
      "File \u001b[1;32mc:\\Users\\Utente\\anaconda3\\envs\\python39\\lib\\site-packages\\pandas\\core\\dtypes\\astype.py:101\u001b[0m, in \u001b[0;36m_astype_nansafe\u001b[1;34m(arr, dtype, copy, skipna)\u001b[0m\n\u001b[0;32m     96\u001b[0m     \u001b[38;5;28;01mreturn\u001b[39;00m lib\u001b[38;5;241m.\u001b[39mensure_string_array(\n\u001b[0;32m     97\u001b[0m         arr, skipna\u001b[38;5;241m=\u001b[39mskipna, convert_na_value\u001b[38;5;241m=\u001b[39m\u001b[38;5;28;01mFalse\u001b[39;00m\n\u001b[0;32m     98\u001b[0m     )\u001b[38;5;241m.\u001b[39mreshape(shape)\n\u001b[0;32m    100\u001b[0m \u001b[38;5;28;01melif\u001b[39;00m np\u001b[38;5;241m.\u001b[39missubdtype(arr\u001b[38;5;241m.\u001b[39mdtype, np\u001b[38;5;241m.\u001b[39mfloating) \u001b[38;5;129;01mand\u001b[39;00m dtype\u001b[38;5;241m.\u001b[39mkind \u001b[38;5;129;01min\u001b[39;00m \u001b[38;5;124m\"\u001b[39m\u001b[38;5;124miu\u001b[39m\u001b[38;5;124m\"\u001b[39m:\n\u001b[1;32m--> 101\u001b[0m     \u001b[38;5;28;01mreturn\u001b[39;00m \u001b[43m_astype_float_to_int_nansafe\u001b[49m\u001b[43m(\u001b[49m\u001b[43marr\u001b[49m\u001b[43m,\u001b[49m\u001b[43m \u001b[49m\u001b[43mdtype\u001b[49m\u001b[43m,\u001b[49m\u001b[43m \u001b[49m\u001b[43mcopy\u001b[49m\u001b[43m)\u001b[49m\n\u001b[0;32m    103\u001b[0m \u001b[38;5;28;01melif\u001b[39;00m arr\u001b[38;5;241m.\u001b[39mdtype \u001b[38;5;241m==\u001b[39m \u001b[38;5;28mobject\u001b[39m:\n\u001b[0;32m    104\u001b[0m     \u001b[38;5;66;03m# if we have a datetime/timedelta array of objects\u001b[39;00m\n\u001b[0;32m    105\u001b[0m     \u001b[38;5;66;03m# then coerce to datetime64[ns] and use DatetimeArray.astype\u001b[39;00m\n\u001b[0;32m    107\u001b[0m     \u001b[38;5;28;01mif\u001b[39;00m lib\u001b[38;5;241m.\u001b[39mis_np_dtype(dtype, \u001b[38;5;124m\"\u001b[39m\u001b[38;5;124mM\u001b[39m\u001b[38;5;124m\"\u001b[39m):\n",
      "File \u001b[1;32mc:\\Users\\Utente\\anaconda3\\envs\\python39\\lib\\site-packages\\pandas\\core\\dtypes\\astype.py:146\u001b[0m, in \u001b[0;36m_astype_float_to_int_nansafe\u001b[1;34m(values, dtype, copy)\u001b[0m\n\u001b[0;32m    142\u001b[0m \u001b[38;5;250m\u001b[39m\u001b[38;5;124;03m\"\"\"\u001b[39;00m\n\u001b[0;32m    143\u001b[0m \u001b[38;5;124;03mastype with a check preventing converting NaN to an meaningless integer value.\u001b[39;00m\n\u001b[0;32m    144\u001b[0m \u001b[38;5;124;03m\"\"\"\u001b[39;00m\n\u001b[0;32m    145\u001b[0m \u001b[38;5;28;01mif\u001b[39;00m \u001b[38;5;129;01mnot\u001b[39;00m np\u001b[38;5;241m.\u001b[39misfinite(values)\u001b[38;5;241m.\u001b[39mall():\n\u001b[1;32m--> 146\u001b[0m     \u001b[38;5;28;01mraise\u001b[39;00m IntCastingNaNError(\n\u001b[0;32m    147\u001b[0m         \u001b[38;5;124m\"\u001b[39m\u001b[38;5;124mCannot convert non-finite values (NA or inf) to integer\u001b[39m\u001b[38;5;124m\"\u001b[39m\n\u001b[0;32m    148\u001b[0m     )\n\u001b[0;32m    149\u001b[0m \u001b[38;5;28;01mif\u001b[39;00m dtype\u001b[38;5;241m.\u001b[39mkind \u001b[38;5;241m==\u001b[39m \u001b[38;5;124m\"\u001b[39m\u001b[38;5;124mu\u001b[39m\u001b[38;5;124m\"\u001b[39m:\n\u001b[0;32m    150\u001b[0m     \u001b[38;5;66;03m# GH#45151\u001b[39;00m\n\u001b[0;32m    151\u001b[0m     \u001b[38;5;28;01mif\u001b[39;00m \u001b[38;5;129;01mnot\u001b[39;00m (values \u001b[38;5;241m>\u001b[39m\u001b[38;5;241m=\u001b[39m \u001b[38;5;241m0\u001b[39m)\u001b[38;5;241m.\u001b[39mall():\n",
      "\u001b[1;31mIntCastingNaNError\u001b[0m: Cannot convert non-finite values (NA or inf) to integer"
     ]
    }
   ],
   "source": [
    "# replace missing values with zero for "
   ]
  },
  {
   "cell_type": "code",
   "execution_count": 21,
   "metadata": {},
   "outputs": [
    {
     "data": {
      "text/plain": [
       "dtype('float64')"
      ]
     },
     "execution_count": 21,
     "metadata": {},
     "output_type": "execute_result"
    }
   ],
   "source": [
    "# find where total_acc is null\n",
    "df['total_acc'].dtype"
   ]
  },
  {
   "cell_type": "code",
   "execution_count": 26,
   "metadata": {},
   "outputs": [],
   "source": [
    "# numeric features\n",
    "# replae lower or equal to 0 with NaN in one line\n",
    "df.loc[df['Amount'] <= 0, 'Amount'] = np.nan\n",
    "df.loc[df['AmountOfPreviousLoansBeforeLoan'] <= 0, 'AmountOfPreviousLoansBeforeLoan'] = np.nan\n",
    "df.loc[df['CreditScoreEeMini'] <= 0, 'CreditScoreEeMini'] = np.nan\n",
    "df.loc[df['FreeCash'] <= 0, 'FreeCash'] = np.nan\n",
    "df.loc[df['IncomeTotal'] <= 0, 'IncomeTotal'] = np.nan\n",
    "df.loc[df['LiabilitiesTotal'] <= 0, 'LiabilitiesTotal'] = np.nan\n",
    "df.loc[df['MonthlyPayment'] <= 0, 'MonthlyPayment'] = np.nan\n",
    "df.loc[df['NoOfPreviousLoansBeforeLoan'] <= 0, 'NoOfPreviousLoansBeforeLoan'] = np.nan\n",
    "df.loc[df['NrOfScheduledPayments'] <= 0, 'NrOfScheduledPayments'] = np.nan\n",
    "df.loc[df['PreviousEarlyRepaymentsCountBeforeLoan'] <= 0, 'PreviousEarlyRepaymentsCountBeforeLoan'] = np.nan\n",
    "df.loc[df['PreviousRepaymentsBeforeLoan'] <= 0, 'PreviousRepaymentsBeforeLoan'] = np.nan\n",
    "\n",
    "# log transform\n",
    "df['Amount'] = np.log1p(df['Amount'])\n",
    "df['AmountOfPreviousLoansBeforeLoan'] = np.log1p(df['AmountOfPreviousLoansBeforeLoan'])\n",
    "df['CreditScoreEeMini'] = np.log1p(df['CreditScoreEeMini'])\n",
    "df['Duration'] = np.log1p(df['Duration'])\n",
    "df['FreeCash'] = np.log1p(df['FreeCash'])\n",
    "df['IncomeTotal'] = np.log1p(df['IncomeTotal'])\n",
    "df['LiabilitiesTotal'] = np.log1p(df['LiabilitiesTotal'])\n",
    "df['MonthlyPayment'] = np.log1p(df['MonthlyPayment'])\n",
    "df['NoOfPreviousLoansBeforeLoan'] = np.log1p(df['NoOfPreviousLoansBeforeLoan'])\n",
    "df['NrOfScheduledPayments'] = np.log1p(df['NrOfScheduledPayments'])\n",
    "df['PreviousEarlyRepaymentsCountBeforeLoan'] = np.log1p(df['PreviousEarlyRepaymentsCountBeforeLoan'])\n",
    "df['PreviousRepaymentsBeforeLoan'] = np.log1p(df['PreviousRepaymentsBeforeLoan'])\n",
    "\n",
    "# cap interest rate at 100%\n",
    "df.loc[df['Interest'] > 100, 'Interest'] = 100\n",
    "\n",
    "# divide interest rate by 100\n",
    "df['Interest'] = df['Interest'] / 100"
   ]
  },
  {
   "cell_type": "code",
   "execution_count": 27,
   "metadata": {},
   "outputs": [
    {
     "data": {
      "text/plain": [
       "LoanDate\n",
       "2019    55839\n",
       "2020    27519\n",
       "2018    25103\n",
       "2021    21584\n",
       "2017    17933\n",
       "2016    10514\n",
       "2015     8046\n",
       "2014     7455\n",
       "2013     2512\n",
       "2010     1157\n",
       "2009      665\n",
       "2012      457\n",
       "2011      451\n",
       "Name: count, dtype: int64"
      ]
     },
     "execution_count": 27,
     "metadata": {},
     "output_type": "execute_result"
    }
   ],
   "source": [
    "# check how many observations per year the dataset contains\n",
    "df['LoanDate'].dt.year.value_counts()"
   ]
  },
  {
   "cell_type": "code",
   "execution_count": 28,
   "metadata": {},
   "outputs": [
    {
     "data": {
      "text/plain": [
       "(179235, 28)"
      ]
     },
     "execution_count": 28,
     "metadata": {},
     "output_type": "execute_result"
    }
   ],
   "source": [
    "df.shape"
   ]
  },
  {
   "cell_type": "code",
   "execution_count": 29,
   "metadata": {},
   "outputs": [],
   "source": [
    "df = df.sort_values(by='LoanDate')\n",
    "df.set_index('LoanDate', inplace=True)"
   ]
  },
  {
   "cell_type": "markdown",
   "metadata": {},
   "source": [
    "# Train-Test Split\n",
    "Year 2019 is used as test set, whereas all the years before are used as train set"
   ]
  },
  {
   "cell_type": "code",
   "execution_count": 30,
   "metadata": {},
   "outputs": [],
   "source": [
    "test_set = df.iloc[(df.index.year >= 2019)]\n",
    "train_set = df.iloc[(df.index.year < 2019)]"
   ]
  },
  {
   "cell_type": "markdown",
   "metadata": {},
   "source": [
    "# Exploratory Data Analysis"
   ]
  },
  {
   "cell_type": "code",
   "execution_count": 31,
   "metadata": {},
   "outputs": [
    {
     "data": {
      "text/html": [
       "<div>\n",
       "<style scoped>\n",
       "    .dataframe tbody tr th:only-of-type {\n",
       "        vertical-align: middle;\n",
       "    }\n",
       "\n",
       "    .dataframe tbody tr th {\n",
       "        vertical-align: top;\n",
       "    }\n",
       "\n",
       "    .dataframe thead th {\n",
       "        text-align: right;\n",
       "    }\n",
       "</style>\n",
       "<table border=\"1\" class=\"dataframe\">\n",
       "  <thead>\n",
       "    <tr style=\"text-align: right;\">\n",
       "      <th></th>\n",
       "      <th>count</th>\n",
       "      <th>mean</th>\n",
       "      <th>std</th>\n",
       "      <th>min</th>\n",
       "      <th>25%</th>\n",
       "      <th>50%</th>\n",
       "      <th>75%</th>\n",
       "      <th>max</th>\n",
       "    </tr>\n",
       "  </thead>\n",
       "  <tbody>\n",
       "    <tr>\n",
       "      <th>Age</th>\n",
       "      <td>74293.0</td>\n",
       "      <td>39.941233</td>\n",
       "      <td>12.100845</td>\n",
       "      <td>0.000000</td>\n",
       "      <td>30.000000</td>\n",
       "      <td>38.000000</td>\n",
       "      <td>49.000000</td>\n",
       "      <td>77.000000</td>\n",
       "    </tr>\n",
       "    <tr>\n",
       "      <th>Amount</th>\n",
       "      <td>74293.0</td>\n",
       "      <td>7.361657</td>\n",
       "      <td>0.925665</td>\n",
       "      <td>2.000128</td>\n",
       "      <td>6.398595</td>\n",
       "      <td>7.496652</td>\n",
       "      <td>8.066521</td>\n",
       "      <td>9.271530</td>\n",
       "    </tr>\n",
       "    <tr>\n",
       "      <th>AmountOfPreviousLoansBeforeLoan</th>\n",
       "      <td>37053.0</td>\n",
       "      <td>8.097002</td>\n",
       "      <td>1.011310</td>\n",
       "      <td>2.623668</td>\n",
       "      <td>7.438972</td>\n",
       "      <td>8.193124</td>\n",
       "      <td>8.886133</td>\n",
       "      <td>10.570342</td>\n",
       "    </tr>\n",
       "    <tr>\n",
       "      <th>CreditScoreEeMini</th>\n",
       "      <td>41053.0</td>\n",
       "      <td>6.853395</td>\n",
       "      <td>0.124113</td>\n",
       "      <td>6.216606</td>\n",
       "      <td>6.908755</td>\n",
       "      <td>6.908755</td>\n",
       "      <td>6.908755</td>\n",
       "      <td>6.908755</td>\n",
       "    </tr>\n",
       "    <tr>\n",
       "      <th>FreeCash</th>\n",
       "      <td>34287.0</td>\n",
       "      <td>5.455615</td>\n",
       "      <td>1.568414</td>\n",
       "      <td>0.009950</td>\n",
       "      <td>4.988628</td>\n",
       "      <td>5.891644</td>\n",
       "      <td>6.480045</td>\n",
       "      <td>11.975084</td>\n",
       "    </tr>\n",
       "    <tr>\n",
       "      <th>IncomeTotal</th>\n",
       "      <td>74230.0</td>\n",
       "      <td>7.151165</td>\n",
       "      <td>0.676233</td>\n",
       "      <td>0.693147</td>\n",
       "      <td>6.694562</td>\n",
       "      <td>7.090910</td>\n",
       "      <td>7.533560</td>\n",
       "      <td>13.827459</td>\n",
       "    </tr>\n",
       "    <tr>\n",
       "      <th>Interest</th>\n",
       "      <td>74293.0</td>\n",
       "      <td>0.339273</td>\n",
       "      <td>0.209317</td>\n",
       "      <td>0.020000</td>\n",
       "      <td>0.200000</td>\n",
       "      <td>0.289400</td>\n",
       "      <td>0.378600</td>\n",
       "      <td>1.000000</td>\n",
       "    </tr>\n",
       "    <tr>\n",
       "      <th>LiabilitiesTotal</th>\n",
       "      <td>65196.0</td>\n",
       "      <td>6.139703</td>\n",
       "      <td>0.937905</td>\n",
       "      <td>1.386294</td>\n",
       "      <td>5.662960</td>\n",
       "      <td>6.216606</td>\n",
       "      <td>6.748771</td>\n",
       "      <td>12.058216</td>\n",
       "    </tr>\n",
       "    <tr>\n",
       "      <th>MonthlyPayment</th>\n",
       "      <td>63976.0</td>\n",
       "      <td>4.424172</td>\n",
       "      <td>0.942273</td>\n",
       "      <td>2.604170</td>\n",
       "      <td>3.646168</td>\n",
       "      <td>4.516230</td>\n",
       "      <td>5.121028</td>\n",
       "      <td>7.770451</td>\n",
       "    </tr>\n",
       "    <tr>\n",
       "      <th>NewCreditCustomer</th>\n",
       "      <td>74293.0</td>\n",
       "      <td>0.557186</td>\n",
       "      <td>0.496722</td>\n",
       "      <td>0.000000</td>\n",
       "      <td>0.000000</td>\n",
       "      <td>1.000000</td>\n",
       "      <td>1.000000</td>\n",
       "      <td>1.000000</td>\n",
       "    </tr>\n",
       "    <tr>\n",
       "      <th>NoOfPreviousLoansBeforeLoan</th>\n",
       "      <td>37047.0</td>\n",
       "      <td>1.178331</td>\n",
       "      <td>0.490049</td>\n",
       "      <td>0.693147</td>\n",
       "      <td>0.693147</td>\n",
       "      <td>1.098612</td>\n",
       "      <td>1.609438</td>\n",
       "      <td>3.218876</td>\n",
       "    </tr>\n",
       "    <tr>\n",
       "      <th>NrOfScheduledPayments</th>\n",
       "      <td>26386.0</td>\n",
       "      <td>4.008073</td>\n",
       "      <td>0.232997</td>\n",
       "      <td>1.386294</td>\n",
       "      <td>3.951244</td>\n",
       "      <td>4.110874</td>\n",
       "      <td>4.110874</td>\n",
       "      <td>4.290459</td>\n",
       "    </tr>\n",
       "    <tr>\n",
       "      <th>PreviousEarlyRepaymentsCountBeforeLoan</th>\n",
       "      <td>5116.0</td>\n",
       "      <td>0.816146</td>\n",
       "      <td>0.256028</td>\n",
       "      <td>0.693147</td>\n",
       "      <td>0.693147</td>\n",
       "      <td>0.693147</td>\n",
       "      <td>0.693147</td>\n",
       "      <td>2.302585</td>\n",
       "    </tr>\n",
       "    <tr>\n",
       "      <th>PreviousRepaymentsBeforeLoan</th>\n",
       "      <td>31398.0</td>\n",
       "      <td>6.527190</td>\n",
       "      <td>1.571751</td>\n",
       "      <td>0.943011</td>\n",
       "      <td>5.366396</td>\n",
       "      <td>6.555613</td>\n",
       "      <td>7.755832</td>\n",
       "      <td>10.436420</td>\n",
       "    </tr>\n",
       "    <tr>\n",
       "      <th>ProbabilityOfDefault</th>\n",
       "      <td>71654.0</td>\n",
       "      <td>0.259888</td>\n",
       "      <td>0.166931</td>\n",
       "      <td>0.000000</td>\n",
       "      <td>0.128095</td>\n",
       "      <td>0.227983</td>\n",
       "      <td>0.355017</td>\n",
       "      <td>0.920637</td>\n",
       "    </tr>\n",
       "    <tr>\n",
       "      <th>Duration</th>\n",
       "      <td>74293.0</td>\n",
       "      <td>3.719722</td>\n",
       "      <td>0.524605</td>\n",
       "      <td>0.154151</td>\n",
       "      <td>3.632309</td>\n",
       "      <td>3.651524</td>\n",
       "      <td>4.131961</td>\n",
       "      <td>4.144192</td>\n",
       "    </tr>\n",
       "  </tbody>\n",
       "</table>\n",
       "</div>"
      ],
      "text/plain": [
       "                                          count       mean        std  \\\n",
       "Age                                     74293.0  39.941233  12.100845   \n",
       "Amount                                  74293.0   7.361657   0.925665   \n",
       "AmountOfPreviousLoansBeforeLoan         37053.0   8.097002   1.011310   \n",
       "CreditScoreEeMini                       41053.0   6.853395   0.124113   \n",
       "FreeCash                                34287.0   5.455615   1.568414   \n",
       "IncomeTotal                             74230.0   7.151165   0.676233   \n",
       "Interest                                74293.0   0.339273   0.209317   \n",
       "LiabilitiesTotal                        65196.0   6.139703   0.937905   \n",
       "MonthlyPayment                          63976.0   4.424172   0.942273   \n",
       "NewCreditCustomer                       74293.0   0.557186   0.496722   \n",
       "NoOfPreviousLoansBeforeLoan             37047.0   1.178331   0.490049   \n",
       "NrOfScheduledPayments                   26386.0   4.008073   0.232997   \n",
       "PreviousEarlyRepaymentsCountBeforeLoan   5116.0   0.816146   0.256028   \n",
       "PreviousRepaymentsBeforeLoan            31398.0   6.527190   1.571751   \n",
       "ProbabilityOfDefault                    71654.0   0.259888   0.166931   \n",
       "Duration                                74293.0   3.719722   0.524605   \n",
       "\n",
       "                                             min        25%        50%  \\\n",
       "Age                                     0.000000  30.000000  38.000000   \n",
       "Amount                                  2.000128   6.398595   7.496652   \n",
       "AmountOfPreviousLoansBeforeLoan         2.623668   7.438972   8.193124   \n",
       "CreditScoreEeMini                       6.216606   6.908755   6.908755   \n",
       "FreeCash                                0.009950   4.988628   5.891644   \n",
       "IncomeTotal                             0.693147   6.694562   7.090910   \n",
       "Interest                                0.020000   0.200000   0.289400   \n",
       "LiabilitiesTotal                        1.386294   5.662960   6.216606   \n",
       "MonthlyPayment                          2.604170   3.646168   4.516230   \n",
       "NewCreditCustomer                       0.000000   0.000000   1.000000   \n",
       "NoOfPreviousLoansBeforeLoan             0.693147   0.693147   1.098612   \n",
       "NrOfScheduledPayments                   1.386294   3.951244   4.110874   \n",
       "PreviousEarlyRepaymentsCountBeforeLoan  0.693147   0.693147   0.693147   \n",
       "PreviousRepaymentsBeforeLoan            0.943011   5.366396   6.555613   \n",
       "ProbabilityOfDefault                    0.000000   0.128095   0.227983   \n",
       "Duration                                0.154151   3.632309   3.651524   \n",
       "\n",
       "                                              75%        max  \n",
       "Age                                     49.000000  77.000000  \n",
       "Amount                                   8.066521   9.271530  \n",
       "AmountOfPreviousLoansBeforeLoan          8.886133  10.570342  \n",
       "CreditScoreEeMini                        6.908755   6.908755  \n",
       "FreeCash                                 6.480045  11.975084  \n",
       "IncomeTotal                              7.533560  13.827459  \n",
       "Interest                                 0.378600   1.000000  \n",
       "LiabilitiesTotal                         6.748771  12.058216  \n",
       "MonthlyPayment                           5.121028   7.770451  \n",
       "NewCreditCustomer                        1.000000   1.000000  \n",
       "NoOfPreviousLoansBeforeLoan              1.609438   3.218876  \n",
       "NrOfScheduledPayments                    4.110874   4.290459  \n",
       "PreviousEarlyRepaymentsCountBeforeLoan   0.693147   2.302585  \n",
       "PreviousRepaymentsBeforeLoan             7.755832  10.436420  \n",
       "ProbabilityOfDefault                     0.355017   0.920637  \n",
       "Duration                                 4.131961   4.144192  "
      ]
     },
     "execution_count": 31,
     "metadata": {},
     "output_type": "execute_result"
    }
   ],
   "source": [
    "train_set.describe().T"
   ]
  }
 ],
 "metadata": {
  "kernelspec": {
   "display_name": "python39",
   "language": "python",
   "name": "python3"
  },
  "language_info": {
   "codemirror_mode": {
    "name": "ipython",
    "version": 3
   },
   "file_extension": ".py",
   "mimetype": "text/x-python",
   "name": "python",
   "nbconvert_exporter": "python",
   "pygments_lexer": "ipython3",
   "version": "3.9.18"
  }
 },
 "nbformat": 4,
 "nbformat_minor": 2
}
