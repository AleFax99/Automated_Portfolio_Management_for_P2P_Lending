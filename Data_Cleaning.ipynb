{
 "cells": [
  {
   "cell_type": "markdown",
   "metadata": {},
   "source": [
    "# Data Cleaning for PD Prediction"
   ]
  },
  {
   "cell_type": "code",
   "execution_count": 1,
   "metadata": {},
   "outputs": [],
   "source": [
    "# import the necessary packages\n",
    "import numpy as np\n",
    "import os\n",
    "import sys\n",
    "import time\n",
    "import random\n",
    "import gzip\n",
    "import pandas as pd\n",
    "\n",
    "# set seed \n",
    "random.seed(42) # for reproducibility when sampling from the data\n",
    "np.random.seed(42) # for reproducibility when sampling from the data\n",
    "\n",
    "csv_file_path = '../Data/Loan_status_2007-2020Q3.gzip'\n",
    "# df = pd.read_csv(csv_file_path, skiprows=range(1,2825493), nrows=100000)"
   ]
  },
  {
   "cell_type": "code",
   "execution_count": 2,
   "metadata": {},
   "outputs": [
    {
     "name": "stderr",
     "output_type": "stream",
     "text": [
      "C:\\Users\\Utente\\AppData\\Local\\Temp\\ipykernel_9448\\2987687080.py:9: DtypeWarning: Columns (117) have mixed types. Specify dtype option on import or set low_memory=False.\n",
      "  df_sampled = pd.read_csv(csv_file_path, skiprows=skip_rows)\n"
     ]
    }
   ],
   "source": [
    "# Step 1: Determine the total number of rows in the file\n",
    "total_rows = sum(1 for row in open(csv_file_path)) - 1  # Minus 1 to exclude the header\n",
    "\n",
    "# Step 2: Randomly select which rows to skip\n",
    "n = 50000  # Number of rows to sample\n",
    "skip_rows = sorted(np.random.choice(range(1, total_rows + 1), total_rows - n, replace=False))\n",
    "\n",
    "# Step 3: Read the file with the skiprows parameter\n",
    "df_sampled = pd.read_csv(csv_file_path, skiprows=skip_rows)\n"
   ]
  },
  {
   "cell_type": "code",
   "execution_count": 3,
   "metadata": {},
   "outputs": [
    {
     "data": {
      "text/plain": [
       "(50000, 142)"
      ]
     },
     "execution_count": 3,
     "metadata": {},
     "output_type": "execute_result"
    }
   ],
   "source": [
    "df_sampled.shape"
   ]
  },
  {
   "cell_type": "code",
   "execution_count": 4,
   "metadata": {},
   "outputs": [
    {
     "data": {
      "text/plain": [
       "loan_status\n",
       "Fully Paid                                             25684\n",
       "Current                                                17537\n",
       "Charged Off                                             6199\n",
       "Late (31-120 days)                                       268\n",
       "In Grace Period                                          161\n",
       "Late (16-30 days)                                         48\n",
       "Issued                                                    47\n",
       "Does not meet the credit policy. Status:Fully Paid        43\n",
       "Does not meet the credit policy. Status:Charged Off       10\n",
       "Default                                                    3\n",
       "Name: count, dtype: int64"
      ]
     },
     "execution_count": 4,
     "metadata": {},
     "output_type": "execute_result"
    }
   ],
   "source": [
    "df_sampled['loan_status'].value_counts() "
   ]
  },
  {
   "cell_type": "code",
   "execution_count": 5,
   "metadata": {},
   "outputs": [
    {
     "data": {
      "text/plain": [
       "hardship_loan_status       95.134\n",
       "deferral_term              95.118\n",
       "hardship_status            95.118\n",
       "hardship_dpd               95.118\n",
       "hardship_length            95.118\n",
       "payment_plan_start_date    95.118\n",
       "hardship_end_date          95.118\n",
       "hardship_type              95.118\n",
       "hardship_start_date        95.118\n",
       "hardship_reason            95.118\n",
       "dtype: float64"
      ]
     },
     "execution_count": 5,
     "metadata": {},
     "output_type": "execute_result"
    }
   ],
   "source": [
    "# display the first 10 columns by percentage of missing data\n",
    "missing_percentages = df_sampled.isnull().sum() * 100 / len(df_sampled)\n",
    "missing_percentages.sort_values(ascending=False).head(10)"
   ]
  },
  {
   "cell_type": "code",
   "execution_count": 6,
   "metadata": {},
   "outputs": [
    {
     "data": {
      "text/plain": [
       "52.212"
      ]
     },
     "execution_count": 6,
     "metadata": {},
     "output_type": "execute_result"
    }
   ],
   "source": [
    "# check missing percentage for mths_since_last_delinq\n",
    "missing_mths_since_last_delinq = df_sampled['mths_since_last_delinq'].isnull().sum() * 100 / len(df_sampled)\n",
    "missing_mths_since_last_delinq"
   ]
  },
  {
   "cell_type": "code",
   "execution_count": 7,
   "metadata": {},
   "outputs": [
    {
     "data": {
      "text/html": [
       "<div>\n",
       "<style scoped>\n",
       "    .dataframe tbody tr th:only-of-type {\n",
       "        vertical-align: middle;\n",
       "    }\n",
       "\n",
       "    .dataframe tbody tr th {\n",
       "        vertical-align: top;\n",
       "    }\n",
       "\n",
       "    .dataframe thead th {\n",
       "        text-align: right;\n",
       "    }\n",
       "</style>\n",
       "<table border=\"1\" class=\"dataframe\">\n",
       "  <thead>\n",
       "    <tr style=\"text-align: right;\">\n",
       "      <th></th>\n",
       "      <th>Unnamed: 0</th>\n",
       "      <th>id</th>\n",
       "      <th>loan_amnt</th>\n",
       "      <th>funded_amnt</th>\n",
       "      <th>funded_amnt_inv</th>\n",
       "      <th>term</th>\n",
       "      <th>int_rate</th>\n",
       "      <th>installment</th>\n",
       "      <th>grade</th>\n",
       "      <th>sub_grade</th>\n",
       "      <th>...</th>\n",
       "      <th>hardship_start_date</th>\n",
       "      <th>hardship_end_date</th>\n",
       "      <th>payment_plan_start_date</th>\n",
       "      <th>hardship_length</th>\n",
       "      <th>hardship_dpd</th>\n",
       "      <th>hardship_loan_status</th>\n",
       "      <th>orig_projected_additional_accrued_interest</th>\n",
       "      <th>hardship_payoff_balance_amount</th>\n",
       "      <th>hardship_last_payment_amount</th>\n",
       "      <th>debt_settlement_flag</th>\n",
       "    </tr>\n",
       "  </thead>\n",
       "  <tbody>\n",
       "    <tr>\n",
       "      <th>0</th>\n",
       "      <td>37</td>\n",
       "      <td>1069357</td>\n",
       "      <td>15000</td>\n",
       "      <td>15000</td>\n",
       "      <td>15000.0</td>\n",
       "      <td>36 months</td>\n",
       "      <td>7.90%</td>\n",
       "      <td>469.36</td>\n",
       "      <td>A</td>\n",
       "      <td>A4</td>\n",
       "      <td>...</td>\n",
       "      <td>NaN</td>\n",
       "      <td>NaN</td>\n",
       "      <td>NaN</td>\n",
       "      <td>NaN</td>\n",
       "      <td>NaN</td>\n",
       "      <td>NaN</td>\n",
       "      <td>NaN</td>\n",
       "      <td>NaN</td>\n",
       "      <td>NaN</td>\n",
       "      <td>N</td>\n",
       "    </tr>\n",
       "    <tr>\n",
       "      <th>1</th>\n",
       "      <td>56</td>\n",
       "      <td>1068409</td>\n",
       "      <td>16000</td>\n",
       "      <td>16000</td>\n",
       "      <td>15950.0</td>\n",
       "      <td>60 months</td>\n",
       "      <td>19.91%</td>\n",
       "      <td>423.11</td>\n",
       "      <td>E</td>\n",
       "      <td>E4</td>\n",
       "      <td>...</td>\n",
       "      <td>NaN</td>\n",
       "      <td>NaN</td>\n",
       "      <td>NaN</td>\n",
       "      <td>NaN</td>\n",
       "      <td>NaN</td>\n",
       "      <td>NaN</td>\n",
       "      <td>NaN</td>\n",
       "      <td>NaN</td>\n",
       "      <td>NaN</td>\n",
       "      <td>N</td>\n",
       "    </tr>\n",
       "    <tr>\n",
       "      <th>2</th>\n",
       "      <td>59</td>\n",
       "      <td>1068945</td>\n",
       "      <td>7100</td>\n",
       "      <td>7100</td>\n",
       "      <td>7100.0</td>\n",
       "      <td>36 months</td>\n",
       "      <td>16.77%</td>\n",
       "      <td>252.33</td>\n",
       "      <td>D</td>\n",
       "      <td>D2</td>\n",
       "      <td>...</td>\n",
       "      <td>NaN</td>\n",
       "      <td>NaN</td>\n",
       "      <td>NaN</td>\n",
       "      <td>NaN</td>\n",
       "      <td>NaN</td>\n",
       "      <td>NaN</td>\n",
       "      <td>NaN</td>\n",
       "      <td>NaN</td>\n",
       "      <td>NaN</td>\n",
       "      <td>N</td>\n",
       "    </tr>\n",
       "    <tr>\n",
       "      <th>3</th>\n",
       "      <td>116</td>\n",
       "      <td>1061814</td>\n",
       "      <td>10000</td>\n",
       "      <td>10000</td>\n",
       "      <td>10000.0</td>\n",
       "      <td>36 months</td>\n",
       "      <td>8.90%</td>\n",
       "      <td>317.54</td>\n",
       "      <td>A</td>\n",
       "      <td>A5</td>\n",
       "      <td>...</td>\n",
       "      <td>NaN</td>\n",
       "      <td>NaN</td>\n",
       "      <td>NaN</td>\n",
       "      <td>NaN</td>\n",
       "      <td>NaN</td>\n",
       "      <td>NaN</td>\n",
       "      <td>NaN</td>\n",
       "      <td>NaN</td>\n",
       "      <td>NaN</td>\n",
       "      <td>N</td>\n",
       "    </tr>\n",
       "    <tr>\n",
       "      <th>4</th>\n",
       "      <td>126</td>\n",
       "      <td>1068180</td>\n",
       "      <td>2500</td>\n",
       "      <td>2500</td>\n",
       "      <td>2500.0</td>\n",
       "      <td>36 months</td>\n",
       "      <td>14.27%</td>\n",
       "      <td>85.78</td>\n",
       "      <td>C</td>\n",
       "      <td>C2</td>\n",
       "      <td>...</td>\n",
       "      <td>NaN</td>\n",
       "      <td>NaN</td>\n",
       "      <td>NaN</td>\n",
       "      <td>NaN</td>\n",
       "      <td>NaN</td>\n",
       "      <td>NaN</td>\n",
       "      <td>NaN</td>\n",
       "      <td>NaN</td>\n",
       "      <td>NaN</td>\n",
       "      <td>N</td>\n",
       "    </tr>\n",
       "  </tbody>\n",
       "</table>\n",
       "<p>5 rows × 142 columns</p>\n",
       "</div>"
      ],
      "text/plain": [
       "   Unnamed: 0       id  loan_amnt  funded_amnt  funded_amnt_inv        term  \\\n",
       "0          37  1069357      15000        15000          15000.0   36 months   \n",
       "1          56  1068409      16000        16000          15950.0   60 months   \n",
       "2          59  1068945       7100         7100           7100.0   36 months   \n",
       "3         116  1061814      10000        10000          10000.0   36 months   \n",
       "4         126  1068180       2500         2500           2500.0   36 months   \n",
       "\n",
       "  int_rate  installment grade sub_grade  ... hardship_start_date  \\\n",
       "0    7.90%       469.36     A        A4  ...                 NaN   \n",
       "1   19.91%       423.11     E        E4  ...                 NaN   \n",
       "2   16.77%       252.33     D        D2  ...                 NaN   \n",
       "3    8.90%       317.54     A        A5  ...                 NaN   \n",
       "4   14.27%        85.78     C        C2  ...                 NaN   \n",
       "\n",
       "  hardship_end_date payment_plan_start_date  hardship_length hardship_dpd  \\\n",
       "0               NaN                     NaN              NaN          NaN   \n",
       "1               NaN                     NaN              NaN          NaN   \n",
       "2               NaN                     NaN              NaN          NaN   \n",
       "3               NaN                     NaN              NaN          NaN   \n",
       "4               NaN                     NaN              NaN          NaN   \n",
       "\n",
       "  hardship_loan_status orig_projected_additional_accrued_interest  \\\n",
       "0                  NaN                                        NaN   \n",
       "1                  NaN                                        NaN   \n",
       "2                  NaN                                        NaN   \n",
       "3                  NaN                                        NaN   \n",
       "4                  NaN                                        NaN   \n",
       "\n",
       "  hardship_payoff_balance_amount hardship_last_payment_amount  \\\n",
       "0                            NaN                          NaN   \n",
       "1                            NaN                          NaN   \n",
       "2                            NaN                          NaN   \n",
       "3                            NaN                          NaN   \n",
       "4                            NaN                          NaN   \n",
       "\n",
       "  debt_settlement_flag  \n",
       "0                    N  \n",
       "1                    N  \n",
       "2                    N  \n",
       "3                    N  \n",
       "4                    N  \n",
       "\n",
       "[5 rows x 142 columns]"
      ]
     },
     "execution_count": 7,
     "metadata": {},
     "output_type": "execute_result"
    }
   ],
   "source": [
    "df_sampled.head()"
   ]
  },
  {
   "cell_type": "markdown",
   "metadata": {},
   "source": [
    "Columns that contain more than 50% missing data are not utilised in this study."
   ]
  },
  {
   "cell_type": "code",
   "execution_count": 8,
   "metadata": {},
   "outputs": [
    {
     "data": {
      "text/plain": [
       "(50000, 107)"
      ]
     },
     "execution_count": 8,
     "metadata": {},
     "output_type": "execute_result"
    }
   ],
   "source": [
    "# drop the columns with more than 50% missing values\n",
    "columns_to_drop = missing_percentages[missing_percentages > 50].index\n",
    "df = df_sampled.drop(columns=columns_to_drop)\n",
    "df.shape"
   ]
  },
  {
   "cell_type": "code",
   "execution_count": 9,
   "metadata": {},
   "outputs": [
    {
     "data": {
      "text/plain": [
       "acc_now_delinq      int64\n",
       "pct_tl_nvr_dlq    float64\n",
       "dtype: object"
      ]
     },
     "execution_count": 9,
     "metadata": {},
     "output_type": "execute_result"
    }
   ],
   "source": [
    "# check datatype of acc_now_delinq, and pct_tl_nvr_dlq\n",
    "df[['acc_now_delinq', 'pct_tl_nvr_dlq']].dtypes"
   ]
  },
  {
   "cell_type": "markdown",
   "metadata": {},
   "source": [
    "Categorical columns are selected in this phase."
   ]
  },
  {
   "cell_type": "code",
   "execution_count": 10,
   "metadata": {},
   "outputs": [
    {
     "data": {
      "text/html": [
       "<div>\n",
       "<style scoped>\n",
       "    .dataframe tbody tr th:only-of-type {\n",
       "        vertical-align: middle;\n",
       "    }\n",
       "\n",
       "    .dataframe tbody tr th {\n",
       "        vertical-align: top;\n",
       "    }\n",
       "\n",
       "    .dataframe thead th {\n",
       "        text-align: right;\n",
       "    }\n",
       "</style>\n",
       "<table border=\"1\" class=\"dataframe\">\n",
       "  <thead>\n",
       "    <tr style=\"text-align: right;\">\n",
       "      <th></th>\n",
       "      <th>term</th>\n",
       "      <th>int_rate</th>\n",
       "      <th>grade</th>\n",
       "      <th>sub_grade</th>\n",
       "      <th>emp_title</th>\n",
       "      <th>emp_length</th>\n",
       "      <th>home_ownership</th>\n",
       "      <th>verification_status</th>\n",
       "      <th>issue_d</th>\n",
       "      <th>loan_status</th>\n",
       "      <th>...</th>\n",
       "      <th>zip_code</th>\n",
       "      <th>addr_state</th>\n",
       "      <th>earliest_cr_line</th>\n",
       "      <th>revol_util</th>\n",
       "      <th>initial_list_status</th>\n",
       "      <th>last_pymnt_d</th>\n",
       "      <th>last_credit_pull_d</th>\n",
       "      <th>application_type</th>\n",
       "      <th>hardship_flag</th>\n",
       "      <th>debt_settlement_flag</th>\n",
       "    </tr>\n",
       "  </thead>\n",
       "  <tbody>\n",
       "    <tr>\n",
       "      <th>0</th>\n",
       "      <td>36 months</td>\n",
       "      <td>7.90%</td>\n",
       "      <td>A</td>\n",
       "      <td>A4</td>\n",
       "      <td>Gateway Hospice</td>\n",
       "      <td>1 year</td>\n",
       "      <td>RENT</td>\n",
       "      <td>Verified</td>\n",
       "      <td>Dec-2011</td>\n",
       "      <td>Fully Paid</td>\n",
       "      <td>...</td>\n",
       "      <td>445xx</td>\n",
       "      <td>OH</td>\n",
       "      <td>Nov-2004</td>\n",
       "      <td>50.4%</td>\n",
       "      <td>f</td>\n",
       "      <td>Jan-2014</td>\n",
       "      <td>Jun-2018</td>\n",
       "      <td>Individual</td>\n",
       "      <td>N</td>\n",
       "      <td>N</td>\n",
       "    </tr>\n",
       "    <tr>\n",
       "      <th>1</th>\n",
       "      <td>60 months</td>\n",
       "      <td>19.91%</td>\n",
       "      <td>E</td>\n",
       "      <td>E4</td>\n",
       "      <td>CA Technologies</td>\n",
       "      <td>7 years</td>\n",
       "      <td>RENT</td>\n",
       "      <td>Verified</td>\n",
       "      <td>Dec-2011</td>\n",
       "      <td>Fully Paid</td>\n",
       "      <td>...</td>\n",
       "      <td>017xx</td>\n",
       "      <td>MA</td>\n",
       "      <td>Dec-1998</td>\n",
       "      <td>75.1%</td>\n",
       "      <td>f</td>\n",
       "      <td>Oct-2013</td>\n",
       "      <td>May-2020</td>\n",
       "      <td>Individual</td>\n",
       "      <td>N</td>\n",
       "      <td>N</td>\n",
       "    </tr>\n",
       "    <tr>\n",
       "      <th>2</th>\n",
       "      <td>36 months</td>\n",
       "      <td>16.77%</td>\n",
       "      <td>D</td>\n",
       "      <td>D2</td>\n",
       "      <td>Triple D security</td>\n",
       "      <td>1 year</td>\n",
       "      <td>MORTGAGE</td>\n",
       "      <td>Verified</td>\n",
       "      <td>Dec-2011</td>\n",
       "      <td>Fully Paid</td>\n",
       "      <td>...</td>\n",
       "      <td>787xx</td>\n",
       "      <td>TX</td>\n",
       "      <td>Apr-2007</td>\n",
       "      <td>91.2%</td>\n",
       "      <td>f</td>\n",
       "      <td>Jan-2015</td>\n",
       "      <td>May-2019</td>\n",
       "      <td>Individual</td>\n",
       "      <td>N</td>\n",
       "      <td>N</td>\n",
       "    </tr>\n",
       "    <tr>\n",
       "      <th>3</th>\n",
       "      <td>36 months</td>\n",
       "      <td>8.90%</td>\n",
       "      <td>A</td>\n",
       "      <td>A5</td>\n",
       "      <td>Renal Support Network</td>\n",
       "      <td>6 years</td>\n",
       "      <td>RENT</td>\n",
       "      <td>Verified</td>\n",
       "      <td>Dec-2011</td>\n",
       "      <td>Fully Paid</td>\n",
       "      <td>...</td>\n",
       "      <td>900xx</td>\n",
       "      <td>CA</td>\n",
       "      <td>Jan-2000</td>\n",
       "      <td>49.5%</td>\n",
       "      <td>f</td>\n",
       "      <td>Mar-2013</td>\n",
       "      <td>May-2018</td>\n",
       "      <td>Individual</td>\n",
       "      <td>N</td>\n",
       "      <td>N</td>\n",
       "    </tr>\n",
       "    <tr>\n",
       "      <th>4</th>\n",
       "      <td>36 months</td>\n",
       "      <td>14.27%</td>\n",
       "      <td>C</td>\n",
       "      <td>C2</td>\n",
       "      <td>United states air force</td>\n",
       "      <td>7 years</td>\n",
       "      <td>RENT</td>\n",
       "      <td>Source Verified</td>\n",
       "      <td>Dec-2011</td>\n",
       "      <td>Fully Paid</td>\n",
       "      <td>...</td>\n",
       "      <td>325xx</td>\n",
       "      <td>FL</td>\n",
       "      <td>Nov-2004</td>\n",
       "      <td>37.7%</td>\n",
       "      <td>f</td>\n",
       "      <td>Feb-2012</td>\n",
       "      <td>Feb-2012</td>\n",
       "      <td>Individual</td>\n",
       "      <td>N</td>\n",
       "      <td>N</td>\n",
       "    </tr>\n",
       "  </tbody>\n",
       "</table>\n",
       "<p>5 rows × 24 columns</p>\n",
       "</div>"
      ],
      "text/plain": [
       "         term int_rate grade sub_grade                emp_title emp_length  \\\n",
       "0   36 months    7.90%     A        A4          Gateway Hospice     1 year   \n",
       "1   60 months   19.91%     E        E4          CA Technologies    7 years   \n",
       "2   36 months   16.77%     D        D2       Triple D security      1 year   \n",
       "3   36 months    8.90%     A        A5    Renal Support Network    6 years   \n",
       "4   36 months   14.27%     C        C2  United states air force    7 years   \n",
       "\n",
       "  home_ownership verification_status   issue_d loan_status  ... zip_code  \\\n",
       "0           RENT            Verified  Dec-2011  Fully Paid  ...    445xx   \n",
       "1           RENT            Verified  Dec-2011  Fully Paid  ...    017xx   \n",
       "2       MORTGAGE            Verified  Dec-2011  Fully Paid  ...    787xx   \n",
       "3           RENT            Verified  Dec-2011  Fully Paid  ...    900xx   \n",
       "4           RENT     Source Verified  Dec-2011  Fully Paid  ...    325xx   \n",
       "\n",
       "  addr_state earliest_cr_line revol_util initial_list_status last_pymnt_d  \\\n",
       "0         OH         Nov-2004      50.4%                   f     Jan-2014   \n",
       "1         MA         Dec-1998      75.1%                   f     Oct-2013   \n",
       "2         TX         Apr-2007      91.2%                   f     Jan-2015   \n",
       "3         CA         Jan-2000      49.5%                   f     Mar-2013   \n",
       "4         FL         Nov-2004      37.7%                   f     Feb-2012   \n",
       "\n",
       "  last_credit_pull_d application_type hardship_flag debt_settlement_flag  \n",
       "0           Jun-2018       Individual             N                    N  \n",
       "1           May-2020       Individual             N                    N  \n",
       "2           May-2019       Individual             N                    N  \n",
       "3           May-2018       Individual             N                    N  \n",
       "4           Feb-2012       Individual             N                    N  \n",
       "\n",
       "[5 rows x 24 columns]"
      ]
     },
     "execution_count": 10,
     "metadata": {},
     "output_type": "execute_result"
    }
   ],
   "source": [
    "# treat categorical columns\n",
    "categorical_columns = df.select_dtypes(include=['object']).columns\n",
    "df[categorical_columns].head()"
   ]
  },
  {
   "cell_type": "code",
   "execution_count": 11,
   "metadata": {},
   "outputs": [
    {
     "data": {
      "text/plain": [
       "pymnt_plan                  1\n",
       "term                        2\n",
       "application_type            2\n",
       "initial_list_status         2\n",
       "hardship_flag               2\n",
       "debt_settlement_flag        2\n",
       "verification_status         3\n",
       "home_ownership              5\n",
       "grade                       7\n",
       "loan_status                10\n",
       "emp_length                 11\n",
       "purpose                    14\n",
       "sub_grade                  35\n",
       "addr_state                 50\n",
       "last_credit_pull_d        130\n",
       "last_pymnt_d              142\n",
       "issue_d                   157\n",
       "int_rate                  536\n",
       "earliest_cr_line          640\n",
       "zip_code                  864\n",
       "revol_util               1057\n",
       "title                    1886\n",
       "emp_title               22495\n",
       "url                     50000\n",
       "dtype: int64"
      ]
     },
     "execution_count": 11,
     "metadata": {},
     "output_type": "execute_result"
    }
   ],
   "source": [
    "# check variance of categorical columns\n",
    "df[categorical_columns].nunique().sort_values()"
   ]
  },
  {
   "cell_type": "markdown",
   "metadata": {},
   "source": [
    "The idea is to reduce model complexity by retaining the categorical variables that do not suffer from high cardinality (many categories).\n",
    "\n",
    "Purpose and title covney similar information. Purpose however contains less categoris and it is thus preferred. Therefore, we keep only purpose. \n",
    "\n",
    "Grade and subgrade are hierarchically related. Grade contains less categories and is therefore perferable as it bears less complexity than Subgrade. Therefore, we will keep only the grade column.\n",
    "\n",
    "Issue date will be kept as time reference and will later be translated into a date format. \n",
    "\n",
    "The categorical variables we keep comprise:\n",
    "- grade, \n",
    "- type of home ownership, \n",
    "- interest rate, \n",
    "- loan status (target), \n",
    "- purpose, \n",
    "- term, \n",
    "- earliest credit line"
   ]
  },
  {
   "cell_type": "code",
   "execution_count": 12,
   "metadata": {},
   "outputs": [
    {
     "data": {
      "text/plain": [
       "(50000, 91)"
      ]
     },
     "execution_count": 12,
     "metadata": {},
     "output_type": "execute_result"
    }
   ],
   "source": [
    "cat_columns_to_keep = ['issue_d', \n",
    "                       'grade', \n",
    "                       'home_ownership', \n",
    "                       'loan_status', \n",
    "                       'int_rate', \n",
    "                       'term', \n",
    "                       'purpose', \n",
    "                       'earliest_cr_line'\n",
    "                       ]\n",
    "cat_columns_to_drop = set(categorical_columns) - set(cat_columns_to_keep)\n",
    "df.drop(columns=cat_columns_to_drop, inplace=True)\n",
    "df.shape"
   ]
  },
  {
   "cell_type": "code",
   "execution_count": 13,
   "metadata": {},
   "outputs": [
    {
     "data": {
      "text/plain": [
       "policy_code                       1\n",
       "num_tl_120dpd_2m                  2\n",
       "num_tl_30dpd                      3\n",
       "acc_now_delinq                    3\n",
       "collections_12_mths_ex_med        6\n",
       "                              ...  \n",
       "tot_cur_bal                   44199\n",
       "total_rec_int                 46260\n",
       "total_pymnt_inv               47483\n",
       "total_pymnt                   48071\n",
       "id                            50000\n",
       "Length: 83, dtype: int64"
      ]
     },
     "execution_count": 13,
     "metadata": {},
     "output_type": "execute_result"
    }
   ],
   "source": [
    "# treat numeric columns\n",
    "numeric_columns = df.select_dtypes(include=['float64', 'int64']).columns\n",
    "\n",
    "# check variance of numeric columns\n",
    "df[numeric_columns].nunique().sort_values()"
   ]
  },
  {
   "cell_type": "markdown",
   "metadata": {},
   "source": [
    "Policy code is useless. We can drop it. Also id is useless and will be removed. \n",
    "\n",
    "Columns regarding settlement produce leakage of future information. Therefore they are not included. \n",
    "\n",
    "To drive down the number of predictors further, we base the set of numeric predictors on a previous study on Kaggle: https://www.kaggle.com/code/krishnaraj30/xgboost-loan-defaulters-prediction/notebook#%F0%9F%92%BE-Data-Description\n",
    "\n",
    "Therefore, the numeric features used include:\n",
    "- loan amount\n",
    "- installment\n",
    "- annual income\n",
    "- debt to income ratio\n",
    "- number of credit lines the borrower uses\n",
    "- number of public record bankruptcies\n",
    "\n",
    "Delinquency metrics are also vital behavioural data to determine whether the chance of a default are higher or not. Therefore, we will consider also the following predictors:\n",
    "- the percentage of trades where the borrower was not delinquent (pct_tl_nvr_dlq)"
   ]
  },
  {
   "cell_type": "code",
   "execution_count": 14,
   "metadata": {},
   "outputs": [
    {
     "data": {
      "text/plain": [
       "(50000, 15)"
      ]
     },
     "execution_count": 14,
     "metadata": {},
     "output_type": "execute_result"
    }
   ],
   "source": [
    "numeric_columns_to_keep = ['loan_amnt', 'installment', 'annual_inc', 'dti', 'total_acc', 'pub_rec_bankruptcies', 'pct_tl_nvr_dlq']\n",
    "numeric_columns_to_drop = set(numeric_columns) - set(numeric_columns_to_keep)\n",
    "df.drop(columns=numeric_columns_to_drop, inplace=True)\n",
    "df.shape"
   ]
  },
  {
   "cell_type": "code",
   "execution_count": 15,
   "metadata": {},
   "outputs": [
    {
     "data": {
      "text/plain": [
       "pub_rec_bankruptcies\n",
       "0.0    44135\n",
       "1.0     5581\n",
       "2.0      206\n",
       "3.0       42\n",
       "4.0        5\n",
       "5.0        5\n",
       "7.0        2\n",
       "8.0        1\n",
       "6.0        1\n",
       "Name: count, dtype: int64"
      ]
     },
     "execution_count": 15,
     "metadata": {},
     "output_type": "execute_result"
    }
   ],
   "source": [
    "df['pub_rec_bankruptcies'].value_counts()"
   ]
  },
  {
   "cell_type": "code",
   "execution_count": 16,
   "metadata": {},
   "outputs": [],
   "source": [
    "df.to_csv('../Data/Loan_status_Cleaned.csv', index=False)"
   ]
  }
 ],
 "metadata": {
  "kernelspec": {
   "display_name": "python39",
   "language": "python",
   "name": "python3"
  },
  "language_info": {
   "codemirror_mode": {
    "name": "ipython",
    "version": 3
   },
   "file_extension": ".py",
   "mimetype": "text/x-python",
   "name": "python",
   "nbconvert_exporter": "python",
   "pygments_lexer": "ipython3",
   "version": "3.9.18"
  }
 },
 "nbformat": 4,
 "nbformat_minor": 2
}
