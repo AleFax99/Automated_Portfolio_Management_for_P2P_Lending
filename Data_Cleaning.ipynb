{
 "cells": [
  {
   "cell_type": "markdown",
   "metadata": {},
   "source": [
    "# Data Cleaning for PD Prediction"
   ]
  },
  {
   "cell_type": "code",
   "execution_count": 59,
   "metadata": {},
   "outputs": [],
   "source": [
    "# import the necessary packages\n",
    "import numpy as np\n",
    "import os\n",
    "import sys\n",
    "import time\n",
    "\n",
    "import gzip\n",
    "import pandas as pd\n",
    "\n",
    "\n",
    "csv_file_path = '../Data/Loan_status_2007-2020Q3.gzip'\n",
    "df = pd.read_csv(csv_file_path, skiprows=range(1,2825493), nrows=100000)"
   ]
  },
  {
   "cell_type": "code",
   "execution_count": 70,
   "metadata": {},
   "outputs": [
    {
     "name": "stderr",
     "output_type": "stream",
     "text": [
      "C:\\Users\\Utente\\AppData\\Local\\Temp\\ipykernel_23040\\2987687080.py:9: DtypeWarning: Columns (117) have mixed types. Specify dtype option on import or set low_memory=False.\n",
      "  df_sampled = pd.read_csv(csv_file_path, skiprows=skip_rows)\n"
     ]
    }
   ],
   "source": [
    "# Step 1: Determine the total number of rows in the file\n",
    "total_rows = sum(1 for row in open(csv_file_path)) - 1  # Minus 1 to exclude the header\n",
    "\n",
    "# Step 2: Randomly select which rows to skip\n",
    "n = 50000  # Number of rows to sample\n",
    "skip_rows = sorted(np.random.choice(range(1, total_rows + 1), total_rows - n, replace=False))\n",
    "\n",
    "# Step 3: Read the file with the skiprows parameter\n",
    "df_sampled = pd.read_csv(csv_file_path, skiprows=skip_rows)\n"
   ]
  },
  {
   "cell_type": "code",
   "execution_count": 72,
   "metadata": {},
   "outputs": [
    {
     "data": {
      "text/plain": [
       "(50000, 142)"
      ]
     },
     "execution_count": 72,
     "metadata": {},
     "output_type": "execute_result"
    }
   ],
   "source": [
    "df_sampled.shape"
   ]
  },
  {
   "cell_type": "code",
   "execution_count": 74,
   "metadata": {},
   "outputs": [
    {
     "data": {
      "text/plain": [
       "loan_status\n",
       "Fully Paid                                             25498\n",
       "Current                                                17746\n",
       "Charged Off                                             6172\n",
       "Late (31-120 days)                                       293\n",
       "In Grace Period                                          155\n",
       "Late (16-30 days)                                         46\n",
       "Issued                                                    37\n",
       "Does not meet the credit policy. Status:Fully Paid        30\n",
       "Does not meet the credit policy. Status:Charged Off       15\n",
       "Default                                                    8\n",
       "Name: count, dtype: int64"
      ]
     },
     "execution_count": 74,
     "metadata": {},
     "output_type": "execute_result"
    }
   ],
   "source": [
    "df_sampled['loan_status'].value_counts() "
   ]
  },
  {
   "cell_type": "code",
   "execution_count": 76,
   "metadata": {},
   "outputs": [
    {
     "data": {
      "text/plain": [
       "hardship_loan_status       47.545\n",
       "hardship_reason            47.543\n",
       "hardship_type              47.542\n",
       "payment_plan_start_date    47.542\n",
       "hardship_status            47.542\n",
       "deferral_term              47.542\n",
       "hardship_start_date        47.542\n",
       "hardship_end_date          47.542\n",
       "hardship_length            47.542\n",
       "hardship_dpd               47.542\n",
       "dtype: float64"
      ]
     },
     "execution_count": 76,
     "metadata": {},
     "output_type": "execute_result"
    }
   ],
   "source": [
    "# display the first 10 columns by percentage of missing data\n",
    "missing_percentages = df_sampled.isnull().sum() * 100 / len(df)\n",
    "missing_percentages.sort_values(ascending=False).head(10)"
   ]
  },
  {
   "cell_type": "code",
   "execution_count": 79,
   "metadata": {},
   "outputs": [
    {
     "data": {
      "text/html": [
       "<div>\n",
       "<style scoped>\n",
       "    .dataframe tbody tr th:only-of-type {\n",
       "        vertical-align: middle;\n",
       "    }\n",
       "\n",
       "    .dataframe tbody tr th {\n",
       "        vertical-align: top;\n",
       "    }\n",
       "\n",
       "    .dataframe thead th {\n",
       "        text-align: right;\n",
       "    }\n",
       "</style>\n",
       "<table border=\"1\" class=\"dataframe\">\n",
       "  <thead>\n",
       "    <tr style=\"text-align: right;\">\n",
       "      <th></th>\n",
       "      <th>Unnamed: 0</th>\n",
       "      <th>id</th>\n",
       "      <th>loan_amnt</th>\n",
       "      <th>funded_amnt</th>\n",
       "      <th>funded_amnt_inv</th>\n",
       "      <th>term</th>\n",
       "      <th>int_rate</th>\n",
       "      <th>installment</th>\n",
       "      <th>grade</th>\n",
       "      <th>sub_grade</th>\n",
       "      <th>...</th>\n",
       "      <th>hardship_start_date</th>\n",
       "      <th>hardship_end_date</th>\n",
       "      <th>payment_plan_start_date</th>\n",
       "      <th>hardship_length</th>\n",
       "      <th>hardship_dpd</th>\n",
       "      <th>hardship_loan_status</th>\n",
       "      <th>orig_projected_additional_accrued_interest</th>\n",
       "      <th>hardship_payoff_balance_amount</th>\n",
       "      <th>hardship_last_payment_amount</th>\n",
       "      <th>debt_settlement_flag</th>\n",
       "    </tr>\n",
       "  </thead>\n",
       "  <tbody>\n",
       "    <tr>\n",
       "      <th>0</th>\n",
       "      <td>101</td>\n",
       "      <td>1034693</td>\n",
       "      <td>16000</td>\n",
       "      <td>16000</td>\n",
       "      <td>16000.0</td>\n",
       "      <td>60 months</td>\n",
       "      <td>17.58%</td>\n",
       "      <td>402.65</td>\n",
       "      <td>D</td>\n",
       "      <td>D4</td>\n",
       "      <td>...</td>\n",
       "      <td>NaN</td>\n",
       "      <td>NaN</td>\n",
       "      <td>NaN</td>\n",
       "      <td>NaN</td>\n",
       "      <td>NaN</td>\n",
       "      <td>NaN</td>\n",
       "      <td>NaN</td>\n",
       "      <td>NaN</td>\n",
       "      <td>NaN</td>\n",
       "      <td>N</td>\n",
       "    </tr>\n",
       "    <tr>\n",
       "      <th>1</th>\n",
       "      <td>195</td>\n",
       "      <td>1067038</td>\n",
       "      <td>12000</td>\n",
       "      <td>12000</td>\n",
       "      <td>12000.0</td>\n",
       "      <td>36 months</td>\n",
       "      <td>14.27%</td>\n",
       "      <td>411.71</td>\n",
       "      <td>C</td>\n",
       "      <td>C2</td>\n",
       "      <td>...</td>\n",
       "      <td>NaN</td>\n",
       "      <td>NaN</td>\n",
       "      <td>NaN</td>\n",
       "      <td>NaN</td>\n",
       "      <td>NaN</td>\n",
       "      <td>NaN</td>\n",
       "      <td>NaN</td>\n",
       "      <td>NaN</td>\n",
       "      <td>NaN</td>\n",
       "      <td>N</td>\n",
       "    </tr>\n",
       "    <tr>\n",
       "      <th>2</th>\n",
       "      <td>234</td>\n",
       "      <td>1065929</td>\n",
       "      <td>3500</td>\n",
       "      <td>3500</td>\n",
       "      <td>3500.0</td>\n",
       "      <td>36 months</td>\n",
       "      <td>7.90%</td>\n",
       "      <td>109.52</td>\n",
       "      <td>A</td>\n",
       "      <td>A4</td>\n",
       "      <td>...</td>\n",
       "      <td>NaN</td>\n",
       "      <td>NaN</td>\n",
       "      <td>NaN</td>\n",
       "      <td>NaN</td>\n",
       "      <td>NaN</td>\n",
       "      <td>NaN</td>\n",
       "      <td>NaN</td>\n",
       "      <td>NaN</td>\n",
       "      <td>NaN</td>\n",
       "      <td>N</td>\n",
       "    </tr>\n",
       "    <tr>\n",
       "      <th>3</th>\n",
       "      <td>263</td>\n",
       "      <td>1066364</td>\n",
       "      <td>10000</td>\n",
       "      <td>10000</td>\n",
       "      <td>10000.0</td>\n",
       "      <td>36 months</td>\n",
       "      <td>13.49%</td>\n",
       "      <td>339.31</td>\n",
       "      <td>C</td>\n",
       "      <td>C1</td>\n",
       "      <td>...</td>\n",
       "      <td>NaN</td>\n",
       "      <td>NaN</td>\n",
       "      <td>NaN</td>\n",
       "      <td>NaN</td>\n",
       "      <td>NaN</td>\n",
       "      <td>NaN</td>\n",
       "      <td>NaN</td>\n",
       "      <td>NaN</td>\n",
       "      <td>NaN</td>\n",
       "      <td>N</td>\n",
       "    </tr>\n",
       "    <tr>\n",
       "      <th>4</th>\n",
       "      <td>294</td>\n",
       "      <td>1063126</td>\n",
       "      <td>6000</td>\n",
       "      <td>6000</td>\n",
       "      <td>6000.0</td>\n",
       "      <td>36 months</td>\n",
       "      <td>10.65%</td>\n",
       "      <td>195.44</td>\n",
       "      <td>B</td>\n",
       "      <td>B2</td>\n",
       "      <td>...</td>\n",
       "      <td>NaN</td>\n",
       "      <td>NaN</td>\n",
       "      <td>NaN</td>\n",
       "      <td>NaN</td>\n",
       "      <td>NaN</td>\n",
       "      <td>NaN</td>\n",
       "      <td>NaN</td>\n",
       "      <td>NaN</td>\n",
       "      <td>NaN</td>\n",
       "      <td>N</td>\n",
       "    </tr>\n",
       "  </tbody>\n",
       "</table>\n",
       "<p>5 rows × 142 columns</p>\n",
       "</div>"
      ],
      "text/plain": [
       "   Unnamed: 0       id  loan_amnt  funded_amnt  funded_amnt_inv        term  \\\n",
       "0         101  1034693      16000        16000          16000.0   60 months   \n",
       "1         195  1067038      12000        12000          12000.0   36 months   \n",
       "2         234  1065929       3500         3500           3500.0   36 months   \n",
       "3         263  1066364      10000        10000          10000.0   36 months   \n",
       "4         294  1063126       6000         6000           6000.0   36 months   \n",
       "\n",
       "  int_rate  installment grade sub_grade  ... hardship_start_date  \\\n",
       "0   17.58%       402.65     D        D4  ...                 NaN   \n",
       "1   14.27%       411.71     C        C2  ...                 NaN   \n",
       "2    7.90%       109.52     A        A4  ...                 NaN   \n",
       "3   13.49%       339.31     C        C1  ...                 NaN   \n",
       "4   10.65%       195.44     B        B2  ...                 NaN   \n",
       "\n",
       "  hardship_end_date payment_plan_start_date  hardship_length hardship_dpd  \\\n",
       "0               NaN                     NaN              NaN          NaN   \n",
       "1               NaN                     NaN              NaN          NaN   \n",
       "2               NaN                     NaN              NaN          NaN   \n",
       "3               NaN                     NaN              NaN          NaN   \n",
       "4               NaN                     NaN              NaN          NaN   \n",
       "\n",
       "  hardship_loan_status orig_projected_additional_accrued_interest  \\\n",
       "0                  NaN                                        NaN   \n",
       "1                  NaN                                        NaN   \n",
       "2                  NaN                                        NaN   \n",
       "3                  NaN                                        NaN   \n",
       "4                  NaN                                        NaN   \n",
       "\n",
       "  hardship_payoff_balance_amount hardship_last_payment_amount  \\\n",
       "0                            NaN                          NaN   \n",
       "1                            NaN                          NaN   \n",
       "2                            NaN                          NaN   \n",
       "3                            NaN                          NaN   \n",
       "4                            NaN                          NaN   \n",
       "\n",
       "  debt_settlement_flag  \n",
       "0                    N  \n",
       "1                    N  \n",
       "2                    N  \n",
       "3                    N  \n",
       "4                    N  \n",
       "\n",
       "[5 rows x 142 columns]"
      ]
     },
     "execution_count": 79,
     "metadata": {},
     "output_type": "execute_result"
    }
   ],
   "source": [
    "df_sampled.head()"
   ]
  },
  {
   "cell_type": "markdown",
   "metadata": {},
   "source": [
    "Columns that contain more than 50% missing data are not utilised in this study."
   ]
  },
  {
   "cell_type": "code",
   "execution_count": 108,
   "metadata": {},
   "outputs": [
    {
     "data": {
      "text/plain": [
       "(50000, 142)"
      ]
     },
     "execution_count": 108,
     "metadata": {},
     "output_type": "execute_result"
    }
   ],
   "source": [
    "# drop the columns with more than 50% missing values\n",
    "columns_to_drop = missing_percentages[missing_percentages > 50].index\n",
    "df = df_sampled.drop(columns=columns_to_drop)\n",
    "df.shape"
   ]
  },
  {
   "cell_type": "markdown",
   "metadata": {},
   "source": [
    "Categorical columns are selected in this phase."
   ]
  },
  {
   "cell_type": "code",
   "execution_count": 109,
   "metadata": {},
   "outputs": [
    {
     "data": {
      "text/html": [
       "<div>\n",
       "<style scoped>\n",
       "    .dataframe tbody tr th:only-of-type {\n",
       "        vertical-align: middle;\n",
       "    }\n",
       "\n",
       "    .dataframe tbody tr th {\n",
       "        vertical-align: top;\n",
       "    }\n",
       "\n",
       "    .dataframe thead th {\n",
       "        text-align: right;\n",
       "    }\n",
       "</style>\n",
       "<table border=\"1\" class=\"dataframe\">\n",
       "  <thead>\n",
       "    <tr style=\"text-align: right;\">\n",
       "      <th></th>\n",
       "      <th>term</th>\n",
       "      <th>int_rate</th>\n",
       "      <th>grade</th>\n",
       "      <th>sub_grade</th>\n",
       "      <th>emp_title</th>\n",
       "      <th>emp_length</th>\n",
       "      <th>home_ownership</th>\n",
       "      <th>verification_status</th>\n",
       "      <th>issue_d</th>\n",
       "      <th>loan_status</th>\n",
       "      <th>...</th>\n",
       "      <th>sec_app_earliest_cr_line</th>\n",
       "      <th>hardship_flag</th>\n",
       "      <th>hardship_type</th>\n",
       "      <th>hardship_reason</th>\n",
       "      <th>hardship_status</th>\n",
       "      <th>hardship_start_date</th>\n",
       "      <th>hardship_end_date</th>\n",
       "      <th>payment_plan_start_date</th>\n",
       "      <th>hardship_loan_status</th>\n",
       "      <th>debt_settlement_flag</th>\n",
       "    </tr>\n",
       "  </thead>\n",
       "  <tbody>\n",
       "    <tr>\n",
       "      <th>0</th>\n",
       "      <td>60 months</td>\n",
       "      <td>17.58%</td>\n",
       "      <td>D</td>\n",
       "      <td>D4</td>\n",
       "      <td>Menards</td>\n",
       "      <td>7 years</td>\n",
       "      <td>RENT</td>\n",
       "      <td>Not Verified</td>\n",
       "      <td>Dec-2011</td>\n",
       "      <td>Fully Paid</td>\n",
       "      <td>...</td>\n",
       "      <td>NaN</td>\n",
       "      <td>N</td>\n",
       "      <td>NaN</td>\n",
       "      <td>NaN</td>\n",
       "      <td>NaN</td>\n",
       "      <td>NaN</td>\n",
       "      <td>NaN</td>\n",
       "      <td>NaN</td>\n",
       "      <td>NaN</td>\n",
       "      <td>N</td>\n",
       "    </tr>\n",
       "    <tr>\n",
       "      <th>1</th>\n",
       "      <td>36 months</td>\n",
       "      <td>14.27%</td>\n",
       "      <td>C</td>\n",
       "      <td>C2</td>\n",
       "      <td>Corning Inc.</td>\n",
       "      <td>8 years</td>\n",
       "      <td>MORTGAGE</td>\n",
       "      <td>Not Verified</td>\n",
       "      <td>Dec-2011</td>\n",
       "      <td>Charged Off</td>\n",
       "      <td>...</td>\n",
       "      <td>NaN</td>\n",
       "      <td>N</td>\n",
       "      <td>NaN</td>\n",
       "      <td>NaN</td>\n",
       "      <td>NaN</td>\n",
       "      <td>NaN</td>\n",
       "      <td>NaN</td>\n",
       "      <td>NaN</td>\n",
       "      <td>NaN</td>\n",
       "      <td>N</td>\n",
       "    </tr>\n",
       "    <tr>\n",
       "      <th>2</th>\n",
       "      <td>36 months</td>\n",
       "      <td>7.90%</td>\n",
       "      <td>A</td>\n",
       "      <td>A4</td>\n",
       "      <td>impax laboratory</td>\n",
       "      <td>7 years</td>\n",
       "      <td>MORTGAGE</td>\n",
       "      <td>Not Verified</td>\n",
       "      <td>Dec-2011</td>\n",
       "      <td>Fully Paid</td>\n",
       "      <td>...</td>\n",
       "      <td>NaN</td>\n",
       "      <td>N</td>\n",
       "      <td>NaN</td>\n",
       "      <td>NaN</td>\n",
       "      <td>NaN</td>\n",
       "      <td>NaN</td>\n",
       "      <td>NaN</td>\n",
       "      <td>NaN</td>\n",
       "      <td>NaN</td>\n",
       "      <td>N</td>\n",
       "    </tr>\n",
       "    <tr>\n",
       "      <th>3</th>\n",
       "      <td>36 months</td>\n",
       "      <td>13.49%</td>\n",
       "      <td>C</td>\n",
       "      <td>C1</td>\n",
       "      <td>St. Joseph Hospital</td>\n",
       "      <td>10+ years</td>\n",
       "      <td>MORTGAGE</td>\n",
       "      <td>Not Verified</td>\n",
       "      <td>Dec-2011</td>\n",
       "      <td>Fully Paid</td>\n",
       "      <td>...</td>\n",
       "      <td>NaN</td>\n",
       "      <td>N</td>\n",
       "      <td>NaN</td>\n",
       "      <td>NaN</td>\n",
       "      <td>NaN</td>\n",
       "      <td>NaN</td>\n",
       "      <td>NaN</td>\n",
       "      <td>NaN</td>\n",
       "      <td>NaN</td>\n",
       "      <td>N</td>\n",
       "    </tr>\n",
       "    <tr>\n",
       "      <th>4</th>\n",
       "      <td>36 months</td>\n",
       "      <td>10.65%</td>\n",
       "      <td>B</td>\n",
       "      <td>B2</td>\n",
       "      <td>Neil Nakai Inc.</td>\n",
       "      <td>10+ years</td>\n",
       "      <td>RENT</td>\n",
       "      <td>Not Verified</td>\n",
       "      <td>Dec-2011</td>\n",
       "      <td>Fully Paid</td>\n",
       "      <td>...</td>\n",
       "      <td>NaN</td>\n",
       "      <td>N</td>\n",
       "      <td>NaN</td>\n",
       "      <td>NaN</td>\n",
       "      <td>NaN</td>\n",
       "      <td>NaN</td>\n",
       "      <td>NaN</td>\n",
       "      <td>NaN</td>\n",
       "      <td>NaN</td>\n",
       "      <td>N</td>\n",
       "    </tr>\n",
       "  </tbody>\n",
       "</table>\n",
       "<p>5 rows × 34 columns</p>\n",
       "</div>"
      ],
      "text/plain": [
       "         term int_rate grade sub_grade            emp_title emp_length  \\\n",
       "0   60 months   17.58%     D        D4              Menards    7 years   \n",
       "1   36 months   14.27%     C        C2         Corning Inc.    8 years   \n",
       "2   36 months    7.90%     A        A4     impax laboratory    7 years   \n",
       "3   36 months   13.49%     C        C1  St. Joseph Hospital  10+ years   \n",
       "4   36 months   10.65%     B        B2      Neil Nakai Inc.  10+ years   \n",
       "\n",
       "  home_ownership verification_status   issue_d  loan_status  ...  \\\n",
       "0           RENT        Not Verified  Dec-2011   Fully Paid  ...   \n",
       "1       MORTGAGE        Not Verified  Dec-2011  Charged Off  ...   \n",
       "2       MORTGAGE        Not Verified  Dec-2011   Fully Paid  ...   \n",
       "3       MORTGAGE        Not Verified  Dec-2011   Fully Paid  ...   \n",
       "4           RENT        Not Verified  Dec-2011   Fully Paid  ...   \n",
       "\n",
       "  sec_app_earliest_cr_line hardship_flag hardship_type hardship_reason  \\\n",
       "0                      NaN             N           NaN             NaN   \n",
       "1                      NaN             N           NaN             NaN   \n",
       "2                      NaN             N           NaN             NaN   \n",
       "3                      NaN             N           NaN             NaN   \n",
       "4                      NaN             N           NaN             NaN   \n",
       "\n",
       "  hardship_status hardship_start_date hardship_end_date  \\\n",
       "0             NaN                 NaN               NaN   \n",
       "1             NaN                 NaN               NaN   \n",
       "2             NaN                 NaN               NaN   \n",
       "3             NaN                 NaN               NaN   \n",
       "4             NaN                 NaN               NaN   \n",
       "\n",
       "  payment_plan_start_date hardship_loan_status debt_settlement_flag  \n",
       "0                     NaN                  NaN                    N  \n",
       "1                     NaN                  NaN                    N  \n",
       "2                     NaN                  NaN                    N  \n",
       "3                     NaN                  NaN                    N  \n",
       "4                     NaN                  NaN                    N  \n",
       "\n",
       "[5 rows x 34 columns]"
      ]
     },
     "execution_count": 109,
     "metadata": {},
     "output_type": "execute_result"
    }
   ],
   "source": [
    "# treat categorical columns\n",
    "categorical_columns = df.select_dtypes(include=['object']).columns\n",
    "df[categorical_columns].head()"
   ]
  },
  {
   "cell_type": "code",
   "execution_count": 110,
   "metadata": {},
   "outputs": [
    {
     "data": {
      "text/plain": [
       "pymnt_plan                       1\n",
       "term                             2\n",
       "hardship_flag                    2\n",
       "application_type                 2\n",
       "initial_list_status              2\n",
       "debt_settlement_flag             2\n",
       "verification_status_joint        3\n",
       "verification_status              3\n",
       "hardship_type                    4\n",
       "hardship_status                  4\n",
       "home_ownership                   6\n",
       "grade                            7\n",
       "hardship_loan_status             9\n",
       "loan_status                     10\n",
       "emp_length                      11\n",
       "purpose                         14\n",
       "hardship_reason                 17\n",
       "sub_grade                       35\n",
       "hardship_start_date             40\n",
       "payment_plan_start_date         40\n",
       "hardship_end_date               41\n",
       "next_pymnt_d                    46\n",
       "addr_state                      50\n",
       "last_credit_pull_d             125\n",
       "last_pymnt_d                   142\n",
       "issue_d                        157\n",
       "sec_app_earliest_cr_line       457\n",
       "int_rate                       534\n",
       "earliest_cr_line               627\n",
       "zip_code                       868\n",
       "revol_util                    1060\n",
       "title                         1896\n",
       "emp_title                    22495\n",
       "url                          50000\n",
       "dtype: int64"
      ]
     },
     "execution_count": 110,
     "metadata": {},
     "output_type": "execute_result"
    }
   ],
   "source": [
    "# check variance of categorical columns\n",
    "df[categorical_columns].nunique().sort_values()"
   ]
  },
  {
   "cell_type": "markdown",
   "metadata": {},
   "source": [
    "The idea is to reduce model complexity by retaining the categorical variables that do not suffer from high cardinality (many categories).\n",
    "\n",
    "Purpose and title covney similar information. Purpose however contains less categoris and it is thus preferred. Therefore, we keep only purpose. \n",
    "\n",
    "Grade and subgrade are hierarchically related. Grade contains less categories and is therefore perferable as it bears less complexity than Subgrade. Therefore, we will keep only the grade column.\n",
    "\n",
    "Issue date will be kept as time reference and will later be translated into a date format. \n",
    "\n",
    "The categorical variables we keep comprise the grade, type of home ownership, the interest rate, loan status, title (type of loan), and term"
   ]
  },
  {
   "cell_type": "code",
   "execution_count": 111,
   "metadata": {},
   "outputs": [
    {
     "data": {
      "text/plain": [
       "(50000, 115)"
      ]
     },
     "execution_count": 111,
     "metadata": {},
     "output_type": "execute_result"
    }
   ],
   "source": [
    "cat_columns_to_keep = ['issue_d', 'grade', 'home_ownership', 'loan_status', 'int_rate', 'term', 'purpose']\n",
    "cat_columns_to_drop = set(categorical_columns) - set(cat_columns_to_keep)\n",
    "df.drop(columns=cat_columns_to_drop, inplace=True)\n",
    "df.shape"
   ]
  },
  {
   "cell_type": "code",
   "execution_count": 112,
   "metadata": {},
   "outputs": [
    {
     "data": {
      "text/plain": [
       "policy_code             1\n",
       "num_tl_120dpd_2m        2\n",
       "num_tl_30dpd            3\n",
       "acc_now_delinq          3\n",
       "hardship_length         3\n",
       "                    ...  \n",
       "tot_cur_bal         44142\n",
       "total_rec_int       46339\n",
       "total_pymnt_inv     47552\n",
       "total_pymnt         48126\n",
       "id                  50000\n",
       "Length: 108, dtype: int64"
      ]
     },
     "execution_count": 112,
     "metadata": {},
     "output_type": "execute_result"
    }
   ],
   "source": [
    "# treat numeric columns\n",
    "numeric_columns = df.select_dtypes(include=['float64', 'int64']).columns\n",
    "\n",
    "# check variance of numeric columns\n",
    "df[numeric_columns].nunique().sort_values()"
   ]
  },
  {
   "cell_type": "markdown",
   "metadata": {},
   "source": [
    "Policy code is useless. We can drop it. Also id is useless and will be removed. \n",
    "\n",
    "Columns regarding settlement produce leakage of future information. Therefore they are not included. \n",
    "\n",
    "To drive down the number of predictors further, we base the set of numeric predictors on a previous study on Kaggle: https://www.kaggle.com/code/krishnaraj30/xgboost-loan-defaulters-prediction/notebook#%F0%9F%92%BE-Data-Description\n",
    "\n",
    "Therefore, the numeric features used include:\n",
    "- loan amount\n",
    "- installment\n",
    "- annual income\n",
    "- debt to income ratio\n",
    "- number of credit lines the borrower uses\n",
    "- number of public record bankruptcies"
   ]
  },
  {
   "cell_type": "code",
   "execution_count": 113,
   "metadata": {},
   "outputs": [
    {
     "data": {
      "text/plain": [
       "(50000, 13)"
      ]
     },
     "execution_count": 113,
     "metadata": {},
     "output_type": "execute_result"
    }
   ],
   "source": [
    "numeric_columns_to_keep = ['loan_amnt', 'installment', 'annual_inc', 'dti', 'total_acc', 'pub_rec_bankruptcies']\n",
    "numeric_columns_to_drop = set(numeric_columns) - set(numeric_columns_to_keep)\n",
    "df.drop(columns=numeric_columns_to_drop, inplace=True)\n",
    "df.shape"
   ]
  },
  {
   "cell_type": "code",
   "execution_count": 115,
   "metadata": {},
   "outputs": [
    {
     "data": {
      "text/plain": [
       "pub_rec_bankruptcies\n",
       "0.0    44299\n",
       "1.0     5446\n",
       "2.0      188\n",
       "3.0       29\n",
       "4.0       11\n",
       "5.0        1\n",
       "Name: count, dtype: int64"
      ]
     },
     "execution_count": 115,
     "metadata": {},
     "output_type": "execute_result"
    }
   ],
   "source": [
    "df['pub_rec_bankruptcies'].value_counts()"
   ]
  },
  {
   "cell_type": "code",
   "execution_count": 116,
   "metadata": {},
   "outputs": [],
   "source": [
    "df.to_csv('../Data/Loan_status_Cleaned.csv', index=False)"
   ]
  }
 ],
 "metadata": {
  "kernelspec": {
   "display_name": "python39",
   "language": "python",
   "name": "python3"
  },
  "language_info": {
   "codemirror_mode": {
    "name": "ipython",
    "version": 3
   },
   "file_extension": ".py",
   "mimetype": "text/x-python",
   "name": "python",
   "nbconvert_exporter": "python",
   "pygments_lexer": "ipython3",
   "version": "3.9.18"
  }
 },
 "nbformat": 4,
 "nbformat_minor": 2
}
