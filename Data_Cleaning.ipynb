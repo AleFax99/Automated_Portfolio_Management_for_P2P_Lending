{
 "cells": [
  {
   "cell_type": "markdown",
   "metadata": {},
   "source": [
    "# PD prediction with Machine Learning Over Time"
   ]
  },
  {
   "cell_type": "code",
   "execution_count": 1,
   "metadata": {},
   "outputs": [],
   "source": [
    "# import the necessary packages\n",
    "import numpy as np\n",
    "import os\n",
    "import sys\n",
    "import time\n",
    "import pandas as pd\n",
    "import matplotlib.pyplot as plt\n",
    "import seaborn as sns\n",
    "from sklearn.model_selection import train_test_split\n",
    "from sklearn.metrics import classification_report\n",
    "from sklearn.metrics import confusion_matrix\n",
    "from sklearn.metrics import f1_score\n",
    "from sklearn.metrics import accuracy_score\n",
    "\n",
    "from sklearn.ensemble import RandomForestClassifier\n",
    "\n",
    "from sklearn import preprocessing as pp\n",
    "from sklearn.pipeline import Pipeline\n",
    "from sklearn.model_selection import TimeSeriesSplit\n",
    "\n",
    "from sklearn.model_selection import GridSearchCV"
   ]
  },
  {
   "cell_type": "markdown",
   "metadata": {},
   "source": [
    "Here we load the data. The data is retrieved from:\n",
    "https://www.kaggle.com/datasets/sid321axn/bondora-peer-to-peer-lending-loan-data"
   ]
  },
  {
   "cell_type": "code",
   "execution_count": 2,
   "metadata": {},
   "outputs": [
    {
     "name": "stderr",
     "output_type": "stream",
     "text": [
      "C:\\Users\\Utente\\AppData\\Local\\Temp\\ipykernel_17800\\3228451402.py:2: DtypeWarning: Columns (34,38,80,82,83,89,90) have mixed types. Specify dtype option on import or set low_memory=False.\n",
      "  df = pd.read_csv('../Data/LoanData_Bondora.csv')\n"
     ]
    },
    {
     "name": "stdout",
     "output_type": "stream",
     "text": [
      "<class 'pandas.core.frame.DataFrame'>\n",
      "RangeIndex: 179235 entries, 0 to 179234\n",
      "Columns: 112 entries, ReportAsOfEOD to ActiveLateLastPaymentCategory\n",
      "dtypes: bool(3), float64(62), int64(12), object(35)\n",
      "memory usage: 149.6+ MB\n"
     ]
    }
   ],
   "source": [
    "# load the data\n",
    "df = pd.read_csv('../Data/LoanData_Bondora.csv')\n",
    "df.info()"
   ]
  },
  {
   "cell_type": "code",
   "execution_count": 3,
   "metadata": {},
   "outputs": [
    {
     "data": {
      "text/plain": [
       "City                        100.000000\n",
       "County                      100.000000\n",
       "DateOfBirth                 100.000000\n",
       "EmploymentPosition          100.000000\n",
       "Rating_V0                    97.450833\n",
       "EL_V0                        97.450833\n",
       "CreditScoreEsEquifaxRisk     93.182693\n",
       "EL_V1                        92.789355\n",
       "Rating_V1                    92.789355\n",
       "Rating_V2                    85.972048\n",
       "dtype: float64"
      ]
     },
     "execution_count": 3,
     "metadata": {},
     "output_type": "execute_result"
    }
   ],
   "source": [
    "# display the first 10 columns by percentage of missing data\n",
    "missing_percentages = df.isnull().sum() * 100 / len(df)\n",
    "missing_percentages.sort_values(ascending=False).head(10)"
   ]
  },
  {
   "cell_type": "markdown",
   "metadata": {},
   "source": [
    "Based on previous studies, only the most important features are retained."
   ]
  },
  {
   "cell_type": "code",
   "execution_count": 4,
   "metadata": {},
   "outputs": [
    {
     "data": {
      "text/plain": [
       "(179235, 76)"
      ]
     },
     "execution_count": 4,
     "metadata": {},
     "output_type": "execute_result"
    }
   ],
   "source": [
    "# drop the columns with more than 50% missing values\n",
    "columns_to_drop = missing_percentages[missing_percentages > 50].index\n",
    "df = df.drop(columns=columns_to_drop)\n",
    "df.shape"
   ]
  },
  {
   "cell_type": "code",
   "execution_count": 5,
   "metadata": {},
   "outputs": [
    {
     "data": {
      "text/html": [
       "<div>\n",
       "<style scoped>\n",
       "    .dataframe tbody tr th:only-of-type {\n",
       "        vertical-align: middle;\n",
       "    }\n",
       "\n",
       "    .dataframe tbody tr th {\n",
       "        vertical-align: top;\n",
       "    }\n",
       "\n",
       "    .dataframe thead th {\n",
       "        text-align: right;\n",
       "    }\n",
       "</style>\n",
       "<table border=\"1\" class=\"dataframe\">\n",
       "  <thead>\n",
       "    <tr style=\"text-align: right;\">\n",
       "      <th></th>\n",
       "      <th>ReportAsOfEOD</th>\n",
       "      <th>LoanId</th>\n",
       "      <th>ListedOnUTC</th>\n",
       "      <th>BiddingStartedOn</th>\n",
       "      <th>UserName</th>\n",
       "      <th>LoanApplicationStartedDate</th>\n",
       "      <th>LoanDate</th>\n",
       "      <th>ContractEndDate</th>\n",
       "      <th>FirstPaymentDate</th>\n",
       "      <th>MaturityDate_Original</th>\n",
       "      <th>MaturityDate_Last</th>\n",
       "      <th>Country</th>\n",
       "      <th>EmploymentDurationCurrentEmployer</th>\n",
       "      <th>LastPaymentOn</th>\n",
       "      <th>StageActiveSince</th>\n",
       "      <th>Rating</th>\n",
       "      <th>Status</th>\n",
       "      <th>WorseLateCategory</th>\n",
       "      <th>CreditScoreEsMicroL</th>\n",
       "    </tr>\n",
       "  </thead>\n",
       "  <tbody>\n",
       "    <tr>\n",
       "      <th>0</th>\n",
       "      <td>2021-07-20</td>\n",
       "      <td>66AE108B-532B-4BB3-BAB7-0019A46412C1</td>\n",
       "      <td>2016-03-23 16:07:19</td>\n",
       "      <td>2016-03-23 16:07:19</td>\n",
       "      <td>BO965519</td>\n",
       "      <td>2016-03-17 12:39:22</td>\n",
       "      <td>2016-03-23</td>\n",
       "      <td>2020-06-26</td>\n",
       "      <td>2016-05-12</td>\n",
       "      <td>2021-04-12</td>\n",
       "      <td>2020-06-26</td>\n",
       "      <td>EE</td>\n",
       "      <td>MoreThan5Years</td>\n",
       "      <td>2021-06-16</td>\n",
       "      <td>2020-03-03 09:27:48.493000000</td>\n",
       "      <td>C</td>\n",
       "      <td>Late</td>\n",
       "      <td>180+</td>\n",
       "      <td>NaN</td>\n",
       "    </tr>\n",
       "    <tr>\n",
       "      <th>1</th>\n",
       "      <td>2021-07-20</td>\n",
       "      <td>D152382E-A50D-46ED-8FF2-0053E0C86A70</td>\n",
       "      <td>2015-06-25 11:02:28</td>\n",
       "      <td>2015-06-25 11:02:28</td>\n",
       "      <td>BOA9K172A</td>\n",
       "      <td>2015-06-24 12:36:16</td>\n",
       "      <td>2015-06-25</td>\n",
       "      <td>NaN</td>\n",
       "      <td>2015-08-17</td>\n",
       "      <td>2020-07-17</td>\n",
       "      <td>2020-07-17</td>\n",
       "      <td>EE</td>\n",
       "      <td>MoreThan5Years</td>\n",
       "      <td>2019-06-19</td>\n",
       "      <td>2019-08-01 14:18:33</td>\n",
       "      <td>B</td>\n",
       "      <td>Late</td>\n",
       "      <td>180+</td>\n",
       "      <td>NaN</td>\n",
       "    </tr>\n",
       "    <tr>\n",
       "      <th>2</th>\n",
       "      <td>2021-07-20</td>\n",
       "      <td>87342E13-66CB-483F-833A-007953E50C78</td>\n",
       "      <td>2016-01-14 10:00:21</td>\n",
       "      <td>2016-01-14 10:00:21</td>\n",
       "      <td>BO7971663</td>\n",
       "      <td>2016-01-07 15:37:16</td>\n",
       "      <td>2016-01-19</td>\n",
       "      <td>2019-10-24</td>\n",
       "      <td>2016-02-22</td>\n",
       "      <td>2021-01-20</td>\n",
       "      <td>2021-01-20</td>\n",
       "      <td>EE</td>\n",
       "      <td>UpTo3Years</td>\n",
       "      <td>2019-10-23</td>\n",
       "      <td>2018-02-28 14:43:37.670000000</td>\n",
       "      <td>A</td>\n",
       "      <td>Repaid</td>\n",
       "      <td>180+</td>\n",
       "      <td>NaN</td>\n",
       "    </tr>\n",
       "    <tr>\n",
       "      <th>3</th>\n",
       "      <td>2021-07-20</td>\n",
       "      <td>87227056-6BF9-410C-98D1-008F788E122A</td>\n",
       "      <td>2015-03-24 15:55:44</td>\n",
       "      <td>2015-03-24 15:55:44</td>\n",
       "      <td>BO76151K3</td>\n",
       "      <td>2015-03-20 15:20:48</td>\n",
       "      <td>2015-03-27</td>\n",
       "      <td>NaN</td>\n",
       "      <td>2015-05-04</td>\n",
       "      <td>2020-04-01</td>\n",
       "      <td>2020-04-01</td>\n",
       "      <td>ES</td>\n",
       "      <td>UpTo5Years</td>\n",
       "      <td>2020-08-07</td>\n",
       "      <td>2020-11-27 00:00:00</td>\n",
       "      <td>F</td>\n",
       "      <td>Late</td>\n",
       "      <td>180+</td>\n",
       "      <td>M3</td>\n",
       "    </tr>\n",
       "    <tr>\n",
       "      <th>4</th>\n",
       "      <td>2021-07-20</td>\n",
       "      <td>2DDE6336-E466-4624-A337-00A0ED1A1468</td>\n",
       "      <td>2015-12-17 10:12:00</td>\n",
       "      <td>2015-12-17 10:12:00</td>\n",
       "      <td>BOK423A63</td>\n",
       "      <td>2015-12-13 00:30:08</td>\n",
       "      <td>2015-12-22</td>\n",
       "      <td>NaN</td>\n",
       "      <td>2016-02-01</td>\n",
       "      <td>2020-01-02</td>\n",
       "      <td>2020-01-02</td>\n",
       "      <td>ES</td>\n",
       "      <td>UpTo1Year</td>\n",
       "      <td>2016-02-01</td>\n",
       "      <td>2020-11-27 00:00:00</td>\n",
       "      <td>HR</td>\n",
       "      <td>Late</td>\n",
       "      <td>180+</td>\n",
       "      <td>M5</td>\n",
       "    </tr>\n",
       "  </tbody>\n",
       "</table>\n",
       "</div>"
      ],
      "text/plain": [
       "  ReportAsOfEOD                                LoanId          ListedOnUTC  \\\n",
       "0    2021-07-20  66AE108B-532B-4BB3-BAB7-0019A46412C1  2016-03-23 16:07:19   \n",
       "1    2021-07-20  D152382E-A50D-46ED-8FF2-0053E0C86A70  2015-06-25 11:02:28   \n",
       "2    2021-07-20  87342E13-66CB-483F-833A-007953E50C78  2016-01-14 10:00:21   \n",
       "3    2021-07-20  87227056-6BF9-410C-98D1-008F788E122A  2015-03-24 15:55:44   \n",
       "4    2021-07-20  2DDE6336-E466-4624-A337-00A0ED1A1468  2015-12-17 10:12:00   \n",
       "\n",
       "      BiddingStartedOn   UserName LoanApplicationStartedDate    LoanDate  \\\n",
       "0  2016-03-23 16:07:19   BO965519        2016-03-17 12:39:22  2016-03-23   \n",
       "1  2015-06-25 11:02:28  BOA9K172A        2015-06-24 12:36:16  2015-06-25   \n",
       "2  2016-01-14 10:00:21  BO7971663        2016-01-07 15:37:16  2016-01-19   \n",
       "3  2015-03-24 15:55:44  BO76151K3        2015-03-20 15:20:48  2015-03-27   \n",
       "4  2015-12-17 10:12:00  BOK423A63        2015-12-13 00:30:08  2015-12-22   \n",
       "\n",
       "  ContractEndDate FirstPaymentDate MaturityDate_Original MaturityDate_Last  \\\n",
       "0      2020-06-26       2016-05-12            2021-04-12        2020-06-26   \n",
       "1             NaN       2015-08-17            2020-07-17        2020-07-17   \n",
       "2      2019-10-24       2016-02-22            2021-01-20        2021-01-20   \n",
       "3             NaN       2015-05-04            2020-04-01        2020-04-01   \n",
       "4             NaN       2016-02-01            2020-01-02        2020-01-02   \n",
       "\n",
       "  Country EmploymentDurationCurrentEmployer LastPaymentOn  \\\n",
       "0      EE                    MoreThan5Years    2021-06-16   \n",
       "1      EE                    MoreThan5Years    2019-06-19   \n",
       "2      EE                        UpTo3Years    2019-10-23   \n",
       "3      ES                        UpTo5Years    2020-08-07   \n",
       "4      ES                         UpTo1Year    2016-02-01   \n",
       "\n",
       "                StageActiveSince Rating  Status WorseLateCategory  \\\n",
       "0  2020-03-03 09:27:48.493000000      C    Late              180+   \n",
       "1            2019-08-01 14:18:33      B    Late              180+   \n",
       "2  2018-02-28 14:43:37.670000000      A  Repaid              180+   \n",
       "3            2020-11-27 00:00:00      F    Late              180+   \n",
       "4            2020-11-27 00:00:00     HR    Late              180+   \n",
       "\n",
       "  CreditScoreEsMicroL  \n",
       "0                 NaN  \n",
       "1                 NaN  \n",
       "2                 NaN  \n",
       "3                  M3  \n",
       "4                  M5  "
      ]
     },
     "execution_count": 5,
     "metadata": {},
     "output_type": "execute_result"
    }
   ],
   "source": [
    "# treat categorical columns\n",
    "categorical_columns = df.select_dtypes(include=['object']).columns\n",
    "df[categorical_columns].head()"
   ]
  },
  {
   "cell_type": "code",
   "execution_count": 6,
   "metadata": {},
   "outputs": [
    {
     "data": {
      "text/plain": [
       "ReportAsOfEOD                             1\n",
       "Status                                    3\n",
       "Country                                   4\n",
       "Rating                                    8\n",
       "EmploymentDurationCurrentEmployer         9\n",
       "WorseLateCategory                         9\n",
       "CreditScoreEsMicroL                      11\n",
       "FirstPaymentDate                       2477\n",
       "LastPaymentOn                          3422\n",
       "MaturityDate_Original                  3442\n",
       "MaturityDate_Last                      3937\n",
       "LoanDate                               4041\n",
       "ContractEndDate                        4670\n",
       "StageActiveSince                      64708\n",
       "UserName                              85087\n",
       "ListedOnUTC                          178456\n",
       "BiddingStartedOn                     178462\n",
       "LoanApplicationStartedDate           178690\n",
       "LoanId                               179235\n",
       "dtype: int64"
      ]
     },
     "execution_count": 6,
     "metadata": {},
     "output_type": "execute_result"
    }
   ],
   "source": [
    "# check variance of categorical columns\n",
    "df[categorical_columns].nunique().sort_values()"
   ]
  },
  {
   "cell_type": "markdown",
   "metadata": {},
   "source": [
    "To mimic a real business scenario where only information at application is available, we retain only Country, EmploymentDurationCurrentEmployer, Rating, MaturityDate_Original, LoanDate"
   ]
  },
  {
   "cell_type": "code",
   "execution_count": 7,
   "metadata": {},
   "outputs": [
    {
     "data": {
      "text/plain": [
       "(179235, 61)"
      ]
     },
     "execution_count": 7,
     "metadata": {},
     "output_type": "execute_result"
    }
   ],
   "source": [
    "# retain only categorical variables that are available at the time of loan application\n",
    "# keep only the columns that do not appear in the given list\n",
    "cat_columns_to_keep = ['Country', 'EmploymentDurationCurrrentEmployer', 'LoanDate', 'MaturityDate_Original', 'Rating']\n",
    "cat_columns_to_drop = categorical_columns.difference(cat_columns_to_keep)\n",
    "df.drop(columns=cat_columns_to_drop, inplace=True)\n",
    "df.shape"
   ]
  },
  {
   "cell_type": "code",
   "execution_count": 8,
   "metadata": {},
   "outputs": [
    {
     "data": {
      "text/html": [
       "<div>\n",
       "<style scoped>\n",
       "    .dataframe tbody tr th:only-of-type {\n",
       "        vertical-align: middle;\n",
       "    }\n",
       "\n",
       "    .dataframe tbody tr th {\n",
       "        vertical-align: top;\n",
       "    }\n",
       "\n",
       "    .dataframe thead th {\n",
       "        text-align: right;\n",
       "    }\n",
       "</style>\n",
       "<table border=\"1\" class=\"dataframe\">\n",
       "  <thead>\n",
       "    <tr style=\"text-align: right;\">\n",
       "      <th></th>\n",
       "      <th>NewCreditCustomer</th>\n",
       "      <th>ActiveScheduleFirstPaymentReached</th>\n",
       "      <th>Restructured</th>\n",
       "    </tr>\n",
       "  </thead>\n",
       "  <tbody>\n",
       "    <tr>\n",
       "      <th>0</th>\n",
       "      <td>False</td>\n",
       "      <td>True</td>\n",
       "      <td>False</td>\n",
       "    </tr>\n",
       "    <tr>\n",
       "      <th>1</th>\n",
       "      <td>False</td>\n",
       "      <td>True</td>\n",
       "      <td>False</td>\n",
       "    </tr>\n",
       "    <tr>\n",
       "      <th>2</th>\n",
       "      <td>True</td>\n",
       "      <td>True</td>\n",
       "      <td>False</td>\n",
       "    </tr>\n",
       "    <tr>\n",
       "      <th>3</th>\n",
       "      <td>True</td>\n",
       "      <td>True</td>\n",
       "      <td>False</td>\n",
       "    </tr>\n",
       "    <tr>\n",
       "      <th>4</th>\n",
       "      <td>True</td>\n",
       "      <td>True</td>\n",
       "      <td>False</td>\n",
       "    </tr>\n",
       "  </tbody>\n",
       "</table>\n",
       "</div>"
      ],
      "text/plain": [
       "   NewCreditCustomer  ActiveScheduleFirstPaymentReached  Restructured\n",
       "0              False                               True         False\n",
       "1              False                               True         False\n",
       "2               True                               True         False\n",
       "3               True                               True         False\n",
       "4               True                               True         False"
      ]
     },
     "execution_count": 8,
     "metadata": {},
     "output_type": "execute_result"
    }
   ],
   "source": [
    "# treat bool columns\n",
    "bool_columns = df.select_dtypes(include=['bool']).columns\n",
    "df[bool_columns].head()"
   ]
  },
  {
   "cell_type": "markdown",
   "metadata": {},
   "source": [
    "We assume that new credit customer means that the person or entity applying for the loan is new to the credit market. Therefore, this is information available at the moment of application. On the other hand, information regarding the active schedule of the first payment and restructuring of the loan is future information that would be improper to use. Therefore, we know only whether the borrower is new to the credit market or not. This aspect may be useful as experienced borrowers may carry less probability of default. "
   ]
  },
  {
   "cell_type": "code",
   "execution_count": 9,
   "metadata": {},
   "outputs": [
    {
     "data": {
      "text/plain": [
       "(179235, 59)"
      ]
     },
     "execution_count": 9,
     "metadata": {},
     "output_type": "execute_result"
    }
   ],
   "source": [
    "# we keep only NewCreditCustomer\n",
    "bool_columns_to_keep = ['NewCreditCustomer']\n",
    "bool_columns_to_drop = bool_columns.difference(bool_columns_to_keep)\n",
    "df.drop(columns=bool_columns_to_drop, inplace=True)\n",
    "df.shape"
   ]
  },
  {
   "cell_type": "code",
   "execution_count": 10,
   "metadata": {},
   "outputs": [
    {
     "data": {
      "text/plain": [
       "RecoveryStage                                  2\n",
       "Gender                                         3\n",
       "VerificationType                               5\n",
       "CreditScoreEeMini                              7\n",
       "MaritalStatus                                  7\n",
       "ApplicationSignedWeekday                       7\n",
       "EmploymentStatus                               7\n",
       "Education                                      7\n",
       "ModelVersion                                   8\n",
       "PreviousEarlyRepaymentsCountBeforeLoan        11\n",
       "HomeOwnershipType                             12\n",
       "LanguageCode                                  13\n",
       "UseOfLoan                                     17\n",
       "RefinanceLiabilities                          21\n",
       "OccupationArea                                21\n",
       "ApplicationSignedHour                         24\n",
       "NoOfPreviousLoansBeforeLoan                   28\n",
       "MonthlyPaymentDay                             29\n",
       "LoanDuration                                  32\n",
       "ExistingLiabilities                           39\n",
       "NextPaymentNr                                 61\n",
       "Age                                           62\n",
       "NrOfScheduledPayments                         72\n",
       "IncomeFromChildSupport                       193\n",
       "IncomeFromFamilyAllowance                    339\n",
       "IncomeFromLeavePay                           367\n",
       "IncomeFromSocialWelfare                      401\n",
       "IncomeOther                                  583\n",
       "IncomeFromPension                           1113\n",
       "AppliedAmount                               1166\n",
       "BidsApi                                     1286\n",
       "IncomeFromPrincipalEmployer                 2922\n",
       "LossGivenDefault                            3405\n",
       "IncomeTotal                                 4459\n",
       "BidsManual                                  4461\n",
       "BidsPortfolioManager                        5803\n",
       "Amount                                      6274\n",
       "DebtToIncome                                6789\n",
       "Interest                                    6966\n",
       "AmountOfPreviousLoansBeforeLoan            15286\n",
       "FreeCash                                   23658\n",
       "MonthlyPayment                             27295\n",
       "ProbabilityOfDefault                       28853\n",
       "PrincipalOverdueBySchedule                 47389\n",
       "ExpectedLoss                               49310\n",
       "ExpectedReturn                             56598\n",
       "LiabilitiesTotal                           58954\n",
       "InterestAndPenaltyBalance                  60553\n",
       "PreviousRepaymentsBeforeLoan               62637\n",
       "PlannedInterestTillDate                    71715\n",
       "PrincipalPaymentsMade                      73312\n",
       "PrincipalBalance                           89050\n",
       "InterestAndPenaltyPaymentsMade             91502\n",
       "LoanNumber                                179235\n",
       "dtype: int64"
      ]
     },
     "execution_count": 10,
     "metadata": {},
     "output_type": "execute_result"
    }
   ],
   "source": [
    "# treat numeric columns\n",
    "numeric_columns = df.select_dtypes(include=['float64', 'int64']).columns\n",
    "\n",
    "# check variance of numeric columns\n",
    "df[numeric_columns].nunique().sort_values()"
   ]
  },
  {
   "cell_type": "markdown",
   "metadata": {},
   "source": [
    "The hour and day of the week on which someone signs an application does not carry useful information to predict the probability of default. Gender may be improper to use as it may introduce biased predictions towards a specific sex, which would produce undue discrimination."
   ]
  },
  {
   "cell_type": "code",
   "execution_count": 11,
   "metadata": {},
   "outputs": [],
   "source": [
    "# drop sensitive data (gender)\n",
    "df.drop('Gender', axis=1, inplace=True)"
   ]
  },
  {
   "cell_type": "code",
   "execution_count": 12,
   "metadata": {},
   "outputs": [
    {
     "data": {
      "text/plain": [
       "(179235, 56)"
      ]
     },
     "execution_count": 12,
     "metadata": {},
     "output_type": "execute_result"
    }
   ],
   "source": [
    "# drop application hour and day of week\n",
    "numeric_columns_to_drop = ['ApplicationSignedHour', 'ApplicationSignedWeekday']\n",
    "df.drop(columns=numeric_columns_to_drop, inplace=True)\n",
    "df.shape"
   ]
  },
  {
   "cell_type": "code",
   "execution_count": 13,
   "metadata": {},
   "outputs": [
    {
     "data": {
      "text/plain": [
       "Index(['IncomeFromPrincipalEmployer', 'IncomeFromPension',\n",
       "       'IncomeFromFamilyAllowance', 'IncomeFromSocialWelfare',\n",
       "       'IncomeFromLeavePay', 'IncomeFromChildSupport', 'IncomeOther',\n",
       "       'IncomeTotal', 'DebtToIncome'],\n",
       "      dtype='object')"
      ]
     },
     "execution_count": 13,
     "metadata": {},
     "output_type": "execute_result"
    }
   ],
   "source": [
    "# look at numeric predictors relatd to income (regex: 'Income')\n",
    "income_columns = df.filter(regex='Income').columns\n",
    "income_columns"
   ]
  },
  {
   "cell_type": "markdown",
   "metadata": {},
   "source": [
    "The total income is assumed to contain all income components. To avoid multicollinearity and redundancy of information, we keep only total income and DebtToIncome"
   ]
  },
  {
   "cell_type": "code",
   "execution_count": 14,
   "metadata": {},
   "outputs": [
    {
     "data": {
      "text/plain": [
       "(179235, 49)"
      ]
     },
     "execution_count": 14,
     "metadata": {},
     "output_type": "execute_result"
    }
   ],
   "source": [
    "income_columns_to_keep = ['IncomeTotal', 'DebtToIncome']\n",
    "income_columns_to_drop = income_columns.difference(income_columns_to_keep)\n",
    "df.drop(columns=income_columns_to_drop, inplace=True)\n",
    "df.shape"
   ]
  },
  {
   "cell_type": "code",
   "execution_count": 15,
   "metadata": {},
   "outputs": [
    {
     "data": {
      "text/plain": [
       "Index(['Age', 'Amount', 'AmountOfPreviousLoansBeforeLoan', 'AppliedAmount',\n",
       "       'BidsApi', 'BidsManual', 'BidsPortfolioManager', 'Country',\n",
       "       'CreditScoreEeMini', 'DebtToIncome', 'Education', 'EmploymentStatus',\n",
       "       'ExistingLiabilities', 'ExpectedLoss', 'ExpectedReturn', 'FreeCash',\n",
       "       'HomeOwnershipType', 'IncomeTotal', 'Interest',\n",
       "       'InterestAndPenaltyBalance', 'InterestAndPenaltyPaymentsMade',\n",
       "       'LanguageCode', 'LiabilitiesTotal', 'LoanDate', 'LoanDuration',\n",
       "       'LoanNumber', 'LossGivenDefault', 'MaritalStatus',\n",
       "       'MaturityDate_Original', 'ModelVersion', 'MonthlyPayment',\n",
       "       'MonthlyPaymentDay', 'NewCreditCustomer', 'NextPaymentNr',\n",
       "       'NoOfPreviousLoansBeforeLoan', 'NrOfScheduledPayments',\n",
       "       'OccupationArea', 'PlannedInterestTillDate',\n",
       "       'PreviousEarlyRepaymentsCountBeforeLoan',\n",
       "       'PreviousRepaymentsBeforeLoan', 'PrincipalBalance',\n",
       "       'PrincipalOverdueBySchedule', 'PrincipalPaymentsMade',\n",
       "       'ProbabilityOfDefault', 'Rating', 'RecoveryStage',\n",
       "       'RefinanceLiabilities', 'UseOfLoan', 'VerificationType'],\n",
       "      dtype='object')"
      ]
     },
     "execution_count": 15,
     "metadata": {},
     "output_type": "execute_result"
    }
   ],
   "source": [
    "df.columns.sort_values()"
   ]
  },
  {
   "cell_type": "markdown",
   "metadata": {},
   "source": [
    "Loss Given Default, Expected Loss, Principal Balance, and Recovery Stage are unknown. Therefore, they are dropped. "
   ]
  },
  {
   "cell_type": "code",
   "execution_count": 16,
   "metadata": {},
   "outputs": [
    {
     "data": {
      "text/plain": [
       "Index(['Age', 'Amount', 'AmountOfPreviousLoansBeforeLoan', 'AppliedAmount',\n",
       "       'BidsApi', 'BidsManual', 'BidsPortfolioManager', 'Country',\n",
       "       'CreditScoreEeMini', 'DebtToIncome', 'Education', 'EmploymentStatus',\n",
       "       'ExistingLiabilities', 'FreeCash', 'HomeOwnershipType', 'IncomeTotal',\n",
       "       'Interest', 'InterestAndPenaltyBalance',\n",
       "       'InterestAndPenaltyPaymentsMade', 'LanguageCode', 'LiabilitiesTotal',\n",
       "       'LoanDate', 'LoanDuration', 'LoanNumber', 'MaritalStatus',\n",
       "       'MaturityDate_Original', 'ModelVersion', 'MonthlyPayment',\n",
       "       'MonthlyPaymentDay', 'NewCreditCustomer', 'NextPaymentNr',\n",
       "       'NoOfPreviousLoansBeforeLoan', 'NrOfScheduledPayments',\n",
       "       'OccupationArea', 'PlannedInterestTillDate',\n",
       "       'PreviousEarlyRepaymentsCountBeforeLoan',\n",
       "       'PreviousRepaymentsBeforeLoan', 'PrincipalBalance',\n",
       "       'PrincipalOverdueBySchedule', 'PrincipalPaymentsMade',\n",
       "       'ProbabilityOfDefault', 'Rating', 'RefinanceLiabilities', 'UseOfLoan',\n",
       "       'VerificationType'],\n",
       "      dtype='object')"
      ]
     },
     "execution_count": 16,
     "metadata": {},
     "output_type": "execute_result"
    }
   ],
   "source": [
    "# Loss Given Default is unkown. We will drop it. We will also drop ExpectedLoss. Recovery Stage are unkown.\n",
    "df.drop(columns=['LossGivenDefault', 'ExpectedLoss', 'ExpectedReturn', 'RecoveryStage'], inplace=True)\n",
    "df.columns.sort_values()"
   ]
  },
  {
   "cell_type": "markdown",
   "metadata": {},
   "source": [
    "Also any information regarding principal is unknown."
   ]
  },
  {
   "cell_type": "code",
   "execution_count": 17,
   "metadata": {},
   "outputs": [
    {
     "data": {
      "text/plain": [
       "Index(['Age', 'Amount', 'AmountOfPreviousLoansBeforeLoan', 'AppliedAmount',\n",
       "       'BidsApi', 'BidsManual', 'BidsPortfolioManager', 'Country',\n",
       "       'CreditScoreEeMini', 'DebtToIncome', 'Education', 'EmploymentStatus',\n",
       "       'ExistingLiabilities', 'FreeCash', 'HomeOwnershipType', 'IncomeTotal',\n",
       "       'Interest', 'InterestAndPenaltyBalance',\n",
       "       'InterestAndPenaltyPaymentsMade', 'LanguageCode', 'LiabilitiesTotal',\n",
       "       'LoanDate', 'LoanDuration', 'LoanNumber', 'MaritalStatus',\n",
       "       'MaturityDate_Original', 'ModelVersion', 'MonthlyPayment',\n",
       "       'MonthlyPaymentDay', 'NewCreditCustomer', 'NextPaymentNr',\n",
       "       'NoOfPreviousLoansBeforeLoan', 'NrOfScheduledPayments',\n",
       "       'OccupationArea', 'PlannedInterestTillDate',\n",
       "       'PreviousEarlyRepaymentsCountBeforeLoan',\n",
       "       'PreviousRepaymentsBeforeLoan', 'ProbabilityOfDefault', 'Rating',\n",
       "       'RefinanceLiabilities', 'UseOfLoan', 'VerificationType'],\n",
       "      dtype='object')"
      ]
     },
     "execution_count": 17,
     "metadata": {},
     "output_type": "execute_result"
    }
   ],
   "source": [
    "principal_columns = df.filter(regex='Principal').columns\n",
    "df.drop(columns=principal_columns, inplace=True)\n",
    "df.columns.sort_values()"
   ]
  },
  {
   "cell_type": "markdown",
   "metadata": {},
   "source": [
    "Also information about bids is unavailable"
   ]
  },
  {
   "cell_type": "code",
   "execution_count": 18,
   "metadata": {},
   "outputs": [
    {
     "data": {
      "text/plain": [
       "Index(['Age', 'Amount', 'AmountOfPreviousLoansBeforeLoan', 'AppliedAmount',\n",
       "       'Country', 'CreditScoreEeMini', 'DebtToIncome', 'Education',\n",
       "       'EmploymentStatus', 'ExistingLiabilities', 'FreeCash',\n",
       "       'HomeOwnershipType', 'IncomeTotal', 'Interest',\n",
       "       'InterestAndPenaltyBalance', 'InterestAndPenaltyPaymentsMade',\n",
       "       'LanguageCode', 'LiabilitiesTotal', 'LoanDate', 'LoanDuration',\n",
       "       'LoanNumber', 'MaritalStatus', 'MaturityDate_Original', 'ModelVersion',\n",
       "       'MonthlyPayment', 'MonthlyPaymentDay', 'NewCreditCustomer',\n",
       "       'NextPaymentNr', 'NoOfPreviousLoansBeforeLoan', 'NrOfScheduledPayments',\n",
       "       'OccupationArea', 'PlannedInterestTillDate',\n",
       "       'PreviousEarlyRepaymentsCountBeforeLoan',\n",
       "       'PreviousRepaymentsBeforeLoan', 'ProbabilityOfDefault', 'Rating',\n",
       "       'RefinanceLiabilities', 'UseOfLoan', 'VerificationType'],\n",
       "      dtype='object')"
      ]
     },
     "execution_count": 18,
     "metadata": {},
     "output_type": "execute_result"
    }
   ],
   "source": [
    "bids_columns = df.filter(regex='Bids').columns\n",
    "df.drop(columns=bids_columns, inplace=True)\n",
    "df.columns.sort_values()"
   ]
  },
  {
   "cell_type": "markdown",
   "metadata": {},
   "source": [
    "Amount and applied amount convey the same information. Let's see which has less missing data. We keep Amount and the sum of loan amounts for loans before the current loan"
   ]
  },
  {
   "cell_type": "code",
   "execution_count": 19,
   "metadata": {},
   "outputs": [
    {
     "data": {
      "text/plain": [
       "Index(['Age', 'Amount', 'AmountOfPreviousLoansBeforeLoan', 'Country',\n",
       "       'CreditScoreEeMini', 'DebtToIncome', 'Education', 'EmploymentStatus',\n",
       "       'ExistingLiabilities', 'FreeCash', 'HomeOwnershipType', 'IncomeTotal',\n",
       "       'Interest', 'InterestAndPenaltyBalance',\n",
       "       'InterestAndPenaltyPaymentsMade', 'LanguageCode', 'LiabilitiesTotal',\n",
       "       'LoanDate', 'LoanDuration', 'LoanNumber', 'MaritalStatus',\n",
       "       'MaturityDate_Original', 'ModelVersion', 'MonthlyPayment',\n",
       "       'MonthlyPaymentDay', 'NewCreditCustomer', 'NextPaymentNr',\n",
       "       'NoOfPreviousLoansBeforeLoan', 'NrOfScheduledPayments',\n",
       "       'OccupationArea', 'PlannedInterestTillDate',\n",
       "       'PreviousEarlyRepaymentsCountBeforeLoan',\n",
       "       'PreviousRepaymentsBeforeLoan', 'ProbabilityOfDefault', 'Rating',\n",
       "       'RefinanceLiabilities', 'UseOfLoan', 'VerificationType'],\n",
       "      dtype='object')"
      ]
     },
     "execution_count": 19,
     "metadata": {},
     "output_type": "execute_result"
    }
   ],
   "source": [
    "amount_columns = df.filter(regex='Amount').columns\n",
    "amount_columns_to_keep = ['Amount', 'AmountOfPreviousLoansBeforeLoan']\n",
    "amount_columns_to_drop = amount_columns.difference(amount_columns_to_keep)\n",
    "df.drop(columns=amount_columns_to_drop, inplace=True)\n",
    "df.columns.sort_values()"
   ]
  },
  {
   "cell_type": "code",
   "execution_count": 20,
   "metadata": {},
   "outputs": [
    {
     "data": {
      "text/plain": [
       "Index(['Interest', 'PlannedInterestTillDate', 'InterestAndPenaltyPaymentsMade',\n",
       "       'InterestAndPenaltyBalance'],\n",
       "      dtype='object')"
      ]
     },
     "execution_count": 20,
     "metadata": {},
     "output_type": "execute_result"
    }
   ],
   "source": [
    "# interest columns\n",
    "interest_columns = df.filter(regex='Interest').columns\n",
    "interest_columns "
   ]
  },
  {
   "cell_type": "code",
   "execution_count": 21,
   "metadata": {},
   "outputs": [
    {
     "data": {
      "text/plain": [
       "Interest                             0\n",
       "PlannedInterestTillDate           1974\n",
       "InterestAndPenaltyPaymentsMade       0\n",
       "InterestAndPenaltyBalance         5232\n",
       "dtype: int64"
      ]
     },
     "execution_count": 21,
     "metadata": {},
     "output_type": "execute_result"
    }
   ],
   "source": [
    "df[interest_columns].isnull().sum()"
   ]
  },
  {
   "cell_type": "code",
   "execution_count": 22,
   "metadata": {},
   "outputs": [
    {
     "data": {
      "text/plain": [
       "False"
      ]
     },
     "execution_count": 22,
     "metadata": {},
     "output_type": "execute_result"
    }
   ],
   "source": [
    "# check whether the non-null values are the same between Interest and PlannedInterestTillDate\n",
    "df['Interest'].notnull().equals(df['PlannedInterestTillDate'].notnull())"
   ]
  },
  {
   "cell_type": "markdown",
   "metadata": {},
   "source": [
    "The column Interest is assumed to be the contractually agreed interest rate. The planned interest till date is assumed to convey the same information as Interest. Therefore, Planned Interest Till Date is dropped. The other interest-related variables are leaky. Therefore, we drop them as well. "
   ]
  },
  {
   "cell_type": "code",
   "execution_count": 23,
   "metadata": {},
   "outputs": [
    {
     "data": {
      "text/plain": [
       "Index(['Age', 'Amount', 'AmountOfPreviousLoansBeforeLoan', 'Country',\n",
       "       'CreditScoreEeMini', 'DebtToIncome', 'Education', 'EmploymentStatus',\n",
       "       'ExistingLiabilities', 'FreeCash', 'HomeOwnershipType', 'IncomeTotal',\n",
       "       'Interest', 'LanguageCode', 'LiabilitiesTotal', 'LoanDate',\n",
       "       'LoanDuration', 'LoanNumber', 'MaritalStatus', 'MaturityDate_Original',\n",
       "       'ModelVersion', 'MonthlyPayment', 'MonthlyPaymentDay',\n",
       "       'NewCreditCustomer', 'NextPaymentNr', 'NoOfPreviousLoansBeforeLoan',\n",
       "       'NrOfScheduledPayments', 'OccupationArea',\n",
       "       'PreviousEarlyRepaymentsCountBeforeLoan',\n",
       "       'PreviousRepaymentsBeforeLoan', 'ProbabilityOfDefault', 'Rating',\n",
       "       'RefinanceLiabilities', 'UseOfLoan', 'VerificationType'],\n",
       "      dtype='object')"
      ]
     },
     "execution_count": 23,
     "metadata": {},
     "output_type": "execute_result"
    }
   ],
   "source": [
    "interest_columns_to_keep = ['Interest']\n",
    "interest_columns_to_drop = interest_columns.difference(interest_columns_to_keep)\n",
    "df.drop(columns=interest_columns_to_drop, inplace=True)\n",
    "df.columns.sort_values()"
   ]
  },
  {
   "cell_type": "code",
   "execution_count": 24,
   "metadata": {},
   "outputs": [
    {
     "data": {
      "text/plain": [
       "Index(['ExistingLiabilities', 'LiabilitiesTotal', 'RefinanceLiabilities'], dtype='object')"
      ]
     },
     "execution_count": 24,
     "metadata": {},
     "output_type": "execute_result"
    }
   ],
   "source": [
    "# check liabilities columns\n",
    "liabilities_columns = df.filter(regex='Liabilities').columns\n",
    "liabilities_columns"
   ]
  },
  {
   "cell_type": "markdown",
   "metadata": {},
   "source": [
    "To avoid information redundancy and multicollineariy, we keep only the total amount of liabilities."
   ]
  },
  {
   "cell_type": "code",
   "execution_count": 25,
   "metadata": {},
   "outputs": [
    {
     "data": {
      "text/plain": [
       "Index(['Age', 'Amount', 'AmountOfPreviousLoansBeforeLoan', 'Country',\n",
       "       'CreditScoreEeMini', 'DebtToIncome', 'Education', 'EmploymentStatus',\n",
       "       'FreeCash', 'HomeOwnershipType', 'IncomeTotal', 'Interest',\n",
       "       'LanguageCode', 'LiabilitiesTotal', 'LoanDate', 'LoanDuration',\n",
       "       'LoanNumber', 'MaritalStatus', 'MaturityDate_Original', 'ModelVersion',\n",
       "       'MonthlyPayment', 'MonthlyPaymentDay', 'NewCreditCustomer',\n",
       "       'NextPaymentNr', 'NoOfPreviousLoansBeforeLoan', 'NrOfScheduledPayments',\n",
       "       'OccupationArea', 'PreviousEarlyRepaymentsCountBeforeLoan',\n",
       "       'PreviousRepaymentsBeforeLoan', 'ProbabilityOfDefault', 'Rating',\n",
       "       'UseOfLoan', 'VerificationType'],\n",
       "      dtype='object')"
      ]
     },
     "execution_count": 25,
     "metadata": {},
     "output_type": "execute_result"
    }
   ],
   "source": [
    "# keep only LiabilitiesTotal\n",
    "liabilities_columns_to_keep = ['LiabilitiesTotal']\n",
    "liabilities_columns_to_drop = liabilities_columns.difference(liabilities_columns_to_keep)\n",
    "df.drop(columns=liabilities_columns_to_drop, inplace=True)\n",
    "df.columns.sort_values()"
   ]
  },
  {
   "cell_type": "markdown",
   "metadata": {},
   "source": [
    "The number of the next payment is not clear in meaning. Therefore, we drop it."
   ]
  },
  {
   "cell_type": "code",
   "execution_count": 26,
   "metadata": {},
   "outputs": [
    {
     "data": {
      "text/plain": [
       "Index(['Age', 'Amount', 'AmountOfPreviousLoansBeforeLoan', 'Country',\n",
       "       'CreditScoreEeMini', 'DebtToIncome', 'Education', 'EmploymentStatus',\n",
       "       'FreeCash', 'HomeOwnershipType', 'IncomeTotal', 'Interest',\n",
       "       'LanguageCode', 'LiabilitiesTotal', 'LoanDate', 'LoanDuration',\n",
       "       'LoanNumber', 'MaritalStatus', 'MaturityDate_Original', 'ModelVersion',\n",
       "       'MonthlyPayment', 'MonthlyPaymentDay', 'NewCreditCustomer',\n",
       "       'NoOfPreviousLoansBeforeLoan', 'NrOfScheduledPayments',\n",
       "       'OccupationArea', 'PreviousEarlyRepaymentsCountBeforeLoan',\n",
       "       'PreviousRepaymentsBeforeLoan', 'ProbabilityOfDefault', 'Rating',\n",
       "       'UseOfLoan', 'VerificationType'],\n",
       "      dtype='object')"
      ]
     },
     "execution_count": 26,
     "metadata": {},
     "output_type": "execute_result"
    }
   ],
   "source": [
    "# drop NextPaymentNr\n",
    "df.drop(columns='NextPaymentNr', inplace=True)\n",
    "df.columns.sort_values()"
   ]
  },
  {
   "cell_type": "markdown",
   "metadata": {},
   "source": [
    "We also do not include the monthly payment date since it is not deemed informative"
   ]
  },
  {
   "cell_type": "code",
   "execution_count": 27,
   "metadata": {},
   "outputs": [
    {
     "data": {
      "text/plain": [
       "Index(['Age', 'Amount', 'AmountOfPreviousLoansBeforeLoan', 'Country',\n",
       "       'CreditScoreEeMini', 'DebtToIncome', 'Education', 'EmploymentStatus',\n",
       "       'FreeCash', 'HomeOwnershipType', 'IncomeTotal', 'Interest',\n",
       "       'LanguageCode', 'LiabilitiesTotal', 'LoanDate', 'LoanDuration',\n",
       "       'LoanNumber', 'MaritalStatus', 'MaturityDate_Original', 'ModelVersion',\n",
       "       'MonthlyPayment', 'NewCreditCustomer', 'NoOfPreviousLoansBeforeLoan',\n",
       "       'NrOfScheduledPayments', 'OccupationArea',\n",
       "       'PreviousEarlyRepaymentsCountBeforeLoan',\n",
       "       'PreviousRepaymentsBeforeLoan', 'ProbabilityOfDefault', 'Rating',\n",
       "       'UseOfLoan', 'VerificationType'],\n",
       "      dtype='object')"
      ]
     },
     "execution_count": 27,
     "metadata": {},
     "output_type": "execute_result"
    }
   ],
   "source": [
    "# drop monthly payment date\n",
    "df.drop(columns='MonthlyPaymentDay', inplace=True)\n",
    "df.columns.sort_values()"
   ]
  },
  {
   "cell_type": "markdown",
   "metadata": {},
   "source": [
    "We exclude also the date when the loan ends as it is irrelevant for prediction and the contractually agreed duration of a loan is already available as a variable. We do keep the loan date as it is assumed to be the date on which the loan enters the secondary market. "
   ]
  },
  {
   "cell_type": "code",
   "execution_count": 28,
   "metadata": {},
   "outputs": [
    {
     "data": {
      "text/plain": [
       "Index(['Age', 'Amount', 'AmountOfPreviousLoansBeforeLoan', 'Country',\n",
       "       'CreditScoreEeMini', 'DebtToIncome', 'Duration', 'Education',\n",
       "       'EmploymentStatus', 'FreeCash', 'HomeOwnershipType', 'IncomeTotal',\n",
       "       'Interest', 'LanguageCode', 'LiabilitiesTotal', 'LoanDuration',\n",
       "       'LoanNumber', 'MaritalStatus', 'ModelVersion', 'MonthlyPayment',\n",
       "       'NewCreditCustomer', 'NoOfPreviousLoansBeforeLoan',\n",
       "       'NrOfScheduledPayments', 'OccupationArea',\n",
       "       'PreviousEarlyRepaymentsCountBeforeLoan',\n",
       "       'PreviousRepaymentsBeforeLoan', 'ProbabilityOfDefault', 'Rating',\n",
       "       'UseOfLoan', 'VerificationType'],\n",
       "      dtype='object')"
      ]
     },
     "execution_count": 28,
     "metadata": {},
     "output_type": "execute_result"
    }
   ],
   "source": [
    "# take the difference between the two dates: LoanDate and MaturityDate_Original in months\n",
    "df['LoanDate'] = pd.to_datetime(df['LoanDate'])\n",
    "df['MaturityDate_Original'] = pd.to_datetime(df['MaturityDate_Original'])\n",
    "df['Duration'] = (df['MaturityDate_Original'] - df['LoanDate'])\n",
    "df['Duration'] = df['Duration'].dt.days / 30 # convert to months\n",
    "df.drop(columns=['LoanDate', 'MaturityDate_Original'], inplace=True)\n",
    "df.columns.sort_values()"
   ]
  },
  {
   "cell_type": "markdown",
   "metadata": {},
   "source": [
    "Convert variables that are supposed to be categorical to categorical."
   ]
  },
  {
   "cell_type": "code",
   "execution_count": 29,
   "metadata": {},
   "outputs": [
    {
     "data": {
      "text/plain": [
       "Index(['Country', 'Rating'], dtype='object')"
      ]
     },
     "execution_count": 29,
     "metadata": {},
     "output_type": "execute_result"
    }
   ],
   "source": [
    "# check categorical predictors\n",
    "categorical_columns = df.select_dtypes(include=['object']).columns\n",
    "categorical_columns"
   ]
  },
  {
   "cell_type": "code",
   "execution_count": 30,
   "metadata": {},
   "outputs": [
    {
     "data": {
      "text/plain": [
       "VerificationType\n",
       "4.0    115157\n",
       "1.0     52764\n",
       "3.0      9428\n",
       "2.0      1828\n",
       "0.0         8\n",
       "Name: count, dtype: int64"
      ]
     },
     "execution_count": 30,
     "metadata": {},
     "output_type": "execute_result"
    }
   ],
   "source": [
    "df['VerificationType'].value_counts()"
   ]
  },
  {
   "cell_type": "markdown",
   "metadata": {},
   "source": [
    "Also the type of home ownership, the language code, Model Version, Marital Status, Occupation Area, Use of Loan and Verification Type should be categorical.\n",
    "Let's change the datatype to category (but keeping existing missing data)."
   ]
  },
  {
   "cell_type": "code",
   "execution_count": 31,
   "metadata": {},
   "outputs": [
    {
     "data": {
      "text/plain": [
       "LoanNumber                                   int64\n",
       "NewCreditCustomer                             bool\n",
       "VerificationType                          category\n",
       "LanguageCode                              category\n",
       "Age                                          int64\n",
       "Country                                     object\n",
       "Amount                                     float64\n",
       "Interest                                   float64\n",
       "LoanDuration                                 int64\n",
       "MonthlyPayment                             float64\n",
       "UseOfLoan                                 category\n",
       "Education                                  float64\n",
       "MaritalStatus                             category\n",
       "EmploymentStatus                           float64\n",
       "OccupationArea                            category\n",
       "HomeOwnershipType                         category\n",
       "IncomeTotal                                float64\n",
       "LiabilitiesTotal                           float64\n",
       "DebtToIncome                               float64\n",
       "FreeCash                                   float64\n",
       "ProbabilityOfDefault                       float64\n",
       "ModelVersion                              category\n",
       "Rating                                      object\n",
       "CreditScoreEeMini                          float64\n",
       "NoOfPreviousLoansBeforeLoan                float64\n",
       "AmountOfPreviousLoansBeforeLoan            float64\n",
       "PreviousRepaymentsBeforeLoan               float64\n",
       "PreviousEarlyRepaymentsCountBeforeLoan     float64\n",
       "NrOfScheduledPayments                      float64\n",
       "Duration                                   float64\n",
       "dtype: object"
      ]
     },
     "execution_count": 31,
     "metadata": {},
     "output_type": "execute_result"
    }
   ],
   "source": [
    "# transfom HomeOwnershipType, LanguageCode, MaritalStatus, ModelVersion, OccupationArea, UseOfLoan, VerificationType into categorical variables\n",
    "# by keeping the missing data\n",
    "df['HomeOwnershipType'] = df['HomeOwnershipType'].astype('category')\n",
    "df['LanguageCode'] = df['LanguageCode'].astype('category')\n",
    "df['MaritalStatus'] = df['MaritalStatus'].astype('category')\n",
    "df['ModelVersion'] = df['ModelVersion'].astype('category')\n",
    "df['OccupationArea'] = df['OccupationArea'].astype('category')\n",
    "df['UseOfLoan'] = df['UseOfLoan'].astype('category')\n",
    "df['VerificationType'] = df['VerificationType'].astype('category')\n",
    "df.dtypes"
   ]
  }
 ],
 "metadata": {
  "kernelspec": {
   "display_name": "python39",
   "language": "python",
   "name": "python3"
  },
  "language_info": {
   "codemirror_mode": {
    "name": "ipython",
    "version": 3
   },
   "file_extension": ".py",
   "mimetype": "text/x-python",
   "name": "python",
   "nbconvert_exporter": "python",
   "pygments_lexer": "ipython3",
   "version": "3.9.18"
  }
 },
 "nbformat": 4,
 "nbformat_minor": 2
}
